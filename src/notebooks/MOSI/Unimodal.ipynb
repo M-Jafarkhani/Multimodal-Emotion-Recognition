{
  "cells": [
    {
      "cell_type": "code",
      "execution_count": 1,
      "metadata": {
        "colab": {
          "base_uri": "https://localhost:8080/"
        },
        "id": "KYSzl-AZhYqs",
        "outputId": "99713d87-30eb-4ad2-c562-21627d57253b"
      },
      "outputs": [
        {
          "name": "stdout",
          "output_type": "stream",
          "text": [
            "Cloning into 'Multimodal-Sentiment-Analysis'...\n",
            "remote: Enumerating objects: 340, done.\u001b[K\n",
            "remote: Counting objects: 100% (199/199), done.\u001b[K\n",
            "remote: Compressing objects: 100% (132/132), done.\u001b[K\n",
            "remote: Total 340 (delta 88), reused 140 (delta 48), pack-reused 141 (from 1)\u001b[K\n",
            "Receiving objects: 100% (340/340), 279.89 MiB | 16.51 MiB/s, done.\n",
            "Resolving deltas: 100% (126/126), done.\n",
            "Updating files: 100% (56/56), done.\n"
          ]
        }
      ],
      "source": [
        "!git clone https://github.com/M-Jafarkhani/Multimodal-Sentiment-Analysis"
      ]
    },
    {
      "cell_type": "code",
      "execution_count": 6,
      "metadata": {
        "colab": {
          "base_uri": "https://localhost:8080/"
        },
        "id": "C6y411eCkTtW",
        "outputId": "13b68f51-826c-4a4d-d3af-46baf787b513"
      },
      "outputs": [
        {
          "name": "stdout",
          "output_type": "stream",
          "text": [
            "Collecting memory_profiler\n",
            "  Downloading memory_profiler-0.61.0-py3-none-any.whl.metadata (20 kB)\n",
            "Requirement already satisfied: psutil in /usr/local/lib/python3.10/dist-packages (from memory_profiler) (5.9.5)\n",
            "Downloading memory_profiler-0.61.0-py3-none-any.whl (31 kB)\n",
            "Installing collected packages: memory_profiler\n",
            "Successfully installed memory_profiler-0.61.0\n"
          ]
        }
      ],
      "source": [
        "!pip install memory_profiler"
      ]
    },
    {
      "cell_type": "code",
      "execution_count": 2,
      "metadata": {
        "colab": {
          "base_uri": "https://localhost:8080/",
          "height": 125
        },
        "id": "dPVJPm3iTSG_",
        "outputId": "0a62ac39-e1e0-4973-eb1a-4cc71d8e2e81"
      },
      "outputs": [
        {
          "name": "stderr",
          "output_type": "stream",
          "text": [
            "Downloading...\n",
            "From (original): https://drive.google.com/uc?id=1szKIqO0t3Be_W91xvf6aYmsVVUa7wDHU\n",
            "From (redirected): https://drive.google.com/uc?id=1szKIqO0t3Be_W91xvf6aYmsVVUa7wDHU&confirm=t&uuid=ba1f6c02-08f8-49a8-b6c4-e4c9daf59915\n",
            "To: /content/mosi_raw.pkl\n",
            "100%|██████████| 357M/357M [00:03<00:00, 118MB/s]\n"
          ]
        },
        {
          "data": {
            "application/vnd.google.colaboratory.intrinsic+json": {
              "type": "string"
            },
            "text/plain": [
              "'mosi_raw.pkl'"
            ]
          },
          "execution_count": 2,
          "metadata": {},
          "output_type": "execute_result"
        }
      ],
      "source": [
        "import gdown\n",
        "\n",
        "# File ID and destination\n",
        "file_id = \"1szKIqO0t3Be_W91xvf6aYmsVVUa7wDHU\"\n",
        "destination = \"mosi_raw.pkl\"  # Name to save the file as\n",
        "\n",
        "# Download the file\n",
        "gdown.download(\n",
        "    f\"https://drive.google.com/uc?id={file_id}\", destination, quiet=False)"
      ]
    },
    {
      "cell_type": "code",
      "execution_count": 3,
      "metadata": {
        "id": "sC___ekEm3os"
      },
      "outputs": [],
      "source": [
        "import sys\n",
        "import torch\n",
        "import matplotlib.pyplot as plt\n",
        "\n",
        "sys.path.append('/content/Multimodal-Sentiment-Analysis/src')"
      ]
    },
    {
      "cell_type": "code",
      "execution_count": 7,
      "metadata": {
        "id": "YPqzgJJVhmrM"
      },
      "outputs": [],
      "source": [
        "from loader import get_dataloader\n",
        "from unimodals.modules import GRU, MLP\n",
        "from training.unimodal import train, test\n",
        "from utils import get_default_device, save_results"
      ]
    },
    {
      "cell_type": "code",
      "execution_count": 8,
      "metadata": {
        "id": "fjwNto-UkYsP"
      },
      "outputs": [],
      "source": [
        "traindata, validdata, testdata = get_dataloader(\n",
        "    '/content/mosi_raw.pkl', max_pad=True, data_type='mosi', max_seq_len=50)"
      ]
    },
    {
      "cell_type": "code",
      "execution_count": 9,
      "metadata": {
        "id": "F-ul_7Fqljbd"
      },
      "outputs": [],
      "source": [
        "FILE_NAME = 'mosi_uni_r0'"
      ]
    },
    {
      "cell_type": "code",
      "execution_count": 10,
      "metadata": {
        "colab": {
          "base_uri": "https://localhost:8080/"
        },
        "id": "cBg6oFW8T9FR",
        "outputId": "3bfce715-478f-4d13-bd24-71303b857ced"
      },
      "outputs": [
        {
          "name": "stdout",
          "output_type": "stream",
          "text": [
            "cpu\n"
          ]
        }
      ],
      "source": [
        "device = get_default_device()\n",
        "print(device)"
      ]
    },
    {
      "cell_type": "code",
      "execution_count": 11,
      "metadata": {
        "id": "K7KnX_vDT7Uf"
      },
      "outputs": [],
      "source": [
        "modality_num = 2\n",
        "\n",
        "encoder = GRU(\n",
        "    300, 600, dropout=True, has_padding=False, batch_first=True, last_only=True\n",
        ").to(device)\n",
        "\n",
        "head = MLP(600, 512, 1).to(device)\n"
      ]
    },
    {
      "cell_type": "code",
      "execution_count": null,
      "metadata": {
        "id": "U2PEJEgYllya"
      },
      "outputs": [],
      "source": [
        "train_losses, valid_losses = train(\n",
        "    encoder,\n",
        "    head,\n",
        "    traindata,\n",
        "    validdata,\n",
        "    500,\n",
        "    task=\"regression\",\n",
        "    optimtype=torch.optim.AdamW,\n",
        "    lr=2e-3,\n",
        "    weight_decay=0.01,\n",
        "    criterion=torch.nn.L1Loss(),\n",
        "    save_encoder=f\"/content/Multimodal-Sentiment-Analysis/models/{FILE_NAME}_encoder.pt\",\n",
        "    save_head=f\"/content/Multimodal-Sentiment-Analysis/models{FILE_NAME}_head.pt\",\n",
        "    modalnum=modality_num,\n",
        ")\n"
      ]
    },
    {
      "cell_type": "code",
      "execution_count": null,
      "metadata": {
        "colab": {
          "base_uri": "https://localhost:8080/",
          "height": 490
        },
        "id": "52L2-Mlsm9XR",
        "outputId": "66c37f67-5591-4ebd-d345-c3446e6433f1"
      },
      "outputs": [
        {
          "data": {
            "text/plain": [
              "Text(0.5, 1.0, 'Loss vs. No. of epochs')"
            ]
          },
          "execution_count": 19,
          "metadata": {},
          "output_type": "execute_result"
        },
        {
          "data": {
            "image/png": "[encoded data removed]",
            "text/plain": [
              "<Figure size 640x480 with 1 Axes>"
            ]
          },
          "metadata": {},
          "output_type": "display_data"
        }
      ],
      "source": [
        "plt.plot(train_losses, label='Train Loss')\n",
        "plt.plot(valid_losses, label='Validation Loss')\n",
        "plt.xlabel('Epochs')\n",
        "plt.ylabel('Loss')\n",
        "plt.legend()\n",
        "plt.grid(True)\n",
        "plt.title('Loss vs. No. of epochs')"
      ]
    },
    {
      "cell_type": "code",
      "execution_count": null,
      "metadata": {
        "id": "M3tm8mBInErP"
      },
      "outputs": [],
      "source": [
        "save_results(train_losses, valid_losses, f'/content/Multimodal-Sentiment-Analysis/results/{FILE_NAME}.pkl')"
      ]
    },
    {
      "cell_type": "code",
      "execution_count": null,
      "metadata": {
        "id": "fSnB-YCgnOsC"
      },
      "outputs": [],
      "source": [
        "encoder = torch.load(\n",
        "    f\"/content/Multimodal-Sentiment-Analysis/models/{FILE_NAME}_encoder.pt\"\n",
        ").to(device)\n",
        "head = torch.load(\n",
        "    f\"/content/Multimodal-Sentiment-Analysis/models/{FILE_NAME}_head.pt\"\n",
        ").to(device)\n",
        "\n",
        "test(\n",
        "    encoder,\n",
        "    head,\n",
        "    testdata,\n",
        "    criterion=torch.nn.L1Loss(),\n",
        "    task=\"posneg-classification\",\n",
        "    modalnum=modality_num,\n",
        ")"
      ]
    }
  ],
  "metadata": {
    "accelerator": "GPU",
    "colab": {
      "gpuType": "T4",
      "provenance": []
    },
    "kernelspec": {
      "display_name": "Python 3",
      "name": "python3"
    },
    "language_info": {
      "name": "python"
    }
  },
  "nbformat": 4,
  "nbformat_minor": 0
}
