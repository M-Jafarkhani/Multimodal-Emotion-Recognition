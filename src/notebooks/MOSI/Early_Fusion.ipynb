{
  "cells": [
    {
      "cell_type": "markdown",
      "id": "067cb8f5-a1c8-40d0-8524-0b28f8e4b586",
      "metadata": {
        "id": "067cb8f5-a1c8-40d0-8524-0b28f8e4b586"
      },
      "source": [
        "# Early Fusion Model - CMU-MOSI Dataset"
      ]
    },
    {
      "cell_type": "code",
      "execution_count": 1,
      "id": "7-DDwPasYH59",
      "metadata": {
        "colab": {
          "base_uri": "https://localhost:8080/"
        },
        "id": "7-DDwPasYH59",
        "outputId": "2412a397-ee0c-4bb6-ccf9-b35cf2fa720a"
      },
      "outputs": [
        {
          "name": "stdout",
          "output_type": "stream",
          "text": [
            "Cloning into 'Multimodal-Sentiment-Analysis'...\n",
            "remote: Enumerating objects: 535, done.\u001b[K\n",
            "remote: Counting objects: 100% (14/14), done.\u001b[K\n",
            "remote: Compressing objects: 100% (14/14), done.\u001b[K\n",
            "remote: Total 535 (delta 0), reused 11 (delta 0), pack-reused 521 (from 2)\u001b[K\n",
            "Receiving objects: 100% (535/535), 347.93 MiB | 47.89 MiB/s, done.\n",
            "Resolving deltas: 100% (237/237), done.\n"
          ]
        }
      ],
      "source": [
        "!git clone https://github.com/M-Jafarkhani/Multimodal-Sentiment-Analysis"
      ]
    },
    {
      "cell_type": "code",
      "execution_count": 3,
      "id": "JUkzYAgVYQdR",
      "metadata": {
        "colab": {
          "base_uri": "https://localhost:8080/",
          "height": 125
        },
        "id": "JUkzYAgVYQdR",
        "outputId": "26783b5d-129f-4b96-ed16-541f3e86633a"
      },
      "outputs": [
        {
          "name": "stderr",
          "output_type": "stream",
          "text": [
            "Downloading...\n",
            "From (original): https://drive.google.com/uc?id=1szKIqO0t3Be_W91xvf6aYmsVVUa7wDHU\n",
            "From (redirected): https://drive.google.com/uc?id=1szKIqO0t3Be_W91xvf6aYmsVVUa7wDHU&confirm=t&uuid=ad6321db-622e-4c0d-99fe-4d2f29f64bf8\n",
            "To: /content/mosi_raw.pkl\n",
            "100%|██████████| 357M/357M [00:02<00:00, 170MB/s]\n"
          ]
        },
        {
          "data": {
            "application/vnd.google.colaboratory.intrinsic+json": {
              "type": "string"
            },
            "text/plain": [
              "'mosi_raw.pkl'"
            ]
          },
          "execution_count": 3,
          "metadata": {},
          "output_type": "execute_result"
        }
      ],
      "source": [
        "import gdown\n",
        "\n",
        "file_id = \"1szKIqO0t3Be_W91xvf6aYmsVVUa7wDHU\"\n",
        "destination = \"mosi_raw.pkl\"\n",
        "\n",
        "gdown.download(\n",
        "    f\"https://drive.google.com/uc?id={file_id}\", destination, quiet=False)"
      ]
    },
    {
      "cell_type": "markdown",
      "id": "fc015c8e-f315-40d9-823c-6fc3626a4510",
      "metadata": {
        "id": "fc015c8e-f315-40d9-823c-6fc3626a4510"
      },
      "source": [
        "## Importing Libraries"
      ]
    },
    {
      "cell_type": "code",
      "execution_count": 4,
      "id": "d4a4adae-a451-493d-9ddb-0efb28537923",
      "metadata": {
        "id": "d4a4adae-a451-493d-9ddb-0efb28537923"
      },
      "outputs": [],
      "source": [
        "import sys\n",
        "import torch\n",
        "import matplotlib.pyplot as plt\n",
        "\n",
        "sys.path.append('/content/Multimodal-Sentiment-Analysis/src')"
      ]
    },
    {
      "cell_type": "markdown",
      "id": "52a35966-1fba-4107-a1fc-1137f26224bf",
      "metadata": {
        "id": "52a35966-1fba-4107-a1fc-1137f26224bf"
      },
      "source": [
        "## Importing Helper Functions"
      ]
    },
    {
      "cell_type": "code",
      "execution_count": 5,
      "id": "b8d45f84-62c1-4315-9010-45d345dda90d",
      "metadata": {
        "id": "b8d45f84-62c1-4315-9010-45d345dda90d"
      },
      "outputs": [],
      "source": [
        "from loader import get_dataloader\n",
        "from unimodals.modules import GRU, MLP, Sequential, Identity\n",
        "from training.supervised import train, test\n",
        "from fusions.modules import ConcatEarly\n",
        "from utils import get_default_device, save_results"
      ]
    },
    {
      "cell_type": "markdown",
      "id": "8dc9b148-2e2f-4cfa-a7d4-d53b639f5b18",
      "metadata": {
        "id": "8dc9b148-2e2f-4cfa-a7d4-d53b639f5b18"
      },
      "source": [
        "## Loading the Dataset"
      ]
    },
    {
      "cell_type": "code",
      "execution_count": 6,
      "id": "7f193c63-0bfb-4248-a2a8-e81ca20a7c14",
      "metadata": {
        "id": "7f193c63-0bfb-4248-a2a8-e81ca20a7c14"
      },
      "outputs": [],
      "source": [
        "train_data, valid_data, test_data = get_dataloader('/content/mosi_raw.pkl', max_pad=True, max_seq_len=50)"
      ]
    },
    {
      "cell_type": "code",
      "execution_count": 7,
      "id": "75b021aa-09ec-4739-92d3-028a0ed54287",
      "metadata": {
        "colab": {
          "base_uri": "https://localhost:8080/"
        },
        "id": "75b021aa-09ec-4739-92d3-028a0ed54287",
        "outputId": "e442ea48-4950-4a63-f1d3-45654f7da71d"
      },
      "outputs": [
        {
          "name": "stdout",
          "output_type": "stream",
          "text": [
            "cuda\n"
          ]
        }
      ],
      "source": [
        "device = get_default_device()\n",
        "print(device)"
      ]
    },
    {
      "cell_type": "markdown",
      "id": "a1b80fea-4d34-4db8-a1ed-9ca4e853bbd4",
      "metadata": {
        "id": "a1b80fea-4d34-4db8-a1ed-9ca4e853bbd4"
      },
      "source": [
        "## Model Architecture"
      ]
    },
    {
      "cell_type": "code",
      "execution_count": 8,
      "id": "59286eb3-949a-4afb-b4f4-0b115b885f92",
      "metadata": {
        "id": "59286eb3-949a-4afb-b4f4-0b115b885f92"
      },
      "outputs": [],
      "source": [
        "encoders = [Identity().to(device), Identity().to(device), Identity().to(device)]\n",
        "head = Sequential(\n",
        "    GRU(\n",
        "        409,\n",
        "        512,\n",
        "        dropout=True,\n",
        "        has_padding=False,\n",
        "        batch_first=True,\n",
        "        last_only=True,\n",
        "    ),\n",
        "    MLP(512, 512, 1),\n",
        ").to(device)\n"
      ]
    },
    {
      "cell_type": "code",
      "execution_count": 9,
      "id": "63408731-2f89-4f01-b1d4-c169817fd8a8",
      "metadata": {
        "id": "63408731-2f89-4f01-b1d4-c169817fd8a8"
      },
      "outputs": [],
      "source": [
        "fusion = ConcatEarly().to(device)"
      ]
    },
    {
      "cell_type": "markdown",
      "id": "4575e9d5-572c-4810-ba00-030f8ded6f05",
      "metadata": {
        "id": "4575e9d5-572c-4810-ba00-030f8ded6f05"
      },
      "source": [
        "## Training"
      ]
    },
    {
      "cell_type": "code",
      "execution_count": 10,
      "id": "f0b5dfe9-6677-4494-a013-7343ed43b731",
      "metadata": {
        "id": "f0b5dfe9-6677-4494-a013-7343ed43b731"
      },
      "outputs": [],
      "source": [
        "OUTPUT_MODEL_FILE_NAME = 'MOSI_Early_Fusion'"
      ]
    },
    {
      "cell_type": "code",
      "execution_count": 11,
      "id": "d9a645da-32a4-419a-9d64-2f499da509ac",
      "metadata": {
        "colab": {
          "base_uri": "https://localhost:8080/"
        },
        "id": "d9a645da-32a4-419a-9d64-2f499da509ac",
        "outputId": "f9b6cff5-4262-48c8-8def-4e44947b44f1"
      },
      "outputs": [
        {
          "name": "stdout",
          "output_type": "stream",
          "text": [
            "Epoch [1/100]\n",
            "Train Loss: 1.3447\n",
            "Valid Loss: 1.3735\n",
            "Saving Best\n",
            "\n",
            "Epoch [2/100]\n",
            "Train Loss: 1.3230\n",
            "Valid Loss: 1.3909\n",
            "\n",
            "Epoch [3/100]\n",
            "Train Loss: 1.3182\n",
            "Valid Loss: 1.3820\n",
            "\n",
            "Epoch [4/100]\n",
            "Train Loss: 1.3142\n",
            "Valid Loss: 1.3875\n",
            "\n",
            "Epoch [5/100]\n",
            "Train Loss: 1.3169\n",
            "Valid Loss: 1.3684\n",
            "Saving Best\n",
            "\n",
            "Epoch [6/100]\n",
            "Train Loss: 1.3183\n",
            "Valid Loss: 1.3875\n",
            "\n",
            "Epoch [7/100]\n",
            "Train Loss: 1.3192\n",
            "Valid Loss: 1.3897\n",
            "\n",
            "Epoch [8/100]\n",
            "Train Loss: 1.3160\n",
            "Valid Loss: 1.3850\n",
            "\n",
            "Epoch [9/100]\n",
            "Train Loss: 1.3181\n",
            "Valid Loss: 1.3833\n",
            "\n",
            "Epoch [10/100]\n",
            "Train Loss: 1.3184\n",
            "Valid Loss: 1.3899\n",
            "\n",
            "Epoch [11/100]\n",
            "Train Loss: 1.3161\n",
            "Valid Loss: 1.3887\n",
            "\n",
            "Epoch [12/100]\n",
            "Train Loss: 1.3214\n",
            "Valid Loss: 1.3906\n",
            "\n",
            "Epoch [13/100]\n",
            "Train Loss: 1.2901\n",
            "Valid Loss: 1.4634\n",
            "\n",
            "Epoch [14/100]\n",
            "Train Loss: 1.2870\n",
            "Valid Loss: 1.4631\n",
            "\n",
            "Epoch [15/100]\n",
            "Train Loss: 1.2217\n",
            "Valid Loss: 1.3163\n",
            "Saving Best\n",
            "\n",
            "Epoch [16/100]\n",
            "Train Loss: 1.1752\n",
            "Valid Loss: 1.2674\n",
            "Saving Best\n",
            "\n",
            "Epoch [17/100]\n",
            "Train Loss: 1.0542\n",
            "Valid Loss: 1.4371\n",
            "\n",
            "Epoch [18/100]\n",
            "Train Loss: 0.9775\n",
            "Valid Loss: 1.2360\n",
            "Saving Best\n",
            "\n",
            "Epoch [19/100]\n",
            "Train Loss: 0.8916\n",
            "Valid Loss: 1.2154\n",
            "Saving Best\n",
            "\n",
            "Epoch [20/100]\n",
            "Train Loss: 0.9138\n",
            "Valid Loss: 1.1833\n",
            "Saving Best\n",
            "\n",
            "Epoch [21/100]\n",
            "Train Loss: 0.8361\n",
            "Valid Loss: 1.2177\n",
            "\n",
            "Epoch [22/100]\n",
            "Train Loss: 0.7913\n",
            "Valid Loss: 1.1325\n",
            "Saving Best\n",
            "\n",
            "Epoch [23/100]\n",
            "Train Loss: 0.7663\n",
            "Valid Loss: 1.1740\n",
            "\n",
            "Epoch [24/100]\n",
            "Train Loss: 0.7387\n",
            "Valid Loss: 1.0582\n",
            "Saving Best\n",
            "\n",
            "Epoch [25/100]\n",
            "Train Loss: 0.6873\n",
            "Valid Loss: 1.0797\n",
            "\n",
            "Epoch [26/100]\n",
            "Train Loss: 0.6442\n",
            "Valid Loss: 1.0921\n",
            "\n",
            "Epoch [27/100]\n",
            "Train Loss: 0.6606\n",
            "Valid Loss: 1.3161\n",
            "\n",
            "Epoch [28/100]\n",
            "Train Loss: 0.6282\n",
            "Valid Loss: 1.1708\n",
            "\n",
            "Epoch [29/100]\n",
            "Train Loss: 0.6016\n",
            "Valid Loss: 1.0492\n",
            "Saving Best\n",
            "\n",
            "Epoch [30/100]\n",
            "Train Loss: 0.5977\n",
            "Valid Loss: 1.0683\n",
            "\n",
            "Epoch [31/100]\n",
            "Train Loss: 0.5774\n",
            "Valid Loss: 1.0375\n",
            "Saving Best\n",
            "\n",
            "Epoch [32/100]\n",
            "Train Loss: 0.5550\n",
            "Valid Loss: 1.1397\n",
            "\n",
            "Epoch [33/100]\n",
            "Train Loss: 0.5206\n",
            "Valid Loss: 1.0668\n",
            "\n",
            "Epoch [34/100]\n",
            "Train Loss: 0.5572\n",
            "Valid Loss: 1.0711\n",
            "\n",
            "Epoch [35/100]\n",
            "Train Loss: 0.5780\n",
            "Valid Loss: 0.9994\n",
            "Saving Best\n",
            "\n",
            "Epoch [36/100]\n",
            "Train Loss: 0.5693\n",
            "Valid Loss: 1.0983\n",
            "\n",
            "Epoch [37/100]\n",
            "Train Loss: 0.4731\n",
            "Valid Loss: 1.0456\n",
            "\n",
            "Epoch [38/100]\n",
            "Train Loss: 0.4536\n",
            "Valid Loss: 1.0367\n",
            "\n",
            "Epoch [39/100]\n",
            "Train Loss: 0.4595\n",
            "Valid Loss: 1.1665\n",
            "\n",
            "Epoch [40/100]\n",
            "Train Loss: 0.4588\n",
            "Valid Loss: 1.1244\n",
            "\n",
            "Epoch [41/100]\n",
            "Train Loss: 0.4118\n",
            "Valid Loss: 1.1105\n",
            "\n",
            "Epoch [42/100]\n",
            "Train Loss: 0.4175\n",
            "Valid Loss: 1.0380\n",
            "\n",
            "Epoch [43/100]\n",
            "Train Loss: 0.3871\n",
            "Valid Loss: 1.0356\n",
            "\n",
            "Epoch [44/100]\n",
            "Train Loss: 0.3759\n",
            "Valid Loss: 1.0522\n",
            "\n",
            "Epoch [45/100]\n",
            "Train Loss: 0.3815\n",
            "Valid Loss: 1.1066\n",
            "\n",
            "Epoch [46/100]\n",
            "Train Loss: 0.3732\n",
            "Valid Loss: 1.0643\n",
            "\n",
            "Epoch [47/100]\n",
            "Train Loss: 0.3719\n",
            "Valid Loss: 1.0590\n",
            "\n",
            "Epoch [48/100]\n",
            "Train Loss: 0.3334\n",
            "Valid Loss: 1.1251\n",
            "\n",
            "Epoch [49/100]\n",
            "Train Loss: 0.3347\n",
            "Valid Loss: 1.0563\n",
            "\n",
            "Epoch [50/100]\n",
            "Train Loss: 0.3412\n",
            "Valid Loss: 1.0881\n",
            "\n",
            "Epoch [51/100]\n",
            "Train Loss: 0.3244\n",
            "Valid Loss: 1.2554\n",
            "\n",
            "Epoch [52/100]\n",
            "Train Loss: 0.3756\n",
            "Valid Loss: 1.0675\n",
            "\n",
            "Epoch [53/100]\n",
            "Train Loss: 0.3015\n",
            "Valid Loss: 1.0838\n",
            "\n",
            "Epoch [54/100]\n",
            "Train Loss: 0.3018\n",
            "Valid Loss: 1.0751\n",
            "\n",
            "Epoch [55/100]\n",
            "Train Loss: 0.3062\n",
            "Valid Loss: 1.0583\n",
            "\n",
            "Epoch [56/100]\n",
            "Train Loss: 0.3310\n",
            "Valid Loss: 1.0467\n",
            "\n",
            "Epoch [57/100]\n",
            "Train Loss: 0.2743\n",
            "Valid Loss: 1.1001\n",
            "\n",
            "Epoch [58/100]\n",
            "Train Loss: 0.2948\n",
            "Valid Loss: 1.0457\n",
            "\n",
            "Epoch [59/100]\n",
            "Train Loss: 0.2749\n",
            "Valid Loss: 1.1187\n",
            "\n",
            "Epoch [60/100]\n",
            "Train Loss: 0.3097\n",
            "Valid Loss: 1.1568\n",
            "\n",
            "Epoch [61/100]\n",
            "Train Loss: 0.2684\n",
            "Valid Loss: 1.0775\n",
            "\n",
            "Epoch [62/100]\n",
            "Train Loss: 0.2450\n",
            "Valid Loss: 1.0763\n",
            "\n",
            "Epoch [63/100]\n",
            "Train Loss: 0.2645\n",
            "Valid Loss: 1.0876\n",
            "\n",
            "Epoch [64/100]\n",
            "Train Loss: 0.2589\n",
            "Valid Loss: 1.0865\n",
            "\n",
            "Epoch [65/100]\n",
            "Train Loss: 0.2570\n",
            "Valid Loss: 1.0776\n",
            "\n",
            "Epoch [66/100]\n",
            "Train Loss: 0.2876\n",
            "Valid Loss: 1.0956\n",
            "\n",
            "Epoch [67/100]\n",
            "Train Loss: 0.2535\n",
            "Valid Loss: 1.0407\n",
            "\n",
            "Epoch [68/100]\n",
            "Train Loss: 0.2334\n",
            "Valid Loss: 1.1341\n",
            "\n",
            "Epoch [69/100]\n",
            "Train Loss: 0.2504\n",
            "Valid Loss: 1.1030\n",
            "\n",
            "Epoch [70/100]\n",
            "Train Loss: 0.2332\n",
            "Valid Loss: 1.1246\n",
            "\n",
            "Epoch [71/100]\n",
            "Train Loss: 0.2532\n",
            "Valid Loss: 1.0705\n",
            "\n",
            "Epoch [72/100]\n",
            "Train Loss: 0.2354\n",
            "Valid Loss: 1.0637\n",
            "\n",
            "Epoch [73/100]\n",
            "Train Loss: 0.2074\n",
            "Valid Loss: 1.1023\n",
            "\n",
            "Epoch [74/100]\n",
            "Train Loss: 0.2626\n",
            "Valid Loss: 1.0962\n",
            "\n",
            "Epoch [75/100]\n",
            "Train Loss: 0.2484\n",
            "Valid Loss: 1.1421\n",
            "\n",
            "Epoch [76/100]\n",
            "Train Loss: 0.2402\n",
            "Valid Loss: 1.0945\n",
            "\n",
            "Epoch [77/100]\n",
            "Train Loss: 0.2377\n",
            "Valid Loss: 1.1198\n",
            "\n",
            "Epoch [78/100]\n",
            "Train Loss: 0.2293\n",
            "Valid Loss: 1.1114\n",
            "\n",
            "Epoch [79/100]\n",
            "Train Loss: 0.2118\n",
            "Valid Loss: 1.1251\n",
            "\n",
            "Epoch [80/100]\n",
            "Train Loss: 0.2463\n",
            "Valid Loss: 1.1147\n",
            "\n",
            "Epoch [81/100]\n",
            "Train Loss: 0.2277\n",
            "Valid Loss: 1.0905\n",
            "\n",
            "Epoch [82/100]\n",
            "Train Loss: 0.2357\n",
            "Valid Loss: 1.0332\n",
            "\n",
            "Epoch [83/100]\n",
            "Train Loss: 0.2236\n",
            "Valid Loss: 1.0579\n",
            "\n",
            "Epoch [84/100]\n",
            "Train Loss: 0.2099\n",
            "Valid Loss: 1.0731\n",
            "\n",
            "Epoch [85/100]\n",
            "Train Loss: 0.2037\n",
            "Valid Loss: 1.0459\n",
            "\n",
            "Epoch [86/100]\n",
            "Train Loss: 0.2293\n",
            "Valid Loss: 1.0596\n",
            "\n",
            "Epoch [87/100]\n",
            "Train Loss: 0.1907\n",
            "Valid Loss: 1.1203\n",
            "\n",
            "Epoch [88/100]\n",
            "Train Loss: 0.1942\n",
            "Valid Loss: 1.1184\n",
            "\n",
            "Epoch [89/100]\n",
            "Train Loss: 0.2159\n",
            "Valid Loss: 1.0608\n",
            "\n",
            "Epoch [90/100]\n",
            "Train Loss: 0.1905\n",
            "Valid Loss: 1.1049\n",
            "\n",
            "Epoch [91/100]\n",
            "Train Loss: 0.1936\n",
            "Valid Loss: 1.0928\n",
            "\n",
            "Epoch [92/100]\n",
            "Train Loss: 0.1812\n",
            "Valid Loss: 1.1085\n",
            "\n",
            "Epoch [93/100]\n",
            "Train Loss: 0.1901\n",
            "Valid Loss: 1.0688\n",
            "\n",
            "Epoch [94/100]\n",
            "Train Loss: 0.1986\n",
            "Valid Loss: 1.1333\n",
            "\n",
            "Epoch [95/100]\n",
            "Train Loss: 0.2208\n",
            "Valid Loss: 1.1125\n",
            "\n",
            "Epoch [96/100]\n",
            "Train Loss: 0.2095\n",
            "Valid Loss: 1.0662\n",
            "\n",
            "Epoch [97/100]\n",
            "Train Loss: 0.1929\n",
            "Valid Loss: 1.1092\n",
            "\n",
            "Epoch [98/100]\n",
            "Train Loss: 0.1859\n",
            "Valid Loss: 1.0685\n",
            "\n",
            "Epoch [99/100]\n",
            "Train Loss: 0.1730\n",
            "Valid Loss: 1.1164\n",
            "\n",
            "Epoch [100/100]\n",
            "Train Loss: 0.1800\n",
            "Valid Loss: 1.0707\n",
            "\n",
            "Training Time: 57s497ms\n",
            "Training Peak Mem: 1399.34765625\n",
            "Training Params: 1680897\n"
          ]
        }
      ],
      "source": [
        "train_losses, valid_losses = train(\n",
        "    encoders,\n",
        "    fusion,\n",
        "    head,\n",
        "    train_data,\n",
        "    valid_data,\n",
        "    100,\n",
        "    task=\"regression\",\n",
        "    optimtype=torch.optim.AdamW,\n",
        "    is_packed=False,\n",
        "    lr=1e-3,\n",
        "    save=f\"/content/{OUTPUT_MODEL_FILE_NAME}.pt\",\n",
        "    weight_decay=0.01,\n",
        "    objective=torch.nn.L1Loss(),\n",
        ")\n"
      ]
    },
    {
      "cell_type": "code",
      "execution_count": 12,
      "id": "b0e7c33a-a68d-4292-a2b2-14e8a2e53500",
      "metadata": {
        "colab": {
          "base_uri": "https://localhost:8080/",
          "height": 490
        },
        "id": "b0e7c33a-a68d-4292-a2b2-14e8a2e53500",
        "outputId": "49f6d6e0-74b2-46af-d0b7-67a9b62f86a1"
      },
      "outputs": [
        {
          "data": {
            "text/plain": [
              "Text(0.5, 1.0, 'Loss vs. No. of epochs')"
            ]
          },
          "execution_count": 12,
          "metadata": {},
          "output_type": "execute_result"
        },
        {
          "data": {
            "image/png": "[encoded data removed]",
            "text/plain": [
              "<Figure size 640x480 with 1 Axes>"
            ]
          },
          "metadata": {},
          "output_type": "display_data"
        }
      ],
      "source": [
        "plt.plot(train_losses, label='Train Loss')\n",
        "plt.plot(valid_losses, label='Validation Loss')\n",
        "plt.xlabel('Epochs')\n",
        "plt.ylabel('Loss')\n",
        "plt.legend()\n",
        "plt.grid(True)\n",
        "plt.title('Loss vs. No. of epochs')"
      ]
    },
    {
      "cell_type": "code",
      "execution_count": 13,
      "id": "8bbd60df-8764-4fcd-a545-90860e5f8a2c",
      "metadata": {
        "id": "8bbd60df-8764-4fcd-a545-90860e5f8a2c"
      },
      "outputs": [],
      "source": [
        "save_results(train_losses, valid_losses, f\"/content/{OUTPUT_MODEL_FILE_NAME}.pkl\")"
      ]
    },
    {
      "cell_type": "markdown",
      "id": "a2a0ca4a-2c05-4ba2-a6aa-1db0e341598b",
      "metadata": {
        "id": "a2a0ca4a-2c05-4ba2-a6aa-1db0e341598b"
      },
      "source": [
        "## Testing"
      ]
    },
    {
      "cell_type": "code",
      "execution_count": 14,
      "id": "d4352442-0d78-4195-bd04-2332af36a7f7",
      "metadata": {
        "colab": {
          "base_uri": "https://localhost:8080/"
        },
        "id": "d4352442-0d78-4195-bd04-2332af36a7f7",
        "outputId": "78a7ab4f-4210-4716-8372-5a1c4c96fe9b"
      },
      "outputs": [
        {
          "name": "stderr",
          "output_type": "stream",
          "text": [
            "<ipython-input-14-7fdfb79d3e40>:1: FutureWarning: You are using `torch.load` with `weights_only=False` (the current default value), which uses the default pickle module implicitly. It is possible to construct malicious pickle data which will execute arbitrary code during unpickling (See https://github.com/pytorch/pytorch/blob/main/SECURITY.md#untrusted-models for more details). In a future release, the default value for `weights_only` will be flipped to `True`. This limits the functions that could be executed during unpickling. Arbitrary objects will no longer be allowed to be loaded via this mode unless they are explicitly allowlisted by the user via `torch.serialization.add_safe_globals`. We recommend you start setting `weights_only=True` for any use case where you don't have full control of the loaded file. Please open an issue on GitHub for any issues related to this experimental feature.\n",
            "  model = torch.load(f\"/content/{OUTPUT_MODEL_FILE_NAME}.pt\").to(device)\n"
          ]
        },
        {
          "name": "stdout",
          "output_type": "stream",
          "text": [
            "Recall: 68.1402% | Total Accuracy: 66.9096%\n",
            "Inference Time: 231ms\n",
            "Inference Params: 1680897\n"
          ]
        }
      ],
      "source": [
        "model = torch.load(f\"/content/{OUTPUT_MODEL_FILE_NAME}.pt\").to(device)\n",
        "\n",
        "test(\n",
        "    model,\n",
        "    test_data,\n",
        "    is_packed=False,\n",
        "    criterion=torch.nn.L1Loss(),\n",
        "    task=\"posneg-classification\"\n",
        ")\n"
      ]
    }
  ],
  "metadata": {
    "accelerator": "GPU",
    "colab": {
      "gpuType": "A100",
      "machine_shape": "hm",
      "provenance": []
    },
    "kernelspec": {
      "display_name": "Python 3",
      "name": "python3"
    },
    "language_info": {
      "codemirror_mode": {
        "name": "ipython",
        "version": 3
      },
      "file_extension": ".py",
      "mimetype": "text/x-python",
      "name": "python",
      "nbconvert_exporter": "python",
      "pygments_lexer": "ipython3",
      "version": "3.11.7"
    }
  },
  "nbformat": 4,
  "nbformat_minor": 5
}
