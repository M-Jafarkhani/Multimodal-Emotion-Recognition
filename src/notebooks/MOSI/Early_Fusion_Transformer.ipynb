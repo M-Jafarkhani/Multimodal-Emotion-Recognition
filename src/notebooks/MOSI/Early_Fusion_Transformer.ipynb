{
  "cells": [
    {
      "cell_type": "code",
      "execution_count": 3,
      "metadata": {
        "colab": {
          "base_uri": "https://localhost:8080/"
        },
        "id": "KYSzl-AZhYqs",
        "outputId": "3eed5140-3e0d-4fcf-ca34-67cce9059237"
      },
      "outputs": [
        {
          "name": "stdout",
          "output_type": "stream",
          "text": [
            "Cloning into 'Multimodal-Sentiment-Analysis'...\n",
            "remote: Enumerating objects: 213, done.\u001b[K\n",
            "remote: Counting objects: 100% (72/72), done.\u001b[K\n",
            "remote: Compressing objects: 100% (58/58), done.\u001b[K\n",
            "remote: Total 213 (delta 30), reused 36 (delta 13), pack-reused 141 (from 1)\u001b[K\n",
            "Receiving objects: 100% (213/213), 279.75 MiB | 23.32 MiB/s, done.\n",
            "Resolving deltas: 100% (68/68), done.\n",
            "Updating files: 100% (72/72), done.\n"
          ]
        }
      ],
      "source": [
        "!git clone https://github.com/M-Jafarkhani/Multimodal-Sentiment-Analysis"
      ]
    },
    {
      "cell_type": "code",
      "execution_count": 2,
      "metadata": {
        "colab": {
          "base_uri": "https://localhost:8080/",
          "height": 125
        },
        "id": "mxwY96BulEtC",
        "outputId": "8e6017cd-2421-4989-d759-c103c1488fca"
      },
      "outputs": [
        {
          "name": "stderr",
          "output_type": "stream",
          "text": [
            "Downloading...\n",
            "From (original): https://drive.google.com/uc?id=1_XdzdW8UNG1TTS6QcX10uhoS6N11OBit\n",
            "From (redirected): https://drive.google.com/uc?id=1_XdzdW8UNG1TTS6QcX10uhoS6N11OBit&confirm=t&uuid=99a46895-b834-4469-ab7c-4014e4c8858a\n",
            "To: /content/meld_dataset.pkl\n",
            "100%|██████████| 154M/154M [00:03<00:00, 48.2MB/s]\n"
          ]
        },
        {
          "data": {
            "application/vnd.google.colaboratory.intrinsic+json": {
              "type": "string"
            },
            "text/plain": [
              "'meld_dataset.pkl'"
            ]
          },
          "execution_count": 2,
          "metadata": {},
          "output_type": "execute_result"
        }
      ],
      "source": [
        "import gdown\n",
        "\n",
        "file_id = \"1_XdzdW8UNG1TTS6QcX10uhoS6N11OBit\"\n",
        "destination = \"mosi_data.pkl\"\n",
        "\n",
        "gdown.download(\n",
        "    f\"https://drive.google.com/uc?id={file_id}\", destination, quiet=False)"
      ]
    },
    {
      "cell_type": "code",
      "execution_count": 5,
      "metadata": {
        "id": "sC___ekEm3os"
      },
      "outputs": [],
      "source": [
        "import sys\n",
        "import torch\n",
        "import matplotlib.pyplot as plt\n",
        "\n",
        "sys.path.append('/content/Multimodal-Sentiment-Analysis/src')"
      ]
    },
    {
      "cell_type": "code",
      "execution_count": 6,
      "metadata": {
        "id": "YPqzgJJVhmrM"
      },
      "outputs": [],
      "source": [
        "from loader import get_dataloader\n",
        "from unimodals.modules import Transformer, MLP, Sequential, Identity\n",
        "from training.supervised import train, test\n",
        "from fusions.modules import ConcatEarly\n",
        "from utils import get_default_device, save_results"
      ]
    },
    {
      "cell_type": "code",
      "execution_count": 7,
      "metadata": {
        "id": "fjwNto-UkYsP"
      },
      "outputs": [],
      "source": [
        "FILE_PATH = '/content/mosi_data.pkl'\n",
        "train_data, valid_data, test_data = get_dataloader(FILE_PATH)"
      ]
    },
    {
      "cell_type": "code",
      "execution_count": 8,
      "metadata": {
        "colab": {
          "base_uri": "https://localhost:8080/"
        },
        "id": "OWkeUZ5BDLgj",
        "outputId": "0e48ce98-f70b-4714-8d51-50527b5c45af"
      },
      "outputs": [
        {
          "name": "stdout",
          "output_type": "stream",
          "text": [
            "cuda\n"
          ]
        }
      ],
      "source": [
        "device = get_default_device()\n",
        "print(device)"
      ]
    },
    {
      "cell_type": "code",
      "execution_count": 9,
      "metadata": {
        "colab": {
          "base_uri": "https://localhost:8080/"
        },
        "id": "U2PEJEgYllya",
        "outputId": "766861cc-cca0-4e19-8ffc-77c79e8f7fa2"
      },
      "outputs": [
        {
          "name": "stderr",
          "output_type": "stream",
          "text": [
            "/usr/local/lib/python3.10/dist-packages/torch/nn/modules/transformer.py:379: UserWarning: enable_nested_tensor is True, but self.use_nested_tensor is False because encoder_layer.self_attn.batch_first was not True(use batch_first for better inference performance)\n",
            "  warnings.warn(\n"
          ]
        }
      ],
      "source": [
        "encoders = [Identity().to(device), Identity().to(device), Identity().to(device)]\n",
        "head = Sequential(Transformer(325, 300).to(device), MLP(300, 128, 1)).to(device)\n",
        "fusion = ConcatEarly().to(device)"
      ]
    },
    {
      "cell_type": "code",
      "execution_count": 12,
      "metadata": {
        "colab": {
          "base_uri": "https://localhost:8080/"
        },
        "id": "fSnB-YCgnOsC",
        "outputId": "474e9a94-4e39-475f-b5ac-774b9f39dedd"
      },
      "outputs": [
        {
          "name": "stdout",
          "output_type": "stream",
          "text": [
            "Epoch [1/100]\n",
            "Train Loss: 1.2712\n",
            "Valid Loss: 1.2117\n",
            "Saving Best\n",
            "\n",
            "Epoch [2/100]\n",
            "Train Loss: 0.9998\n",
            "Valid Loss: 1.0826\n",
            "Saving Best\n",
            "\n",
            "Epoch [3/100]\n",
            "Train Loss: 0.9378\n",
            "Valid Loss: 1.0399\n",
            "Saving Best\n",
            "\n",
            "Epoch [4/100]\n",
            "Train Loss: 0.8441\n",
            "Valid Loss: 0.9801\n",
            "Saving Best\n",
            "\n",
            "Epoch [5/100]\n",
            "Train Loss: 0.8148\n",
            "Valid Loss: 0.9918\n",
            "\n",
            "Epoch [6/100]\n",
            "Train Loss: 0.7571\n",
            "Valid Loss: 0.9526\n",
            "Saving Best\n",
            "\n",
            "Epoch [7/100]\n",
            "Train Loss: 0.7052\n",
            "Valid Loss: 0.9342\n",
            "Saving Best\n",
            "\n",
            "Epoch [8/100]\n",
            "Train Loss: 0.6641\n",
            "Valid Loss: 1.0818\n",
            "\n",
            "Epoch [9/100]\n",
            "Train Loss: 0.6291\n",
            "Valid Loss: 0.9560\n",
            "\n",
            "Epoch [10/100]\n",
            "Train Loss: 0.5971\n",
            "Valid Loss: 0.9087\n",
            "Saving Best\n",
            "\n",
            "Epoch [11/100]\n",
            "Train Loss: 0.5404\n",
            "Valid Loss: 0.9353\n",
            "\n",
            "Epoch [12/100]\n",
            "Train Loss: 0.5330\n",
            "Valid Loss: 0.9404\n",
            "\n",
            "Epoch [13/100]\n",
            "Train Loss: 0.5061\n",
            "Valid Loss: 0.9775\n",
            "\n",
            "Epoch [14/100]\n",
            "Train Loss: 0.4808\n",
            "Valid Loss: 0.9670\n",
            "\n",
            "Epoch [15/100]\n",
            "Train Loss: 0.4614\n",
            "Valid Loss: 0.9131\n",
            "\n",
            "Epoch [16/100]\n",
            "Train Loss: 0.4190\n",
            "Valid Loss: 0.9118\n",
            "\n",
            "Epoch [17/100]\n",
            "Train Loss: 0.4006\n",
            "Valid Loss: 0.9357\n",
            "\n",
            "Epoch [18/100]\n",
            "Train Loss: 0.3843\n",
            "Valid Loss: 0.9495\n",
            "Training Time: 33s883ms\n",
            "Training Peak Mem: 1328.20703125\n",
            "Training Params: 8103897\n"
          ]
        }
      ],
      "source": [
        "OUTPUT_MODEL_FILE_NAME = \"MOSI_Late_Fusion_Transformer\"\n",
        "\n",
        "train_losses, valid_losses = train(\n",
        "    encoders,\n",
        "    fusion,\n",
        "    head,\n",
        "    train_data,\n",
        "    valid_data,\n",
        "    100,\n",
        "    task=\"regression\",\n",
        "    optimtype=torch.optim.AdamW,\n",
        "    is_packed=True,\n",
        "    early_stop=True,\n",
        "    lr=1e-4,\n",
        "    save=f\"/content/{OUTPUT_MODEL_FILE_NAME}.pt\",\n",
        "    weight_decay=0.01,\n",
        "    objective=torch.nn.L1Loss(),\n",
        ")\n"
      ]
    },
    {
      "cell_type": "code",
      "execution_count": 13,
      "metadata": {
        "colab": {
          "base_uri": "https://localhost:8080/",
          "height": 490
        },
        "id": "dLXyFd9uDfjF",
        "outputId": "5d63b1e3-28b1-4e31-ed5c-c1defc461e5e"
      },
      "outputs": [
        {
          "data": {
            "text/plain": [
              "Text(0.5, 1.0, 'Loss vs. No. of epochs')"
            ]
          },
          "execution_count": 13,
          "metadata": {},
          "output_type": "execute_result"
        },
        {
          "data": {
            "image/png": "[encoded data removed]",
            "text/plain": [
              "<Figure size 640x480 with 1 Axes>"
            ]
          },
          "metadata": {},
          "output_type": "display_data"
        }
      ],
      "source": [
        "plt.plot(train_losses, label='Train Loss')\n",
        "plt.plot(valid_losses, label='Validation Loss')\n",
        "plt.xlabel('Epochs')\n",
        "plt.ylabel('Loss')\n",
        "plt.legend()\n",
        "plt.grid(True)\n",
        "plt.title('Loss vs. No. of epochs')"
      ]
    },
    {
      "cell_type": "code",
      "execution_count": 15,
      "metadata": {
        "id": "9v8PYdfVD5T5"
      },
      "outputs": [],
      "source": [
        "save_results(train_losses, valid_losses, f'/content/{OUTPUT_MODEL_FILE_NAME}.pkl')"
      ]
    },
    {
      "cell_type": "code",
      "execution_count": 16,
      "metadata": {
        "colab": {
          "base_uri": "https://localhost:8080/"
        },
        "id": "s-65EkTZD-ss",
        "outputId": "20307de2-da1e-469d-a2e7-5ef3ece42414"
      },
      "outputs": [
        {
          "name": "stderr",
          "output_type": "stream",
          "text": [
            "<ipython-input-16-96d4c689c1d2>:1: FutureWarning: You are using `torch.load` with `weights_only=False` (the current default value), which uses the default pickle module implicitly. It is possible to construct malicious pickle data which will execute arbitrary code during unpickling (See https://github.com/pytorch/pytorch/blob/main/SECURITY.md#untrusted-models for more details). In a future release, the default value for `weights_only` will be flipped to `True`. This limits the functions that could be executed during unpickling. Arbitrary objects will no longer be allowed to be loaded via this mode unless they are explicitly allowlisted by the user via `torch.serialization.add_safe_globals`. We recommend you start setting `weights_only=True` for any use case where you don't have full control of the loaded file. Please open an issue on GitHub for any issues related to this experimental feature.\n",
            "  model = torch.load(f'/content/{FILE_NAME}.pt').to(device)\n"
          ]
        },
        {
          "name": "stdout",
          "output_type": "stream",
          "text": [
            "Recall: 76.3720% | Total Accuracy: 75.6560%\n",
            "Inference Time: 516ms\n",
            "Inference Params: 8103897\n"
          ]
        }
      ],
      "source": [
        "model = torch.load(f\"/content/{OUTPUT_MODEL_FILE_NAME}.pt\").to(device)\n",
        "\n",
        "test(\n",
        "    model,\n",
        "    test_data,\n",
        "    is_packed=True,\n",
        "    criterion=torch.nn.L1Loss(),\n",
        "    task=\"posneg-classification\",\n",
        ")\n"
      ]
    }
  ],
  "metadata": {
    "accelerator": "GPU",
    "colab": {
      "gpuType": "T4",
      "provenance": []
    },
    "kernelspec": {
      "display_name": "Python 3",
      "name": "python3"
    },
    "language_info": {
      "name": "python"
    }
  },
  "nbformat": 4,
  "nbformat_minor": 0
}
