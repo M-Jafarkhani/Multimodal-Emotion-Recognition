{
  "cells": [
    {
      "cell_type": "markdown",
      "id": "49e0ad50-a2a2-4b96-b360-6ebd4ba790f6",
      "metadata": {
        "id": "49e0ad50-a2a2-4b96-b360-6ebd4ba790f6"
      },
      "source": [
        "# Multimodal Transformer Model - MOSI"
      ]
    },
    {
      "cell_type": "code",
      "execution_count": null,
      "id": "WXPESuDOT3EX",
      "metadata": {
        "colab": {
          "base_uri": "https://localhost:8080/"
        },
        "id": "WXPESuDOT3EX",
        "outputId": "68562876-f46f-4a1f-876b-5e123400eef9"
      },
      "outputs": [],
      "source": [
        "!git clone https://github.com/M-Jafarkhani/Multimodal-Emotion-Recognition"
      ]
    },
    {
      "cell_type": "markdown",
      "id": "0e330111-2839-49fa-86f3-2204b6d24fc4",
      "metadata": {
        "id": "0e330111-2839-49fa-86f3-2204b6d24fc4"
      },
      "source": [
        "## Importing Libraries"
      ]
    },
    {
      "cell_type": "code",
      "execution_count": 3,
      "id": "QORwpvVoT-3_",
      "metadata": {
        "colab": {
          "base_uri": "https://localhost:8080/",
          "height": 125
        },
        "id": "QORwpvVoT-3_",
        "outputId": "c322b9ae-6397-4c15-9bcc-3b125e5a1511"
      },
      "outputs": [
        {
          "name": "stderr",
          "output_type": "stream",
          "text": [
            "Downloading...\n",
            "From (original): https://drive.google.com/uc?id=1_XdzdW8UNG1TTS6QcX10uhoS6N11OBit\n",
            "From (redirected): https://drive.google.com/uc?id=1_XdzdW8UNG1TTS6QcX10uhoS6N11OBit&confirm=t&uuid=6a5037f6-9f9a-436d-8344-abea544d380b\n",
            "To: /content/mosi_data.pkl\n",
            "100%|██████████| 154M/154M [00:02<00:00, 55.1MB/s]\n"
          ]
        },
        {
          "data": {
            "application/vnd.google.colaboratory.intrinsic+json": {
              "type": "string"
            },
            "text/plain": [
              "'mosi_data.pkl'"
            ]
          },
          "execution_count": 3,
          "metadata": {},
          "output_type": "execute_result"
        }
      ],
      "source": [
        "import gdown\n",
        "\n",
        "file_id = \"1_XdzdW8UNG1TTS6QcX10uhoS6N11OBit\"\n",
        "destination = \"mosi_data.pkl\" \n",
        "\n",
        "gdown.download(\n",
        "    f\"https://drive.google.com/uc?id={file_id}\", destination, quiet=False)"
      ]
    },
    {
      "cell_type": "code",
      "execution_count": 4,
      "id": "90273986-226c-4f13-a783-27d03eda1e21",
      "metadata": {
        "id": "90273986-226c-4f13-a783-27d03eda1e21"
      },
      "outputs": [],
      "source": [
        "import sys\n",
        "import torch\n",
        "import matplotlib.pyplot as plt\n",
        "\n",
        "sys.path.append('/content/Multimodal-Emotion-Recognition/src')"
      ]
    },
    {
      "cell_type": "markdown",
      "id": "3a8511b4-49ef-4df0-916e-07c8002ebcf9",
      "metadata": {
        "id": "3a8511b4-49ef-4df0-916e-07c8002ebcf9"
      },
      "source": [
        "## Importing Helper Functions"
      ]
    },
    {
      "cell_type": "code",
      "execution_count": 5,
      "id": "77dcaf0e-287e-4312-a80b-a67ca4221f73",
      "metadata": {
        "id": "77dcaf0e-287e-4312-a80b-a67ca4221f73"
      },
      "outputs": [],
      "source": [
        "from loader import get_dataloader\n",
        "from unimodals.modules import Identity\n",
        "from fusions.multimodal import MULTModel\n",
        "from training.supervised import train, test\n",
        "from utils import get_default_device, save_results"
      ]
    },
    {
      "cell_type": "markdown",
      "id": "2bc745d1-4151-4894-af83-77780036ba7b",
      "metadata": {
        "id": "2bc745d1-4151-4894-af83-77780036ba7b"
      },
      "source": [
        "## Loading the Dataset"
      ]
    },
    {
      "cell_type": "code",
      "execution_count": 6,
      "id": "c7aa2aea-6160-4f43-a6f1-596f9c26bab7",
      "metadata": {
        "id": "c7aa2aea-6160-4f43-a6f1-596f9c26bab7"
      },
      "outputs": [],
      "source": [
        "train_data, valid_data, test_data = get_dataloader('/content/mosi_data.pkl', max_pad=True)"
      ]
    },
    {
      "cell_type": "code",
      "execution_count": 7,
      "id": "3e83b4bf-2838-4c0b-beb8-3d6150a369f3",
      "metadata": {
        "colab": {
          "base_uri": "https://localhost:8080/"
        },
        "id": "3e83b4bf-2838-4c0b-beb8-3d6150a369f3",
        "outputId": "026d276a-099f-4644-d20a-4ff79be569dd"
      },
      "outputs": [
        {
          "name": "stdout",
          "output_type": "stream",
          "text": [
            "cuda\n"
          ]
        }
      ],
      "source": [
        "device = get_default_device()\n",
        "print(device)"
      ]
    },
    {
      "cell_type": "markdown",
      "id": "da5644c7-a89a-437f-8b75-3bf386b20dea",
      "metadata": {
        "id": "da5644c7-a89a-437f-8b75-3bf386b20dea"
      },
      "source": [
        "## Model Architecture"
      ]
    },
    {
      "cell_type": "code",
      "execution_count": 8,
      "id": "55070fb4-ea3e-4529-a717-7a0b3baf5275",
      "metadata": {
        "id": "55070fb4-ea3e-4529-a717-7a0b3baf5275"
      },
      "outputs": [],
      "source": [
        "class HParams():\n",
        "    num_heads = 8\n",
        "    layers = 4\n",
        "    attn_dropout = 0.1\n",
        "    attn_dropout_modalities = [0, 0, 0.1]\n",
        "    relu_dropout = 0.1\n",
        "    res_dropout = 0.1\n",
        "    out_dropout = 0.1\n",
        "    embed_dropout = 0.2\n",
        "    embed_dim = 40\n",
        "    attn_mask = True\n",
        "    output_dim = 1\n",
        "    all_steps = False\n",
        "\n",
        "encoders = [\n",
        "    Identity().to(device),\n",
        "    Identity().to(device),\n",
        "    Identity().to(device)\n",
        "]\n",
        "\n",
        "fusion = MULTModel(3, [20, 5, 300], hyp_params=HParams).to(device)\n",
        "\n",
        "head = Identity().to(device)"
      ]
    },
    {
      "cell_type": "markdown",
      "id": "1ccb00f7-9da1-43bb-b41e-f39eca505a76",
      "metadata": {
        "id": "1ccb00f7-9da1-43bb-b41e-f39eca505a76"
      },
      "source": [
        "## Training"
      ]
    },
    {
      "cell_type": "code",
      "execution_count": 9,
      "id": "49704ef0-fdb1-4f25-93a3-25083ce2d016",
      "metadata": {
        "colab": {
          "base_uri": "https://localhost:8080/"
        },
        "id": "49704ef0-fdb1-4f25-93a3-25083ce2d016",
        "outputId": "0ac8df27-9d75-4a5a-ddcd-17838e9fc999"
      },
      "outputs": [
        {
          "name": "stdout",
          "output_type": "stream",
          "text": [
            "Epoch [1/100]\n",
            "Train Loss: 1.3074\n",
            "Valid Loss: 1.7965\n",
            "Saving Best\n",
            "\n",
            "Epoch [2/100]\n",
            "Train Loss: 1.1202\n",
            "Valid Loss: 1.3395\n",
            "Saving Best\n",
            "\n",
            "Epoch [3/100]\n",
            "Train Loss: 1.0061\n",
            "Valid Loss: 1.0677\n",
            "Saving Best\n",
            "\n",
            "Epoch [4/100]\n",
            "Train Loss: 0.9240\n",
            "Valid Loss: 1.0052\n",
            "Saving Best\n",
            "\n",
            "Epoch [5/100]\n",
            "Train Loss: 0.8921\n",
            "Valid Loss: 1.0634\n",
            "\n",
            "Epoch [6/100]\n",
            "Train Loss: 0.8687\n",
            "Valid Loss: 0.9495\n",
            "Saving Best\n",
            "\n",
            "Epoch [7/100]\n",
            "Train Loss: 0.7684\n",
            "Valid Loss: 1.0464\n",
            "\n",
            "Epoch [8/100]\n",
            "Train Loss: 0.7480\n",
            "Valid Loss: 0.9662\n",
            "\n",
            "Epoch [9/100]\n",
            "Train Loss: 0.7241\n",
            "Valid Loss: 1.0450\n",
            "\n",
            "Epoch [10/100]\n",
            "Train Loss: 0.7157\n",
            "Valid Loss: 0.9647\n",
            "\n",
            "Epoch [11/100]\n",
            "Train Loss: 0.6739\n",
            "Valid Loss: 0.9314\n",
            "Saving Best\n",
            "\n",
            "Epoch [12/100]\n",
            "Train Loss: 0.6737\n",
            "Valid Loss: 0.9330\n",
            "\n",
            "Epoch [13/100]\n",
            "Train Loss: 0.6368\n",
            "Valid Loss: 0.9133\n",
            "Saving Best\n",
            "\n",
            "Epoch [14/100]\n",
            "Train Loss: 0.6246\n",
            "Valid Loss: 0.9640\n",
            "\n",
            "Epoch [15/100]\n",
            "Train Loss: 0.5886\n",
            "Valid Loss: 0.9651\n",
            "\n",
            "Epoch [16/100]\n",
            "Train Loss: 0.5929\n",
            "Valid Loss: 0.9281\n",
            "\n",
            "Epoch [17/100]\n",
            "Train Loss: 0.5521\n",
            "Valid Loss: 0.9849\n",
            "\n",
            "Epoch [18/100]\n",
            "Train Loss: 0.5394\n",
            "Valid Loss: 0.9538\n",
            "\n",
            "Epoch [19/100]\n",
            "Train Loss: 0.5312\n",
            "Valid Loss: 0.9726\n",
            "\n",
            "Epoch [20/100]\n",
            "Train Loss: 0.5297\n",
            "Valid Loss: 0.9863\n",
            "\n",
            "Epoch [21/100]\n",
            "Train Loss: 0.4995\n",
            "Valid Loss: 0.9679\n",
            "\n",
            "Epoch [22/100]\n",
            "Train Loss: 0.4970\n",
            "Valid Loss: 1.0306\n",
            "\n",
            "Epoch [23/100]\n",
            "Train Loss: 0.5140\n",
            "Valid Loss: 0.9974\n",
            "\n",
            "Epoch [24/100]\n",
            "Train Loss: 0.5013\n",
            "Valid Loss: 1.0355\n",
            "\n",
            "Epoch [25/100]\n",
            "Train Loss: 0.4838\n",
            "Valid Loss: 0.9105\n",
            "Saving Best\n",
            "\n",
            "Epoch [26/100]\n",
            "Train Loss: 0.4903\n",
            "Valid Loss: 0.9033\n",
            "Saving Best\n",
            "\n",
            "Epoch [27/100]\n",
            "Train Loss: 0.4677\n",
            "Valid Loss: 1.0057\n",
            "\n",
            "Epoch [28/100]\n",
            "Train Loss: 0.4736\n",
            "Valid Loss: 1.0348\n",
            "\n",
            "Epoch [29/100]\n",
            "Train Loss: 0.4475\n",
            "Valid Loss: 0.9372\n",
            "\n",
            "Epoch [30/100]\n",
            "Train Loss: 0.4386\n",
            "Valid Loss: 1.0079\n",
            "\n",
            "Epoch [31/100]\n",
            "Train Loss: 0.4381\n",
            "Valid Loss: 1.0877\n",
            "\n",
            "Epoch [32/100]\n",
            "Train Loss: 0.4310\n",
            "Valid Loss: 0.9727\n",
            "\n",
            "Epoch [33/100]\n",
            "Train Loss: 0.4178\n",
            "Valid Loss: 0.9469\n",
            "\n",
            "Epoch [34/100]\n",
            "Train Loss: 0.4247\n",
            "Valid Loss: 0.9853\n",
            "\n",
            "Epoch [35/100]\n",
            "Train Loss: 0.4022\n",
            "Valid Loss: 0.9849\n",
            "\n",
            "Epoch [36/100]\n",
            "Train Loss: 0.4271\n",
            "Valid Loss: 0.9842\n",
            "\n",
            "Epoch [37/100]\n",
            "Train Loss: 0.4110\n",
            "Valid Loss: 0.9838\n",
            "\n",
            "Epoch [38/100]\n",
            "Train Loss: 0.3938\n",
            "Valid Loss: 1.0181\n",
            "\n",
            "Epoch [39/100]\n",
            "Train Loss: 0.3745\n",
            "Valid Loss: 1.0098\n",
            "\n",
            "Epoch [40/100]\n",
            "Train Loss: 0.3703\n",
            "Valid Loss: 0.9768\n",
            "\n",
            "Epoch [41/100]\n",
            "Train Loss: 0.3719\n",
            "Valid Loss: 1.0230\n",
            "\n",
            "Epoch [42/100]\n",
            "Train Loss: 0.3892\n",
            "Valid Loss: 0.9971\n",
            "\n",
            "Epoch [43/100]\n",
            "Train Loss: 0.3617\n",
            "Valid Loss: 0.9776\n",
            "\n",
            "Epoch [44/100]\n",
            "Train Loss: 0.3606\n",
            "Valid Loss: 0.9809\n",
            "\n",
            "Epoch [45/100]\n",
            "Train Loss: 0.3677\n",
            "Valid Loss: 1.0108\n",
            "\n",
            "Epoch [46/100]\n",
            "Train Loss: 0.3568\n",
            "Valid Loss: 0.9998\n",
            "\n",
            "Epoch [47/100]\n",
            "Train Loss: 0.3399\n",
            "Valid Loss: 1.0436\n",
            "\n",
            "Epoch [48/100]\n",
            "Train Loss: 0.3719\n",
            "Valid Loss: 0.9786\n",
            "\n",
            "Epoch [49/100]\n",
            "Train Loss: 0.3502\n",
            "Valid Loss: 1.0153\n",
            "\n",
            "Epoch [50/100]\n",
            "Train Loss: 0.3279\n",
            "Valid Loss: 1.0073\n",
            "\n",
            "Epoch [51/100]\n",
            "Train Loss: 0.3392\n",
            "Valid Loss: 0.9598\n",
            "\n",
            "Epoch [52/100]\n",
            "Train Loss: 0.3417\n",
            "Valid Loss: 1.0268\n",
            "\n",
            "Epoch [53/100]\n",
            "Train Loss: 0.3204\n",
            "Valid Loss: 0.9834\n",
            "\n",
            "Epoch [54/100]\n",
            "Train Loss: 0.3227\n",
            "Valid Loss: 0.9468\n",
            "\n",
            "Epoch [55/100]\n",
            "Train Loss: 0.3046\n",
            "Valid Loss: 1.0362\n",
            "\n",
            "Epoch [56/100]\n",
            "Train Loss: 0.3138\n",
            "Valid Loss: 1.0055\n",
            "\n",
            "Epoch [57/100]\n",
            "Train Loss: 0.3019\n",
            "Valid Loss: 0.9897\n",
            "\n",
            "Epoch [58/100]\n",
            "Train Loss: 0.3182\n",
            "Valid Loss: 0.9763\n",
            "\n",
            "Epoch [59/100]\n",
            "Train Loss: 0.3333\n",
            "Valid Loss: 1.0262\n",
            "\n",
            "Epoch [60/100]\n",
            "Train Loss: 0.3017\n",
            "Valid Loss: 0.9642\n",
            "\n",
            "Epoch [61/100]\n",
            "Train Loss: 0.3164\n",
            "Valid Loss: 1.0340\n",
            "\n",
            "Epoch [62/100]\n",
            "Train Loss: 0.3155\n",
            "Valid Loss: 0.9554\n",
            "\n",
            "Epoch [63/100]\n",
            "Train Loss: 0.2916\n",
            "Valid Loss: 1.0017\n",
            "\n",
            "Epoch [64/100]\n",
            "Train Loss: 0.2925\n",
            "Valid Loss: 1.0077\n",
            "\n",
            "Epoch [65/100]\n",
            "Train Loss: 0.2929\n",
            "Valid Loss: 0.9864\n",
            "\n",
            "Epoch [66/100]\n",
            "Train Loss: 0.2804\n",
            "Valid Loss: 0.9989\n",
            "\n",
            "Epoch [67/100]\n",
            "Train Loss: 0.2928\n",
            "Valid Loss: 0.9932\n",
            "\n",
            "Epoch [68/100]\n",
            "Train Loss: 0.2932\n",
            "Valid Loss: 0.9989\n",
            "\n",
            "Epoch [69/100]\n",
            "Train Loss: 0.2846\n",
            "Valid Loss: 0.9848\n",
            "\n",
            "Epoch [70/100]\n",
            "Train Loss: 0.2825\n",
            "Valid Loss: 1.0107\n",
            "\n",
            "Epoch [71/100]\n",
            "Train Loss: 0.2734\n",
            "Valid Loss: 0.9973\n",
            "\n",
            "Epoch [72/100]\n",
            "Train Loss: 0.2695\n",
            "Valid Loss: 1.0238\n",
            "\n",
            "Epoch [73/100]\n",
            "Train Loss: 0.2795\n",
            "Valid Loss: 0.9420\n",
            "\n",
            "Epoch [74/100]\n",
            "Train Loss: 0.2765\n",
            "Valid Loss: 0.9608\n",
            "\n",
            "Epoch [75/100]\n",
            "Train Loss: 0.2744\n",
            "Valid Loss: 0.9898\n",
            "\n",
            "Epoch [76/100]\n",
            "Train Loss: 0.2580\n",
            "Valid Loss: 1.0247\n",
            "\n",
            "Epoch [77/100]\n",
            "Train Loss: 0.2640\n",
            "Valid Loss: 1.0129\n",
            "\n",
            "Epoch [78/100]\n",
            "Train Loss: 0.2506\n",
            "Valid Loss: 1.0074\n",
            "\n",
            "Epoch [79/100]\n",
            "Train Loss: 0.2528\n",
            "Valid Loss: 1.0284\n",
            "\n",
            "Epoch [80/100]\n",
            "Train Loss: 0.2649\n",
            "Valid Loss: 0.9866\n",
            "\n",
            "Epoch [81/100]\n",
            "Train Loss: 0.2696\n",
            "Valid Loss: 0.9721\n",
            "\n",
            "Epoch [82/100]\n",
            "Train Loss: 0.2744\n",
            "Valid Loss: 0.9663\n",
            "\n",
            "Epoch [83/100]\n",
            "Train Loss: 0.2451\n",
            "Valid Loss: 1.0154\n",
            "\n",
            "Epoch [84/100]\n",
            "Train Loss: 0.2515\n",
            "Valid Loss: 0.9923\n",
            "\n",
            "Epoch [85/100]\n",
            "Train Loss: 0.2448\n",
            "Valid Loss: 1.0502\n",
            "\n",
            "Epoch [86/100]\n",
            "Train Loss: 0.2586\n",
            "Valid Loss: 0.9947\n",
            "\n",
            "Epoch [87/100]\n",
            "Train Loss: 0.2397\n",
            "Valid Loss: 0.9852\n",
            "\n",
            "Epoch [88/100]\n",
            "Train Loss: 0.2511\n",
            "Valid Loss: 0.9906\n",
            "\n",
            "Epoch [89/100]\n",
            "Train Loss: 0.2307\n",
            "Valid Loss: 0.9936\n",
            "\n",
            "Epoch [90/100]\n",
            "Train Loss: 0.2290\n",
            "Valid Loss: 1.0347\n",
            "\n",
            "Epoch [91/100]\n",
            "Train Loss: 0.2289\n",
            "Valid Loss: 0.9913\n",
            "\n",
            "Epoch [92/100]\n",
            "Train Loss: 0.2278\n",
            "Valid Loss: 0.9902\n",
            "\n",
            "Epoch [93/100]\n",
            "Train Loss: 0.2214\n",
            "Valid Loss: 1.0110\n",
            "\n",
            "Epoch [94/100]\n",
            "Train Loss: 0.2396\n",
            "Valid Loss: 1.0056\n",
            "\n",
            "Epoch [95/100]\n",
            "Train Loss: 0.2203\n",
            "Valid Loss: 0.9975\n",
            "\n",
            "Epoch [96/100]\n",
            "Train Loss: 0.2436\n",
            "Valid Loss: 0.9640\n",
            "\n",
            "Epoch [97/100]\n",
            "Train Loss: 0.2343\n",
            "Valid Loss: 0.9913\n",
            "\n",
            "Epoch [98/100]\n",
            "Train Loss: 0.2432\n",
            "Valid Loss: 1.0026\n",
            "\n",
            "Epoch [99/100]\n",
            "Train Loss: 0.2293\n",
            "Valid Loss: 0.9820\n",
            "\n",
            "Epoch [100/100]\n",
            "Train Loss: 0.2126\n",
            "Valid Loss: 0.9634\n",
            "\n",
            "Training Time: 13m56s\n",
            "Training Peak Mem: 1514.8515625\n",
            "Training Params: 3076961\n"
          ]
        }
      ],
      "source": [
        "OUTPUT_MODEL_FILE_NAME = \"MOSI_Multimodal_Transformer\"\n",
        "\n",
        "train_losses, valid_losses = train(\n",
        "    encoders,\n",
        "    fusion,\n",
        "    head,\n",
        "    train_data,\n",
        "    valid_data,\n",
        "    100,\n",
        "    task=\"regression\",\n",
        "    optimtype=torch.optim.AdamW,\n",
        "    early_stop=False,\n",
        "    is_packed=False,\n",
        "    lr=1e-3,\n",
        "    clip_val=1.0,\n",
        "    save=f\"/content/{OUTPUT_MODEL_FILE_NAME}.pt\",\n",
        "    weight_decay=0.01,\n",
        "    objective=torch.nn.L1Loss(),\n",
        ")"
      ]
    },
    {
      "cell_type": "code",
      "execution_count": 10,
      "id": "6322ee5b-0442-47f3-a910-2533fee34036",
      "metadata": {
        "colab": {
          "base_uri": "https://localhost:8080/",
          "height": 490
        },
        "id": "6322ee5b-0442-47f3-a910-2533fee34036",
        "outputId": "25200c1d-f7c2-49e1-e1e6-4e646975a91c"
      },
      "outputs": [
        {
          "data": {
            "text/plain": [
              "Text(0.5, 1.0, 'Loss vs. No. of epochs')"
            ]
          },
          "execution_count": 10,
          "metadata": {},
          "output_type": "execute_result"
        },
        {
          "data": {
            "image/png": "[encoded data removed]",
            "text/plain": [
              "<Figure size 640x480 with 1 Axes>"
            ]
          },
          "metadata": {},
          "output_type": "display_data"
        }
      ],
      "source": [
        "plt.plot(train_losses, label='Train Loss')\n",
        "plt.plot(valid_losses, label='Validation Loss')\n",
        "plt.xlabel('Epochs')\n",
        "plt.ylabel('Loss')\n",
        "plt.legend()\n",
        "plt.grid(True)\n",
        "plt.title('Loss vs. No. of epochs')"
      ]
    },
    {
      "cell_type": "code",
      "execution_count": 11,
      "id": "4ecbf0dc-8fad-490b-bd2a-5b0c265e91ab",
      "metadata": {
        "id": "4ecbf0dc-8fad-490b-bd2a-5b0c265e91ab"
      },
      "outputs": [],
      "source": [
        "save_results(train_losses, valid_losses, f'/content/{OUTPUT_MODEL_FILE_NAME}.pkl')"
      ]
    },
    {
      "cell_type": "markdown",
      "id": "7c091121-ff36-40fc-ab64-a58a4f524e8b",
      "metadata": {
        "id": "7c091121-ff36-40fc-ab64-a58a4f524e8b"
      },
      "source": [
        "## Testing"
      ]
    },
    {
      "cell_type": "code",
      "execution_count": 12,
      "id": "d01b591b-614f-433c-9ae7-10ac18a850fe",
      "metadata": {
        "colab": {
          "base_uri": "https://localhost:8080/"
        },
        "id": "d01b591b-614f-433c-9ae7-10ac18a850fe",
        "outputId": "d9b4c181-45f4-4adf-c876-3bc9bbe413cc"
      },
      "outputs": [
        {
          "name": "stderr",
          "output_type": "stream",
          "text": [
            "<ipython-input-12-bcf0b2d6e777>:1: FutureWarning: You are using `torch.load` with `weights_only=False` (the current default value), which uses the default pickle module implicitly. It is possible to construct malicious pickle data which will execute arbitrary code during unpickling (See https://github.com/pytorch/pytorch/blob/main/SECURITY.md#untrusted-models for more details). In a future release, the default value for `weights_only` will be flipped to `True`. This limits the functions that could be executed during unpickling. Arbitrary objects will no longer be allowed to be loaded via this mode unless they are explicitly allowlisted by the user via `torch.serialization.add_safe_globals`. We recommend you start setting `weights_only=True` for any use case where you don't have full control of the loaded file. Please open an issue on GitHub for any issues related to this experimental feature.\n",
            "  model = torch.load(f\"/content/{OUTPUT_MODEL_FILE_NAME}.pt\").to(device)\n"
          ]
        },
        {
          "name": "stdout",
          "output_type": "stream",
          "text": [
            "Recall: 75.6098% | Total Accuracy: 75.2187%\n",
            "Inference Time: 1s599ms\n",
            "Inference Params: 3076961\n"
          ]
        }
      ],
      "source": [
        "model = torch.load(f\"/content/{OUTPUT_MODEL_FILE_NAME}.pt\").to(device)\n",
        "\n",
        "test(\n",
        "    model,\n",
        "    test_dataloaders_all=test_data,\n",
        "    is_packed=False,\n",
        "    criterion=torch.nn.L1Loss(),\n",
        "    task=\"posneg-classification\"\n",
        ")\n"
      ]
    }
  ],
  "metadata": {
    "accelerator": "GPU",
    "colab": {
      "gpuType": "A100",
      "machine_shape": "hm",
      "provenance": []
    },
    "kernelspec": {
      "display_name": "Python 3",
      "name": "python3"
    },
    "language_info": {
      "codemirror_mode": {
        "name": "ipython",
        "version": 3
      },
      "file_extension": ".py",
      "mimetype": "text/x-python",
      "name": "python",
      "nbconvert_exporter": "python",
      "pygments_lexer": "ipython3",
      "version": "3.11.7"
    }
  },
  "nbformat": 4,
  "nbformat_minor": 5
}
