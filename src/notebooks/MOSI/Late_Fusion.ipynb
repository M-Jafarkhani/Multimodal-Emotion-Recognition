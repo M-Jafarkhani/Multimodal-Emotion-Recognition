{
  "cells": [
    {
      "cell_type": "markdown",
      "id": "067cb8f5-a1c8-40d0-8524-0b28f8e4b586",
      "metadata": {
        "id": "067cb8f5-a1c8-40d0-8524-0b28f8e4b586"
      },
      "source": [
        "# Late Fusion Model - CMU-MOSI Dataset"
      ]
    },
    {
      "cell_type": "code",
      "execution_count": 1,
      "id": "LTtJZDesed8l",
      "metadata": {
        "colab": {
          "base_uri": "https://localhost:8080/"
        },
        "id": "LTtJZDesed8l",
        "outputId": "bfc772cf-23c0-4cd0-de96-fa292350db7a"
      },
      "outputs": [
        {
          "name": "stdout",
          "output_type": "stream",
          "text": [
            "Cloning into 'Multimodal-Sentiment-Analysis'...\n",
            "remote: Enumerating objects: 565, done.\u001b[K\n",
            "remote: Counting objects: 100% (44/44), done.\u001b[K\n",
            "remote: Compressing objects: 100% (41/41), done.\u001b[K\n",
            "remote: Total 565 (delta 9), reused 36 (delta 3), pack-reused 521 (from 2)\u001b[K\n",
            "Receiving objects: 100% (565/565), 428.85 MiB | 14.65 MiB/s, done.\n",
            "Resolving deltas: 100% (246/246), done.\n",
            "Updating files: 100% (41/41), done.\n"
          ]
        }
      ],
      "source": [
        "!git clone https://github.com/M-Jafarkhani/Multimodal-Sentiment-Analysis"
      ]
    },
    {
      "cell_type": "code",
      "execution_count": 2,
      "id": "0amuIXVJeg1r",
      "metadata": {
        "colab": {
          "base_uri": "https://localhost:8080/"
        },
        "id": "0amuIXVJeg1r",
        "outputId": "82c75fa6-4a42-47f3-abbe-aa7149c80fa4"
      },
      "outputs": [
        {
          "name": "stdout",
          "output_type": "stream",
          "text": [
            "Collecting memory_profiler\n",
            "  Downloading memory_profiler-0.61.0-py3-none-any.whl.metadata (20 kB)\n",
            "Requirement already satisfied: psutil in /usr/local/lib/python3.10/dist-packages (from memory_profiler) (5.9.5)\n",
            "Downloading memory_profiler-0.61.0-py3-none-any.whl (31 kB)\n",
            "Installing collected packages: memory_profiler\n",
            "Successfully installed memory_profiler-0.61.0\n"
          ]
        }
      ],
      "source": [
        "!pip install memory_profiler"
      ]
    },
    {
      "cell_type": "code",
      "execution_count": 3,
      "id": "tiehbeSxelsk",
      "metadata": {
        "colab": {
          "base_uri": "https://localhost:8080/",
          "height": 125
        },
        "id": "tiehbeSxelsk",
        "outputId": "9730caf7-09b5-4f90-b81b-3788cb9ad323"
      },
      "outputs": [
        {
          "name": "stderr",
          "output_type": "stream",
          "text": [
            "Downloading...\n",
            "From (original): https://drive.google.com/uc?id=1szKIqO0t3Be_W91xvf6aYmsVVUa7wDHU\n",
            "From (redirected): https://drive.google.com/uc?id=1szKIqO0t3Be_W91xvf6aYmsVVUa7wDHU&confirm=t&uuid=dd234cde-f744-4e30-a09c-69dfdecd87a0\n",
            "To: /content/mosi_raw.pkl\n",
            "100%|██████████| 357M/357M [00:05<00:00, 70.2MB/s]\n"
          ]
        },
        {
          "data": {
            "application/vnd.google.colaboratory.intrinsic+json": {
              "type": "string"
            },
            "text/plain": [
              "'mosi_raw.pkl'"
            ]
          },
          "execution_count": 3,
          "metadata": {},
          "output_type": "execute_result"
        }
      ],
      "source": [
        "import gdown\n",
        "\n",
        "file_id = \"1szKIqO0t3Be_W91xvf6aYmsVVUa7wDHU\"\n",
        "destination = \"mosi_raw.pkl\"\n",
        "\n",
        "gdown.download(\n",
        "    f\"https://drive.google.com/uc?id={file_id}\", destination, quiet=False)"
      ]
    },
    {
      "cell_type": "markdown",
      "id": "fc015c8e-f315-40d9-823c-6fc3626a4510",
      "metadata": {
        "id": "fc015c8e-f315-40d9-823c-6fc3626a4510"
      },
      "source": [
        "## Importing Libraries"
      ]
    },
    {
      "cell_type": "code",
      "execution_count": 4,
      "id": "d4a4adae-a451-493d-9ddb-0efb28537923",
      "metadata": {
        "id": "d4a4adae-a451-493d-9ddb-0efb28537923"
      },
      "outputs": [],
      "source": [
        "import sys\n",
        "import torch\n",
        "import matplotlib.pyplot as plt\n",
        "\n",
        "sys.path.append('/content/Multimodal-Sentiment-Analysis/src')"
      ]
    },
    {
      "cell_type": "markdown",
      "id": "52a35966-1fba-4107-a1fc-1137f26224bf",
      "metadata": {
        "id": "52a35966-1fba-4107-a1fc-1137f26224bf"
      },
      "source": [
        "## Importing Helper Functions"
      ]
    },
    {
      "cell_type": "code",
      "execution_count": 5,
      "id": "b8d45f84-62c1-4315-9010-45d345dda90d",
      "metadata": {
        "id": "b8d45f84-62c1-4315-9010-45d345dda90d"
      },
      "outputs": [],
      "source": [
        "from loader import get_dataloader\n",
        "from unimodals.modules import GRU, MLP\n",
        "from training.supervised import train, test\n",
        "from fusions.modules import Concat\n",
        "from utils import get_default_device, save_results"
      ]
    },
    {
      "cell_type": "markdown",
      "id": "8dc9b148-2e2f-4cfa-a7d4-d53b639f5b18",
      "metadata": {
        "id": "8dc9b148-2e2f-4cfa-a7d4-d53b639f5b18"
      },
      "source": [
        "## Loading the Dataset"
      ]
    },
    {
      "cell_type": "code",
      "execution_count": 6,
      "id": "7f193c63-0bfb-4248-a2a8-e81ca20a7c14",
      "metadata": {
        "id": "7f193c63-0bfb-4248-a2a8-e81ca20a7c14"
      },
      "outputs": [],
      "source": [
        "train_data, valid_data, test_data = get_dataloader('/content/mosi_raw.pkl')"
      ]
    },
    {
      "cell_type": "code",
      "execution_count": 7,
      "id": "75b021aa-09ec-4739-92d3-028a0ed54287",
      "metadata": {
        "colab": {
          "base_uri": "https://localhost:8080/"
        },
        "id": "75b021aa-09ec-4739-92d3-028a0ed54287",
        "outputId": "38fe966a-a5b1-4ed2-a2a7-92710f83db60"
      },
      "outputs": [
        {
          "name": "stdout",
          "output_type": "stream",
          "text": [
            "cuda\n"
          ]
        }
      ],
      "source": [
        "device = get_default_device()\n",
        "print(device)"
      ]
    },
    {
      "cell_type": "markdown",
      "id": "a1b80fea-4d34-4db8-a1ed-9ca4e853bbd4",
      "metadata": {
        "id": "a1b80fea-4d34-4db8-a1ed-9ca4e853bbd4"
      },
      "source": [
        "## Model Architecture"
      ]
    },
    {
      "cell_type": "code",
      "execution_count": 8,
      "id": "59286eb3-949a-4afb-b4f4-0b115b885f92",
      "metadata": {
        "id": "59286eb3-949a-4afb-b4f4-0b115b885f92"
      },
      "outputs": [],
      "source": [
        "encoders = [\n",
        "    GRU(35, 70, dropout=True, has_padding=True, batch_first=True).to(device),\n",
        "    GRU(74, 200, dropout=True, has_padding=True, batch_first=True).to(device),\n",
        "    GRU(300, 600, dropout=True, has_padding=True, batch_first=True).to(device),\n",
        "]\n",
        "head = MLP(870, 870, 1).to(device)\n",
        "fusion = Concat().to(device)\n"
      ]
    },
    {
      "cell_type": "markdown",
      "id": "4575e9d5-572c-4810-ba00-030f8ded6f05",
      "metadata": {
        "id": "4575e9d5-572c-4810-ba00-030f8ded6f05"
      },
      "source": [
        "## Training"
      ]
    },
    {
      "cell_type": "code",
      "execution_count": 9,
      "id": "f0b5dfe9-6677-4494-a013-7343ed43b731",
      "metadata": {
        "colab": {
          "base_uri": "https://localhost:8080/"
        },
        "id": "f0b5dfe9-6677-4494-a013-7343ed43b731",
        "outputId": "880eb1d8-754d-420d-95db-3facce059971"
      },
      "outputs": [
        {
          "name": "stdout",
          "output_type": "stream",
          "text": [
            "Epoch [1/100]\n",
            "Train Loss: 1.2586\n",
            "Valid Loss: 1.1852\n",
            "Saving Best\n",
            "\n",
            "Epoch [2/100]\n",
            "Train Loss: 1.0355\n",
            "Valid Loss: 1.0406\n",
            "Saving Best\n",
            "\n",
            "Epoch [3/100]\n",
            "Train Loss: 0.8748\n",
            "Valid Loss: 1.0243\n",
            "Saving Best\n",
            "\n",
            "Epoch [4/100]\n",
            "Train Loss: 0.8015\n",
            "Valid Loss: 0.9372\n",
            "Saving Best\n",
            "\n",
            "Epoch [5/100]\n",
            "Train Loss: 0.7608\n",
            "Valid Loss: 0.9108\n",
            "Saving Best\n",
            "\n",
            "Epoch [6/100]\n",
            "Train Loss: 0.6798\n",
            "Valid Loss: 0.8851\n",
            "Saving Best\n",
            "\n",
            "Epoch [7/100]\n",
            "Train Loss: 0.6319\n",
            "Valid Loss: 0.9631\n",
            "\n",
            "Epoch [8/100]\n",
            "Train Loss: 0.6105\n",
            "Valid Loss: 0.9775\n",
            "\n",
            "Epoch [9/100]\n",
            "Train Loss: 0.6071\n",
            "Valid Loss: 0.8763\n",
            "Saving Best\n",
            "\n",
            "Epoch [10/100]\n",
            "Train Loss: 0.5207\n",
            "Valid Loss: 0.9120\n",
            "\n",
            "Epoch [11/100]\n",
            "Train Loss: 0.4610\n",
            "Valid Loss: 0.9158\n",
            "\n",
            "Epoch [12/100]\n",
            "Train Loss: 0.4470\n",
            "Valid Loss: 0.9026\n",
            "\n",
            "Epoch [13/100]\n",
            "Train Loss: 0.3995\n",
            "Valid Loss: 0.9030\n",
            "\n",
            "Epoch [14/100]\n",
            "Train Loss: 0.3558\n",
            "Valid Loss: 0.9257\n",
            "\n",
            "Epoch [15/100]\n",
            "Train Loss: 0.3624\n",
            "Valid Loss: 0.9112\n",
            "\n",
            "Epoch [16/100]\n",
            "Train Loss: 0.3174\n",
            "Valid Loss: 0.9423\n",
            "\n",
            "Epoch [17/100]\n",
            "Train Loss: 0.3048\n",
            "Valid Loss: 0.9484\n",
            "\n",
            "Epoch [18/100]\n",
            "Train Loss: 0.2976\n",
            "Valid Loss: 0.9341\n",
            "\n",
            "Epoch [19/100]\n",
            "Train Loss: 0.2646\n",
            "Valid Loss: 0.9658\n",
            "\n",
            "Epoch [20/100]\n",
            "Train Loss: 0.2516\n",
            "Valid Loss: 0.9641\n",
            "\n",
            "Epoch [21/100]\n",
            "Train Loss: 0.2605\n",
            "Valid Loss: 0.9641\n",
            "\n",
            "Epoch [22/100]\n",
            "Train Loss: 0.2527\n",
            "Valid Loss: 0.9886\n",
            "\n",
            "Epoch [23/100]\n",
            "Train Loss: 0.2450\n",
            "Valid Loss: 0.9422\n",
            "\n",
            "Epoch [24/100]\n",
            "Train Loss: 0.2281\n",
            "Valid Loss: 0.9780\n",
            "\n",
            "Epoch [25/100]\n",
            "Train Loss: 0.2498\n",
            "Valid Loss: 0.9480\n",
            "\n",
            "Epoch [26/100]\n",
            "Train Loss: 0.2158\n",
            "Valid Loss: 0.9569\n",
            "\n",
            "Epoch [27/100]\n",
            "Train Loss: 0.2182\n",
            "Valid Loss: 0.9521\n",
            "\n",
            "Epoch [28/100]\n",
            "Train Loss: 0.1940\n",
            "Valid Loss: 0.9409\n",
            "\n",
            "Epoch [29/100]\n",
            "Train Loss: 0.1869\n",
            "Valid Loss: 0.9561\n",
            "\n",
            "Epoch [30/100]\n",
            "Train Loss: 0.1812\n",
            "Valid Loss: 0.9434\n",
            "\n",
            "Epoch [31/100]\n",
            "Train Loss: 0.1959\n",
            "Valid Loss: 0.9658\n",
            "\n",
            "Epoch [32/100]\n",
            "Train Loss: 0.1923\n",
            "Valid Loss: 0.9247\n",
            "\n",
            "Epoch [33/100]\n",
            "Train Loss: 0.1790\n",
            "Valid Loss: 0.9476\n",
            "\n",
            "Epoch [34/100]\n",
            "Train Loss: 0.1877\n",
            "Valid Loss: 0.9476\n",
            "\n",
            "Epoch [35/100]\n",
            "Train Loss: 0.1830\n",
            "Valid Loss: 0.9458\n",
            "\n",
            "Epoch [36/100]\n",
            "Train Loss: 0.1741\n",
            "Valid Loss: 0.9450\n",
            "\n",
            "Epoch [37/100]\n",
            "Train Loss: 0.1582\n",
            "Valid Loss: 0.9399\n",
            "\n",
            "Epoch [38/100]\n",
            "Train Loss: 0.1756\n",
            "Valid Loss: 0.9269\n",
            "\n",
            "Epoch [39/100]\n",
            "Train Loss: 0.1678\n",
            "Valid Loss: 0.9268\n",
            "\n",
            "Epoch [40/100]\n",
            "Train Loss: 0.1585\n",
            "Valid Loss: 0.9244\n",
            "\n",
            "Epoch [41/100]\n",
            "Train Loss: 0.1558\n",
            "Valid Loss: 0.9448\n",
            "\n",
            "Epoch [42/100]\n",
            "Train Loss: 0.1614\n",
            "Valid Loss: 0.9317\n",
            "\n",
            "Epoch [43/100]\n",
            "Train Loss: 0.1617\n",
            "Valid Loss: 0.9396\n",
            "\n",
            "Epoch [44/100]\n",
            "Train Loss: 0.1464\n",
            "Valid Loss: 0.9294\n",
            "\n",
            "Epoch [45/100]\n",
            "Train Loss: 0.1437\n",
            "Valid Loss: 0.9379\n",
            "\n",
            "Epoch [46/100]\n",
            "Train Loss: 0.1439\n",
            "Valid Loss: 0.9329\n",
            "\n",
            "Epoch [47/100]\n",
            "Train Loss: 0.1390\n",
            "Valid Loss: 0.9590\n",
            "\n",
            "Epoch [48/100]\n",
            "Train Loss: 0.1317\n",
            "Valid Loss: 0.9249\n",
            "\n",
            "Epoch [49/100]\n",
            "Train Loss: 0.1448\n",
            "Valid Loss: 0.9220\n",
            "\n",
            "Epoch [50/100]\n",
            "Train Loss: 0.1517\n",
            "Valid Loss: 0.9244\n",
            "\n",
            "Epoch [51/100]\n",
            "Train Loss: 0.1344\n",
            "Valid Loss: 0.9515\n",
            "\n",
            "Epoch [52/100]\n",
            "Train Loss: 0.1403\n",
            "Valid Loss: 0.9546\n",
            "\n",
            "Epoch [53/100]\n",
            "Train Loss: 0.1429\n",
            "Valid Loss: 0.9276\n",
            "\n",
            "Epoch [54/100]\n",
            "Train Loss: 0.1306\n",
            "Valid Loss: 0.9485\n",
            "\n",
            "Epoch [55/100]\n",
            "Train Loss: 0.1346\n",
            "Valid Loss: 0.9319\n",
            "\n",
            "Epoch [56/100]\n",
            "Train Loss: 0.1241\n",
            "Valid Loss: 0.9251\n",
            "\n",
            "Epoch [57/100]\n",
            "Train Loss: 0.1283\n",
            "Valid Loss: 0.9322\n",
            "\n",
            "Epoch [58/100]\n",
            "Train Loss: 0.1320\n",
            "Valid Loss: 0.9449\n",
            "\n",
            "Epoch [59/100]\n",
            "Train Loss: 0.1351\n",
            "Valid Loss: 0.9447\n",
            "\n",
            "Epoch [60/100]\n",
            "Train Loss: 0.1315\n",
            "Valid Loss: 0.9079\n",
            "\n",
            "Epoch [61/100]\n",
            "Train Loss: 0.1438\n",
            "Valid Loss: 0.9414\n",
            "\n",
            "Epoch [62/100]\n",
            "Train Loss: 0.1186\n",
            "Valid Loss: 0.9338\n",
            "\n",
            "Epoch [63/100]\n",
            "Train Loss: 0.1266\n",
            "Valid Loss: 0.9191\n",
            "\n",
            "Epoch [64/100]\n",
            "Train Loss: 0.1373\n",
            "Valid Loss: 0.9345\n",
            "\n",
            "Epoch [65/100]\n",
            "Train Loss: 0.1183\n",
            "Valid Loss: 0.9308\n",
            "\n",
            "Epoch [66/100]\n",
            "Train Loss: 0.1172\n",
            "Valid Loss: 0.9295\n",
            "\n",
            "Epoch [67/100]\n",
            "Train Loss: 0.1259\n",
            "Valid Loss: 0.9122\n",
            "\n",
            "Epoch [68/100]\n",
            "Train Loss: 0.1213\n",
            "Valid Loss: 0.9231\n",
            "\n",
            "Epoch [69/100]\n",
            "Train Loss: 0.1188\n",
            "Valid Loss: 0.9182\n",
            "\n",
            "Epoch [70/100]\n",
            "Train Loss: 0.1212\n",
            "Valid Loss: 0.9197\n",
            "\n",
            "Epoch [71/100]\n",
            "Train Loss: 0.1201\n",
            "Valid Loss: 0.9278\n",
            "\n",
            "Epoch [72/100]\n",
            "Train Loss: 0.1138\n",
            "Valid Loss: 0.9112\n",
            "\n",
            "Epoch [73/100]\n",
            "Train Loss: 0.1108\n",
            "Valid Loss: 0.9207\n",
            "\n",
            "Epoch [74/100]\n",
            "Train Loss: 0.1094\n",
            "Valid Loss: 0.9076\n",
            "\n",
            "Epoch [75/100]\n",
            "Train Loss: 0.1072\n",
            "Valid Loss: 0.9237\n",
            "\n",
            "Epoch [76/100]\n",
            "Train Loss: 0.1169\n",
            "Valid Loss: 0.9166\n",
            "\n",
            "Epoch [77/100]\n",
            "Train Loss: 0.1155\n",
            "Valid Loss: 0.9209\n",
            "\n",
            "Epoch [78/100]\n",
            "Train Loss: 0.1069\n",
            "Valid Loss: 0.9271\n",
            "\n",
            "Epoch [79/100]\n",
            "Train Loss: 0.1160\n",
            "Valid Loss: 0.9160\n",
            "\n",
            "Epoch [80/100]\n",
            "Train Loss: 0.1052\n",
            "Valid Loss: 0.9251\n",
            "\n",
            "Epoch [81/100]\n",
            "Train Loss: 0.1100\n",
            "Valid Loss: 0.9219\n",
            "\n",
            "Epoch [82/100]\n",
            "Train Loss: 0.1000\n",
            "Valid Loss: 0.9159\n",
            "\n",
            "Epoch [83/100]\n",
            "Train Loss: 0.1070\n",
            "Valid Loss: 0.9436\n",
            "\n",
            "Epoch [84/100]\n",
            "Train Loss: 0.1052\n",
            "Valid Loss: 0.9112\n",
            "\n",
            "Epoch [85/100]\n",
            "Train Loss: 0.1058\n",
            "Valid Loss: 0.9200\n",
            "\n",
            "Epoch [86/100]\n",
            "Train Loss: 0.1143\n",
            "Valid Loss: 0.9161\n",
            "\n",
            "Epoch [87/100]\n",
            "Train Loss: 0.1027\n",
            "Valid Loss: 0.9208\n",
            "\n",
            "Epoch [88/100]\n",
            "Train Loss: 0.1084\n",
            "Valid Loss: 0.9236\n",
            "\n",
            "Epoch [89/100]\n",
            "Train Loss: 0.0964\n",
            "Valid Loss: 0.9239\n",
            "\n",
            "Epoch [90/100]\n",
            "Train Loss: 0.1048\n",
            "Valid Loss: 0.9185\n",
            "\n",
            "Epoch [91/100]\n",
            "Train Loss: 0.0965\n",
            "Valid Loss: 0.9211\n",
            "\n",
            "Epoch [92/100]\n",
            "Train Loss: 0.1088\n",
            "Valid Loss: 0.9139\n",
            "\n",
            "Epoch [93/100]\n",
            "Train Loss: 0.1058\n",
            "Valid Loss: 0.9239\n",
            "\n",
            "Epoch [94/100]\n",
            "Train Loss: 0.1013\n",
            "Valid Loss: 0.9217\n",
            "\n",
            "Epoch [95/100]\n",
            "Train Loss: 0.1022\n",
            "Valid Loss: 0.9293\n",
            "\n",
            "Epoch [96/100]\n",
            "Train Loss: 0.0971\n",
            "Valid Loss: 0.9094\n",
            "\n",
            "Epoch [97/100]\n",
            "Train Loss: 0.0987\n",
            "Valid Loss: 0.9169\n",
            "\n",
            "Epoch [98/100]\n",
            "Train Loss: 0.0952\n",
            "Valid Loss: 0.9114\n",
            "\n",
            "Epoch [99/100]\n",
            "Train Loss: 0.0967\n",
            "Valid Loss: 0.9188\n",
            "\n",
            "Epoch [100/100]\n",
            "Train Loss: 0.0998\n",
            "Valid Loss: 0.9340\n",
            "\n",
            "Training Time: 3m37s\n",
            "Training Peak Mem: 1520.40234375\n",
            "Training Params: 2570311\n"
          ]
        }
      ],
      "source": [
        "OUTPUT_MODEL_FILE_NAME = 'MOSI_Late_Fusion'\n",
        "train_losses, valid_losses = train(\n",
        "    encoders,\n",
        "    fusion,\n",
        "    head,\n",
        "    train_data,\n",
        "    valid_data,\n",
        "    100,\n",
        "    task=\"regression\",\n",
        "    optimtype=torch.optim.AdamW,\n",
        "    early_stop=False,\n",
        "    is_packed=True,\n",
        "    lr=1e-3,\n",
        "    save=f\"/content/{OUTPUT_MODEL_FILE_NAME}.pt\",\n",
        "    weight_decay=0.01,\n",
        "    objective=torch.nn.L1Loss(),\n",
        ")\n"
      ]
    },
    {
      "cell_type": "code",
      "execution_count": 10,
      "id": "b0e7c33a-a68d-4292-a2b2-14e8a2e53500",
      "metadata": {
        "colab": {
          "base_uri": "https://localhost:8080/",
          "height": 490
        },
        "id": "b0e7c33a-a68d-4292-a2b2-14e8a2e53500",
        "outputId": "2ad4dad1-edd5-4af8-f62a-803edcfbe45e"
      },
      "outputs": [
        {
          "data": {
            "text/plain": [
              "Text(0.5, 1.0, 'Loss vs. No. of epochs')"
            ]
          },
          "execution_count": 10,
          "metadata": {},
          "output_type": "execute_result"
        },
        {
          "data": {
            "image/png": "[encoded data removed]",
            "text/plain": [
              "<Figure size 640x480 with 1 Axes>"
            ]
          },
          "metadata": {},
          "output_type": "display_data"
        }
      ],
      "source": [
        "plt.plot(train_losses, label='Train Loss')\n",
        "plt.plot(valid_losses, label='Validation Loss')\n",
        "plt.xlabel('Epochs')\n",
        "plt.ylabel('Loss')\n",
        "plt.legend()\n",
        "plt.grid(True)\n",
        "plt.title('Loss vs. No. of epochs')"
      ]
    },
    {
      "cell_type": "code",
      "execution_count": 11,
      "id": "8bbd60df-8764-4fcd-a545-90860e5f8a2c",
      "metadata": {
        "id": "8bbd60df-8764-4fcd-a545-90860e5f8a2c"
      },
      "outputs": [],
      "source": [
        "save_results(train_losses, valid_losses, f\"/content/{OUTPUT_MODEL_FILE_NAME}.pkl\")"
      ]
    },
    {
      "cell_type": "markdown",
      "id": "a2a0ca4a-2c05-4ba2-a6aa-1db0e341598b",
      "metadata": {
        "id": "a2a0ca4a-2c05-4ba2-a6aa-1db0e341598b"
      },
      "source": [
        "## Testing"
      ]
    },
    {
      "cell_type": "code",
      "execution_count": 12,
      "id": "d4352442-0d78-4195-bd04-2332af36a7f7",
      "metadata": {
        "colab": {
          "base_uri": "https://localhost:8080/"
        },
        "id": "d4352442-0d78-4195-bd04-2332af36a7f7",
        "outputId": "822c9ed4-2a98-4a4d-99f7-deb382d077e8"
      },
      "outputs": [
        {
          "name": "stderr",
          "output_type": "stream",
          "text": [
            "<ipython-input-12-b8d14d77f9c5>:1: FutureWarning: You are using `torch.load` with `weights_only=False` (the current default value), which uses the default pickle module implicitly. It is possible to construct malicious pickle data which will execute arbitrary code during unpickling (See https://github.com/pytorch/pytorch/blob/main/SECURITY.md#untrusted-models for more details). In a future release, the default value for `weights_only` will be flipped to `True`. This limits the functions that could be executed during unpickling. Arbitrary objects will no longer be allowed to be loaded via this mode unless they are explicitly allowlisted by the user via `torch.serialization.add_safe_globals`. We recommend you start setting `weights_only=True` for any use case where you don't have full control of the loaded file. Please open an issue on GitHub for any issues related to this experimental feature.\n",
            "  model = torch.load(f\"/content/{OUTPUT_MODEL_FILE_NAME}.pt\").to(device)\n"
          ]
        },
        {
          "name": "stdout",
          "output_type": "stream",
          "text": [
            "Recall: 75.4573% | Total Accuracy: 75.2187%\n",
            "Inference Time: 349ms\n",
            "Inference Params: 2570311\n"
          ]
        }
      ],
      "source": [
        "model = torch.load(f\"/content/{OUTPUT_MODEL_FILE_NAME}.pt\").to(device)\n",
        "test(\n",
        "    model,\n",
        "    test_dataloaders_all=test_data,\n",
        "    is_packed=True,\n",
        "    criterion=torch.nn.L1Loss(),\n",
        "    task=\"posneg-classification\"\n",
        ")\n"
      ]
    }
  ],
  "metadata": {
    "accelerator": "GPU",
    "colab": {
      "gpuType": "A100",
      "machine_shape": "hm",
      "provenance": []
    },
    "kernelspec": {
      "display_name": "Python 3",
      "name": "python3"
    },
    "language_info": {
      "codemirror_mode": {
        "name": "ipython",
        "version": 3
      },
      "file_extension": ".py",
      "mimetype": "text/x-python",
      "name": "python",
      "nbconvert_exporter": "python",
      "pygments_lexer": "ipython3",
      "version": "3.11.7"
    }
  },
  "nbformat": 4,
  "nbformat_minor": 5
}
