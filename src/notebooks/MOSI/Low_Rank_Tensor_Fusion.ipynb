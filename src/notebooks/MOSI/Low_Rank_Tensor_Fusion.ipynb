{
  "cells": [
    {
      "cell_type": "markdown",
      "id": "067cb8f5-a1c8-40d0-8524-0b28f8e4b586",
      "metadata": {
        "id": "067cb8f5-a1c8-40d0-8524-0b28f8e4b586"
      },
      "source": [
        "# Low Rank Tensor Fusion Model - CMU-MOSI Dataset"
      ]
    },
    {
      "cell_type": "code",
      "execution_count": 1,
      "id": "tE2TxpIlgu2J",
      "metadata": {
        "colab": {
          "base_uri": "https://localhost:8080/"
        },
        "id": "tE2TxpIlgu2J",
        "outputId": "54babb21-2070-410d-c17f-ab5a17c950af"
      },
      "outputs": [
        {
          "name": "stdout",
          "output_type": "stream",
          "text": [
            "Cloning into 'Multimodal-Sentiment-Analysis'...\n",
            "remote: Enumerating objects: 579, done.\u001b[K\n",
            "remote: Counting objects: 100% (14/14), done.\u001b[K\n",
            "remote: Compressing objects: 100% (14/14), done.\u001b[K\n",
            "remote: Total 579 (delta 0), reused 8 (delta 0), pack-reused 565 (from 2)\u001b[K\n",
            "Receiving objects: 100% (579/579), 438.04 MiB | 49.94 MiB/s, done.\n",
            "Resolving deltas: 100% (252/252), done.\n",
            "Updating files: 100% (43/43), done.\n"
          ]
        }
      ],
      "source": [
        "!git clone https://github.com/M-Jafarkhani/Multimodal-Sentiment-Analysis"
      ]
    },
    {
      "cell_type": "code",
      "execution_count": 2,
      "id": "u_ms9oUzgzK9",
      "metadata": {
        "colab": {
          "base_uri": "https://localhost:8080/"
        },
        "id": "u_ms9oUzgzK9",
        "outputId": "016b51a7-8219-46f0-c8a9-106ae1428b11"
      },
      "outputs": [
        {
          "name": "stdout",
          "output_type": "stream",
          "text": [
            "Collecting memory_profiler\n",
            "  Downloading memory_profiler-0.61.0-py3-none-any.whl.metadata (20 kB)\n",
            "Requirement already satisfied: psutil in /usr/local/lib/python3.10/dist-packages (from memory_profiler) (5.9.5)\n",
            "Downloading memory_profiler-0.61.0-py3-none-any.whl (31 kB)\n",
            "Installing collected packages: memory_profiler\n",
            "Successfully installed memory_profiler-0.61.0\n"
          ]
        }
      ],
      "source": [
        "!pip install memory_profiler"
      ]
    },
    {
      "cell_type": "code",
      "execution_count": 3,
      "id": "aAd_nqvwg559",
      "metadata": {
        "colab": {
          "base_uri": "https://localhost:8080/",
          "height": 125
        },
        "id": "aAd_nqvwg559",
        "outputId": "5ad945a9-a39f-4604-d6ee-97302517543d"
      },
      "outputs": [
        {
          "name": "stderr",
          "output_type": "stream",
          "text": [
            "Downloading...\n",
            "From (original): https://drive.google.com/uc?id=1szKIqO0t3Be_W91xvf6aYmsVVUa7wDHU\n",
            "From (redirected): https://drive.google.com/uc?id=1szKIqO0t3Be_W91xvf6aYmsVVUa7wDHU&confirm=t&uuid=2e2bb414-f79b-4a28-9b27-6950ee78a289\n",
            "To: /content/mosi_raw.pkl\n",
            "100%|██████████| 357M/357M [00:01<00:00, 230MB/s]\n"
          ]
        },
        {
          "data": {
            "application/vnd.google.colaboratory.intrinsic+json": {
              "type": "string"
            },
            "text/plain": [
              "'mosi_raw.pkl'"
            ]
          },
          "execution_count": 3,
          "metadata": {},
          "output_type": "execute_result"
        }
      ],
      "source": [
        "import gdown\n",
        "\n",
        "file_id = \"1szKIqO0t3Be_W91xvf6aYmsVVUa7wDHU\"\n",
        "destination = \"mosi_raw.pkl\"\n",
        "\n",
        "gdown.download(\n",
        "    f\"https://drive.google.com/uc?id={file_id}\", destination, quiet=False)"
      ]
    },
    {
      "cell_type": "markdown",
      "id": "fc015c8e-f315-40d9-823c-6fc3626a4510",
      "metadata": {
        "id": "fc015c8e-f315-40d9-823c-6fc3626a4510"
      },
      "source": [
        "## Importing Libraries"
      ]
    },
    {
      "cell_type": "code",
      "execution_count": 4,
      "id": "d4a4adae-a451-493d-9ddb-0efb28537923",
      "metadata": {
        "id": "d4a4adae-a451-493d-9ddb-0efb28537923"
      },
      "outputs": [],
      "source": [
        "import sys\n",
        "import torch\n",
        "import matplotlib.pyplot as plt\n",
        "\n",
        "sys.path.append('/content/Multimodal-Sentiment-Analysis/src')"
      ]
    },
    {
      "cell_type": "markdown",
      "id": "52a35966-1fba-4107-a1fc-1137f26224bf",
      "metadata": {
        "id": "52a35966-1fba-4107-a1fc-1137f26224bf"
      },
      "source": [
        "## Importing Helper Functions"
      ]
    },
    {
      "cell_type": "code",
      "execution_count": 5,
      "id": "b8d45f84-62c1-4315-9010-45d345dda90d",
      "metadata": {
        "id": "b8d45f84-62c1-4315-9010-45d345dda90d"
      },
      "outputs": [],
      "source": [
        "from loader import get_dataloader\n",
        "from unimodals.modules import GRUWithLinear, MLP\n",
        "from fusions.modules import LowRankTensorFusion\n",
        "from training.supervised import train, test\n",
        "from utils import get_default_device, save_results"
      ]
    },
    {
      "cell_type": "markdown",
      "id": "8dc9b148-2e2f-4cfa-a7d4-d53b639f5b18",
      "metadata": {
        "id": "8dc9b148-2e2f-4cfa-a7d4-d53b639f5b18"
      },
      "source": [
        "## Loading the Dataset"
      ]
    },
    {
      "cell_type": "code",
      "execution_count": 6,
      "id": "7f193c63-0bfb-4248-a2a8-e81ca20a7c14",
      "metadata": {
        "id": "7f193c63-0bfb-4248-a2a8-e81ca20a7c14"
      },
      "outputs": [],
      "source": [
        "train_data, valid_data, test_data = get_dataloader('/content/mosi_raw.pkl')"
      ]
    },
    {
      "cell_type": "code",
      "execution_count": 7,
      "id": "75b021aa-09ec-4739-92d3-028a0ed54287",
      "metadata": {
        "colab": {
          "base_uri": "https://localhost:8080/"
        },
        "id": "75b021aa-09ec-4739-92d3-028a0ed54287",
        "outputId": "9d297981-6739-4676-83a2-ab6a0b92a7c1"
      },
      "outputs": [
        {
          "name": "stdout",
          "output_type": "stream",
          "text": [
            "cuda\n"
          ]
        }
      ],
      "source": [
        "device = get_default_device()\n",
        "print(device)"
      ]
    },
    {
      "cell_type": "markdown",
      "id": "a1b80fea-4d34-4db8-a1ed-9ca4e853bbd4",
      "metadata": {
        "id": "a1b80fea-4d34-4db8-a1ed-9ca4e853bbd4"
      },
      "source": [
        "## Model Architecture"
      ]
    },
    {
      "cell_type": "code",
      "execution_count": 8,
      "id": "59286eb3-949a-4afb-b4f4-0b115b885f92",
      "metadata": {
        "colab": {
          "base_uri": "https://localhost:8080/"
        },
        "id": "59286eb3-949a-4afb-b4f4-0b115b885f92",
        "outputId": "750918c9-5217-4055-9c52-765ef265f185"
      },
      "outputs": [
        {
          "name": "stderr",
          "output_type": "stream",
          "text": [
            "/content/Multimodal-Sentiment-Analysis/src/fusions/modules.py:303: FutureWarning: `nn.init.xavier_normal` is now deprecated in favor of `nn.init.xavier_normal_`.\n",
            "  nn.init.xavier_normal(factor)\n",
            "/content/Multimodal-Sentiment-Analysis/src/fusions/modules.py:310: FutureWarning: `nn.init.xavier_normal` is now deprecated in favor of `nn.init.xavier_normal_`.\n",
            "  nn.init.xavier_normal(self.fusion_weights)\n"
          ]
        }
      ],
      "source": [
        "encoders = [\n",
        "    GRUWithLinear(35, 64, 32, dropout=True, has_padding=True).to(device),\n",
        "    GRUWithLinear(74, 128, 32, dropout=True, has_padding=True).to(device),\n",
        "    GRUWithLinear(300, 512, 128, dropout=True, has_padding=True).to(device)\n",
        "]\n",
        "\n",
        "head = MLP(128, 512, 1).to(device)\n",
        "\n",
        "fusion = LowRankTensorFusion([32, 32, 128], 128, 32).to(device)"
      ]
    },
    {
      "cell_type": "markdown",
      "id": "4575e9d5-572c-4810-ba00-030f8ded6f05",
      "metadata": {
        "id": "4575e9d5-572c-4810-ba00-030f8ded6f05"
      },
      "source": [
        "## Training"
      ]
    },
    {
      "cell_type": "code",
      "execution_count": 10,
      "id": "f0b5dfe9-6677-4494-a013-7343ed43b731",
      "metadata": {
        "colab": {
          "base_uri": "https://localhost:8080/"
        },
        "id": "f0b5dfe9-6677-4494-a013-7343ed43b731",
        "outputId": "1ca62367-0033-4246-891d-6570071cabaf"
      },
      "outputs": [
        {
          "name": "stdout",
          "output_type": "stream",
          "text": [
            "Epoch [1/100]\n",
            "Train Loss: 0.3693\n",
            "Valid Loss: 0.9612\n",
            "Saving Best\n",
            "\n",
            "Epoch [2/100]\n",
            "Train Loss: 0.3432\n",
            "Valid Loss: 0.9675\n",
            "\n",
            "Epoch [3/100]\n",
            "Train Loss: 0.3194\n",
            "Valid Loss: 0.9583\n",
            "Saving Best\n",
            "\n",
            "Epoch [4/100]\n",
            "Train Loss: 0.2997\n",
            "Valid Loss: 0.9544\n",
            "Saving Best\n",
            "\n",
            "Epoch [5/100]\n",
            "Train Loss: 0.3023\n",
            "Valid Loss: 0.9626\n",
            "\n",
            "Epoch [6/100]\n",
            "Train Loss: 0.2797\n",
            "Valid Loss: 0.9436\n",
            "Saving Best\n",
            "\n",
            "Epoch [7/100]\n",
            "Train Loss: 0.2758\n",
            "Valid Loss: 0.9444\n",
            "\n",
            "Epoch [8/100]\n",
            "Train Loss: 0.2680\n",
            "Valid Loss: 0.9336\n",
            "Saving Best\n",
            "\n",
            "Epoch [9/100]\n",
            "Train Loss: 0.2587\n",
            "Valid Loss: 0.9578\n",
            "\n",
            "Epoch [10/100]\n",
            "Train Loss: 0.2508\n",
            "Valid Loss: 0.9331\n",
            "Saving Best\n",
            "\n",
            "Epoch [11/100]\n",
            "Train Loss: 0.2478\n",
            "Valid Loss: 0.9363\n",
            "\n",
            "Epoch [12/100]\n",
            "Train Loss: 0.2312\n",
            "Valid Loss: 0.9452\n",
            "\n",
            "Epoch [13/100]\n",
            "Train Loss: 0.2464\n",
            "Valid Loss: 0.9507\n",
            "\n",
            "Epoch [14/100]\n",
            "Train Loss: 0.2239\n",
            "Valid Loss: 0.9473\n",
            "\n",
            "Epoch [15/100]\n",
            "Train Loss: 0.2161\n",
            "Valid Loss: 0.9463\n",
            "\n",
            "Epoch [16/100]\n",
            "Train Loss: 0.2215\n",
            "Valid Loss: 0.9322\n",
            "Saving Best\n",
            "\n",
            "Epoch [17/100]\n",
            "Train Loss: 0.2021\n",
            "Valid Loss: 0.9374\n",
            "\n",
            "Epoch [18/100]\n",
            "Train Loss: 0.2084\n",
            "Valid Loss: 0.9318\n",
            "Saving Best\n",
            "\n",
            "Epoch [19/100]\n",
            "Train Loss: 0.2127\n",
            "Valid Loss: 0.9496\n",
            "\n",
            "Epoch [20/100]\n",
            "Train Loss: 0.1970\n",
            "Valid Loss: 0.9468\n",
            "\n",
            "Epoch [21/100]\n",
            "Train Loss: 0.2042\n",
            "Valid Loss: 0.9320\n",
            "\n",
            "Epoch [22/100]\n",
            "Train Loss: 0.1916\n",
            "Valid Loss: 0.9627\n",
            "\n",
            "Epoch [23/100]\n",
            "Train Loss: 0.1867\n",
            "Valid Loss: 0.9337\n",
            "\n",
            "Epoch [24/100]\n",
            "Train Loss: 0.1846\n",
            "Valid Loss: 0.9475\n",
            "\n",
            "Epoch [25/100]\n",
            "Train Loss: 0.1788\n",
            "Valid Loss: 0.9404\n",
            "\n",
            "Epoch [26/100]\n",
            "Train Loss: 0.1807\n",
            "Valid Loss: 0.9375\n",
            "\n",
            "Epoch [27/100]\n",
            "Train Loss: 0.1723\n",
            "Valid Loss: 0.9339\n",
            "\n",
            "Epoch [28/100]\n",
            "Train Loss: 0.1759\n",
            "Valid Loss: 0.9478\n",
            "\n",
            "Epoch [29/100]\n",
            "Train Loss: 0.1703\n",
            "Valid Loss: 0.9348\n",
            "\n",
            "Epoch [30/100]\n",
            "Train Loss: 0.1636\n",
            "Valid Loss: 0.9271\n",
            "Saving Best\n",
            "\n",
            "Epoch [31/100]\n",
            "Train Loss: 0.1624\n",
            "Valid Loss: 0.9565\n",
            "\n",
            "Epoch [32/100]\n",
            "Train Loss: 0.1554\n",
            "Valid Loss: 0.9433\n",
            "\n",
            "Epoch [33/100]\n",
            "Train Loss: 0.1498\n",
            "Valid Loss: 0.9394\n",
            "\n",
            "Epoch [34/100]\n",
            "Train Loss: 0.1625\n",
            "Valid Loss: 0.9537\n",
            "\n",
            "Epoch [35/100]\n",
            "Train Loss: 0.1601\n",
            "Valid Loss: 0.9254\n",
            "Saving Best\n",
            "\n",
            "Epoch [36/100]\n",
            "Train Loss: 0.1584\n",
            "Valid Loss: 0.9474\n",
            "\n",
            "Epoch [37/100]\n",
            "Train Loss: 0.1555\n",
            "Valid Loss: 0.9424\n",
            "\n",
            "Epoch [38/100]\n",
            "Train Loss: 0.1352\n",
            "Valid Loss: 0.9429\n",
            "\n",
            "Epoch [39/100]\n",
            "Train Loss: 0.1439\n",
            "Valid Loss: 0.9360\n",
            "\n",
            "Epoch [40/100]\n",
            "Train Loss: 0.1446\n",
            "Valid Loss: 0.9618\n",
            "\n",
            "Epoch [41/100]\n",
            "Train Loss: 0.1425\n",
            "Valid Loss: 0.9554\n",
            "\n",
            "Epoch [42/100]\n",
            "Train Loss: 0.1449\n",
            "Valid Loss: 0.9487\n",
            "\n",
            "Epoch [43/100]\n",
            "Train Loss: 0.1396\n",
            "Valid Loss: 0.9260\n",
            "\n",
            "Epoch [44/100]\n",
            "Train Loss: 0.1502\n",
            "Valid Loss: 0.9497\n",
            "\n",
            "Epoch [45/100]\n",
            "Train Loss: 0.1373\n",
            "Valid Loss: 0.9459\n",
            "\n",
            "Epoch [46/100]\n",
            "Train Loss: 0.1386\n",
            "Valid Loss: 0.9523\n",
            "\n",
            "Epoch [47/100]\n",
            "Train Loss: 0.1491\n",
            "Valid Loss: 0.9433\n",
            "\n",
            "Epoch [48/100]\n",
            "Train Loss: 0.1349\n",
            "Valid Loss: 0.9200\n",
            "Saving Best\n",
            "\n",
            "Epoch [49/100]\n",
            "Train Loss: 0.1531\n",
            "Valid Loss: 0.9554\n",
            "\n",
            "Epoch [50/100]\n",
            "Train Loss: 0.1413\n",
            "Valid Loss: 0.9315\n",
            "\n",
            "Epoch [51/100]\n",
            "Train Loss: 0.1396\n",
            "Valid Loss: 0.9282\n",
            "\n",
            "Epoch [52/100]\n",
            "Train Loss: 0.1380\n",
            "Valid Loss: 0.9126\n",
            "Saving Best\n",
            "\n",
            "Epoch [53/100]\n",
            "Train Loss: 0.1368\n",
            "Valid Loss: 0.9180\n",
            "\n",
            "Epoch [54/100]\n",
            "Train Loss: 0.1322\n",
            "Valid Loss: 0.9384\n",
            "\n",
            "Epoch [55/100]\n",
            "Train Loss: 0.1280\n",
            "Valid Loss: 0.9340\n",
            "\n",
            "Epoch [56/100]\n",
            "Train Loss: 0.1299\n",
            "Valid Loss: 0.9274\n",
            "\n",
            "Epoch [57/100]\n",
            "Train Loss: 0.1325\n",
            "Valid Loss: 0.9268\n",
            "\n",
            "Epoch [58/100]\n",
            "Train Loss: 0.1241\n",
            "Valid Loss: 0.9357\n",
            "\n",
            "Epoch [59/100]\n",
            "Train Loss: 0.1205\n",
            "Valid Loss: 0.9233\n",
            "\n",
            "Epoch [60/100]\n",
            "Train Loss: 0.1215\n",
            "Valid Loss: 0.9385\n",
            "\n",
            "Epoch [61/100]\n",
            "Train Loss: 0.1291\n",
            "Valid Loss: 0.9383\n",
            "\n",
            "Epoch [62/100]\n",
            "Train Loss: 0.1324\n",
            "Valid Loss: 0.9413\n",
            "\n",
            "Epoch [63/100]\n",
            "Train Loss: 0.1243\n",
            "Valid Loss: 0.9226\n",
            "\n",
            "Epoch [64/100]\n",
            "Train Loss: 0.1212\n",
            "Valid Loss: 0.9527\n",
            "\n",
            "Epoch [65/100]\n",
            "Train Loss: 0.1161\n",
            "Valid Loss: 0.9316\n",
            "\n",
            "Epoch [66/100]\n",
            "Train Loss: 0.1117\n",
            "Valid Loss: 0.9215\n",
            "\n",
            "Epoch [67/100]\n",
            "Train Loss: 0.1209\n",
            "Valid Loss: 0.9311\n",
            "\n",
            "Epoch [68/100]\n",
            "Train Loss: 0.1181\n",
            "Valid Loss: 0.9343\n",
            "\n",
            "Epoch [69/100]\n",
            "Train Loss: 0.1089\n",
            "Valid Loss: 0.9416\n",
            "\n",
            "Epoch [70/100]\n",
            "Train Loss: 0.1157\n",
            "Valid Loss: 0.9441\n",
            "\n",
            "Epoch [71/100]\n",
            "Train Loss: 0.1064\n",
            "Valid Loss: 0.9483\n",
            "\n",
            "Epoch [72/100]\n",
            "Train Loss: 0.1165\n",
            "Valid Loss: 0.9478\n",
            "\n",
            "Epoch [73/100]\n",
            "Train Loss: 0.1118\n",
            "Valid Loss: 0.9343\n",
            "\n",
            "Epoch [74/100]\n",
            "Train Loss: 0.1099\n",
            "Valid Loss: 0.9345\n",
            "\n",
            "Epoch [75/100]\n",
            "Train Loss: 0.1121\n",
            "Valid Loss: 0.9347\n",
            "\n",
            "Epoch [76/100]\n",
            "Train Loss: 0.1206\n",
            "Valid Loss: 0.9351\n",
            "\n",
            "Epoch [77/100]\n",
            "Train Loss: 0.1142\n",
            "Valid Loss: 0.9298\n",
            "\n",
            "Epoch [78/100]\n",
            "Train Loss: 0.1156\n",
            "Valid Loss: 0.9303\n",
            "\n",
            "Epoch [79/100]\n",
            "Train Loss: 0.1157\n",
            "Valid Loss: 0.9338\n",
            "\n",
            "Epoch [80/100]\n",
            "Train Loss: 0.1031\n",
            "Valid Loss: 0.9371\n",
            "\n",
            "Epoch [81/100]\n",
            "Train Loss: 0.1090\n",
            "Valid Loss: 0.9463\n",
            "\n",
            "Epoch [82/100]\n",
            "Train Loss: 0.1071\n",
            "Valid Loss: 0.9480\n",
            "\n",
            "Epoch [83/100]\n",
            "Train Loss: 0.1343\n",
            "Valid Loss: 0.9190\n",
            "\n",
            "Epoch [84/100]\n",
            "Train Loss: 0.1186\n",
            "Valid Loss: 0.9176\n",
            "\n",
            "Epoch [85/100]\n",
            "Train Loss: 0.1122\n",
            "Valid Loss: 0.9168\n",
            "\n",
            "Epoch [86/100]\n",
            "Train Loss: 0.1044\n",
            "Valid Loss: 0.9326\n",
            "\n",
            "Epoch [87/100]\n",
            "Train Loss: 0.1030\n",
            "Valid Loss: 0.9267\n",
            "\n",
            "Epoch [88/100]\n",
            "Train Loss: 0.1089\n",
            "Valid Loss: 0.9277\n",
            "\n",
            "Epoch [89/100]\n",
            "Train Loss: 0.1075\n",
            "Valid Loss: 0.9272\n",
            "\n",
            "Epoch [90/100]\n",
            "Train Loss: 0.1032\n",
            "Valid Loss: 0.9164\n",
            "\n",
            "Epoch [91/100]\n",
            "Train Loss: 0.1082\n",
            "Valid Loss: 0.9151\n",
            "\n",
            "Epoch [92/100]\n",
            "Train Loss: 0.1115\n",
            "Valid Loss: 0.9176\n",
            "\n",
            "Epoch [93/100]\n",
            "Train Loss: 0.1075\n",
            "Valid Loss: 0.9240\n",
            "\n",
            "Epoch [94/100]\n",
            "Train Loss: 0.1074\n",
            "Valid Loss: 0.9326\n",
            "\n",
            "Epoch [95/100]\n",
            "Train Loss: 0.1045\n",
            "Valid Loss: 0.9322\n",
            "\n",
            "Epoch [96/100]\n",
            "Train Loss: 0.1097\n",
            "Valid Loss: 0.9304\n",
            "\n",
            "Epoch [97/100]\n",
            "Train Loss: 0.1033\n",
            "Valid Loss: 0.9194\n",
            "\n",
            "Epoch [98/100]\n",
            "Train Loss: 0.1007\n",
            "Valid Loss: 0.9261\n",
            "\n",
            "Epoch [99/100]\n",
            "Train Loss: 0.1073\n",
            "Valid Loss: 0.9344\n",
            "\n",
            "Epoch [100/100]\n",
            "Train Loss: 0.1067\n",
            "Valid Loss: 0.9250\n",
            "\n",
            "Training Time: 3m35s\n",
            "Training Peak Mem: 1551.99609375\n",
            "Training Params: 1486465\n"
          ]
        }
      ],
      "source": [
        "OUTPUT_MODEL_FILE_NAME = \"MOSI_Low_Rank_Tensor_Fusion\"\n",
        "train_losses, valid_losses = train(\n",
        "    encoders,\n",
        "    fusion,\n",
        "    head,\n",
        "    train_data,\n",
        "    valid_data,\n",
        "    100,\n",
        "    task=\"regression\",\n",
        "    optimtype=torch.optim.AdamW,\n",
        "    early_stop=False,\n",
        "    is_packed=True,\n",
        "    lr=1e-3,\n",
        "    save=f\"/content/{OUTPUT_MODEL_FILE_NAME}.pt\",\n",
        "    weight_decay=0.01,\n",
        "    objective=torch.nn.L1Loss(),\n",
        ")\n"
      ]
    },
    {
      "cell_type": "code",
      "execution_count": 11,
      "id": "b0e7c33a-a68d-4292-a2b2-14e8a2e53500",
      "metadata": {
        "colab": {
          "base_uri": "https://localhost:8080/",
          "height": 490
        },
        "id": "b0e7c33a-a68d-4292-a2b2-14e8a2e53500",
        "outputId": "01cfa64b-87ef-46c4-c570-f4db2ba1126a"
      },
      "outputs": [
        {
          "data": {
            "text/plain": [
              "Text(0.5, 1.0, 'Loss vs. No. of epochs')"
            ]
          },
          "execution_count": 11,
          "metadata": {},
          "output_type": "execute_result"
        },
        {
          "data": {
            "image/png": "[encoded data removed]",
            "text/plain": [
              "<Figure size 640x480 with 1 Axes>"
            ]
          },
          "metadata": {},
          "output_type": "display_data"
        }
      ],
      "source": [
        "plt.plot(train_losses, label='Train Loss')\n",
        "plt.plot(valid_losses, label='Validation Loss')\n",
        "plt.xlabel('Epochs')\n",
        "plt.ylabel('Loss')\n",
        "plt.legend()\n",
        "plt.grid(True)\n",
        "plt.title('Loss vs. No. of epochs')"
      ]
    },
    {
      "cell_type": "code",
      "execution_count": 12,
      "id": "8bbd60df-8764-4fcd-a545-90860e5f8a2c",
      "metadata": {
        "id": "8bbd60df-8764-4fcd-a545-90860e5f8a2c"
      },
      "outputs": [],
      "source": [
        "save_results(train_losses, valid_losses, f'/content/{OUTPUT_MODEL_FILE_NAME}.pkl')"
      ]
    },
    {
      "cell_type": "markdown",
      "id": "a2a0ca4a-2c05-4ba2-a6aa-1db0e341598b",
      "metadata": {
        "id": "a2a0ca4a-2c05-4ba2-a6aa-1db0e341598b"
      },
      "source": [
        "## Testing"
      ]
    },
    {
      "cell_type": "code",
      "execution_count": 13,
      "id": "d4352442-0d78-4195-bd04-2332af36a7f7",
      "metadata": {
        "colab": {
          "base_uri": "https://localhost:8080/"
        },
        "id": "d4352442-0d78-4195-bd04-2332af36a7f7",
        "outputId": "8b00f041-e565-4d78-89c6-df4d1b988ead"
      },
      "outputs": [
        {
          "name": "stderr",
          "output_type": "stream",
          "text": [
            "<ipython-input-13-e459be6cf0a0>:1: FutureWarning: You are using `torch.load` with `weights_only=False` (the current default value), which uses the default pickle module implicitly. It is possible to construct malicious pickle data which will execute arbitrary code during unpickling (See https://github.com/pytorch/pytorch/blob/main/SECURITY.md#untrusted-models for more details). In a future release, the default value for `weights_only` will be flipped to `True`. This limits the functions that could be executed during unpickling. Arbitrary objects will no longer be allowed to be loaded via this mode unless they are explicitly allowlisted by the user via `torch.serialization.add_safe_globals`. We recommend you start setting `weights_only=True` for any use case where you don't have full control of the loaded file. Please open an issue on GitHub for any issues related to this experimental feature.\n",
            "  model = torch.load(f\"/content/{OUTPUT_MODEL_FILE_NAME}.pt\").to(device)\n"
          ]
        },
        {
          "name": "stdout",
          "output_type": "stream",
          "text": [
            "Recall: 72.8659% | Total Accuracy: 72.0117%\n",
            "Inference Time: 325ms\n",
            "Inference Params: 1486465\n"
          ]
        }
      ],
      "source": [
        "model = torch.load(f\"/content/{OUTPUT_MODEL_FILE_NAME}.pt\").to(device)\n",
        "\n",
        "test(\n",
        "    model,\n",
        "    test_dataloaders_all=test_data,\n",
        "    is_packed=True,\n",
        "    criterion=torch.nn.L1Loss(),\n",
        "    task=\"posneg-classification\"\n",
        ")\n"
      ]
    }
  ],
  "metadata": {
    "accelerator": "GPU",
    "colab": {
      "gpuType": "A100",
      "machine_shape": "hm",
      "provenance": []
    },
    "kernelspec": {
      "display_name": "Python 3",
      "name": "python3"
    },
    "language_info": {
      "codemirror_mode": {
        "name": "ipython",
        "version": 3
      },
      "file_extension": ".py",
      "mimetype": "text/x-python",
      "name": "python",
      "nbconvert_exporter": "python",
      "pygments_lexer": "ipython3",
      "version": "3.11.7"
    }
  },
  "nbformat": 4,
  "nbformat_minor": 5
}
