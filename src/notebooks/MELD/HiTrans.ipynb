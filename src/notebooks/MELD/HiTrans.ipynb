{
  "nbformat": 4,
  "nbformat_minor": 0,
  "metadata": {
    "colab": {
      "provenance": [],
      "machine_shape": "hm",
      "gpuType": "A100"
    },
    "kernelspec": {
      "name": "python3",
      "display_name": "Python 3"
    },
    "language_info": {
      "name": "python"
    },
    "accelerator": "GPU"
  },
  "cells": [
    {
      "cell_type": "code",
      "execution_count": 2,
      "metadata": {
        "colab": {
          "base_uri": "https://localhost:8080/"
        },
        "id": "Zl7bYEwjSAtW",
        "outputId": "7b0f207f-d134-47fc-9820-8e02918706c5"
      },
      "outputs": [
        {
          "output_type": "stream",
          "name": "stdout",
          "text": [
            "Cloning into 'HiTrans'...\n",
            "remote: Enumerating objects: 57, done.\u001b[K\n",
            "remote: Counting objects: 100% (57/57), done.\u001b[K\n",
            "remote: Compressing objects: 100% (39/39), done.\u001b[K\n",
            "remote: Total 57 (delta 19), reused 45 (delta 13), pack-reused 0 (from 0)\u001b[K\n",
            "Receiving objects: 100% (57/57), 523.96 KiB | 4.90 MiB/s, done.\n",
            "Resolving deltas: 100% (19/19), done.\n"
          ]
        }
      ],
      "source": [
        "!git clone https://github.com/M-Jafarkhani/HiTrans"
      ]
    },
    {
      "cell_type": "code",
      "source": [
        "!python /content/HiTrans/main.py --epochs=30"
      ],
      "metadata": {
        "colab": {
          "base_uri": "https://localhost:8080/"
        },
        "id": "dEcf8y_mSU0v",
        "outputId": "abdba39f-da7e-43b8-97cb-24e6467437de"
      },
      "execution_count": 4,
      "outputs": [
        {
          "output_type": "stream",
          "name": "stdout",
          "text": [
            "2024-12-26 14:08:58.593194: I tensorflow/core/util/port.cc:153] oneDNN custom operations are on. You may see slightly different numerical results due to floating-point round-off errors from different computation orders. To turn them off, set the environment variable `TF_ENABLE_ONEDNN_OPTS=0`.\n",
            "2024-12-26 14:08:58.610568: E external/local_xla/xla/stream_executor/cuda/cuda_fft.cc:485] Unable to register cuFFT factory: Attempting to register factory for plugin cuFFT when one has already been registered\n",
            "2024-12-26 14:08:58.631588: E external/local_xla/xla/stream_executor/cuda/cuda_dnn.cc:8454] Unable to register cuDNN factory: Attempting to register factory for plugin cuDNN when one has already been registered\n",
            "2024-12-26 14:08:58.637943: E external/local_xla/xla/stream_executor/cuda/cuda_blas.cc:1452] Unable to register cuBLAS factory: Attempting to register factory for plugin cuBLAS when one has already been registered\n",
            "2024-12-26 14:08:58.653013: I tensorflow/core/platform/cpu_feature_guard.cc:210] This TensorFlow binary is optimized to use available CPU instructions in performance-critical operations.\n",
            "To enable the following instructions: AVX2 AVX512F AVX512_VNNI FMA, in other operations, rebuild TensorFlow with the appropriate compiler flags.\n",
            "2024-12-26 14:08:59.716577: W tensorflow/compiler/tf2tensorrt/utils/py_utils.cc:38] TF-TRT Warning: Could not find TensorRT\n",
            "2024-12-26 14:09:00 - [line:164] - INFO: Namespace(d_model=768, d_ff=768, heads=6, layers=1, input_max_length=512, hidden_dim=768, dropout=0.5, lr=5e-05, bert_lr=1e-05, weight_decay=1e-05, max_grad_norm=1.0, epochs=30, batch_size=8, alpha=0.95, seed=123, device=0, evaluate=False)\n",
            "2024-12-26 14:09:00 - [line:174] - INFO: Loading data...\n",
            "2024-12-26 14:09:00 - [line:1051] - DEBUG: Starting new HTTPS connection (1): huggingface.co:443\n",
            "2024-12-26 14:09:00 - [line:546] - DEBUG: https://huggingface.co:443 \"HEAD /bert-base-uncased/resolve/main/tokenizer_config.json HTTP/11\" 200 0\n",
            "2024-12-26 14:09:06 - [line:546] - DEBUG: https://huggingface.co:443 \"HEAD /bert-base-uncased/resolve/main/config.json HTTP/11\" 200 0\n",
            "2024-12-26 14:09:06 - [line:546] - DEBUG: https://huggingface.co:443 \"HEAD /bert-base-uncased/resolve/main/config.json HTTP/11\" 200 0\n",
            "2024-12-26 14:09:06 - [line:546] - DEBUG: https://huggingface.co:443 \"HEAD /bert-base-uncased/resolve/main/config.json HTTP/11\" 200 0\n",
            "2024-12-26 14:09:20 - [line:206] - INFO: Epoch: 0 Train Loss: 1.1584 F1: 0.3272\n",
            "2024-12-26 14:09:20 - [line:208] - INFO: Epoch: 0 Dev Loss: 1.1033 F1: 0.2963\n",
            "2024-12-26 14:09:20 - [line:211] - INFO: ---------------------------------\n",
            "2024-12-26 14:09:33 - [line:206] - INFO: Epoch: 1 Train Loss: 1.0091 F1: 0.4772\n",
            "2024-12-26 14:09:33 - [line:208] - INFO: Epoch: 1 Dev Loss: 0.9762 F1: 0.4987\n",
            "2024-12-26 14:09:33 - [line:211] - INFO: ---------------------------------\n",
            "2024-12-26 14:09:46 - [line:206] - INFO: Epoch: 2 Train Loss: 0.9018 F1: 0.5827\n",
            "2024-12-26 14:09:46 - [line:208] - INFO: Epoch: 2 Dev Loss: 0.9387 F1: 0.5575\n",
            "2024-12-26 14:09:46 - [line:211] - INFO: ---------------------------------\n",
            "2024-12-26 14:09:59 - [line:206] - INFO: Epoch: 3 Train Loss: 0.8405 F1: 0.6303\n",
            "2024-12-26 14:09:59 - [line:208] - INFO: Epoch: 3 Dev Loss: 0.9225 F1: 0.5585\n",
            "2024-12-26 14:09:59 - [line:211] - INFO: ---------------------------------\n",
            "2024-12-26 14:10:12 - [line:206] - INFO: Epoch: 4 Train Loss: 0.7875 F1: 0.6725\n",
            "2024-12-26 14:10:12 - [line:208] - INFO: Epoch: 4 Dev Loss: 0.9270 F1: 0.5587\n",
            "2024-12-26 14:10:12 - [line:211] - INFO: ---------------------------------\n",
            "2024-12-26 14:10:25 - [line:206] - INFO: Epoch: 5 Train Loss: 0.7418 F1: 0.7021\n",
            "2024-12-26 14:10:26 - [line:208] - INFO: Epoch: 5 Dev Loss: 0.9130 F1: 0.5696\n",
            "2024-12-26 14:10:26 - [line:211] - INFO: ---------------------------------\n",
            "2024-12-26 14:10:38 - [line:206] - INFO: Epoch: 6 Train Loss: 0.7036 F1: 0.7328\n",
            "2024-12-26 14:10:39 - [line:208] - INFO: Epoch: 6 Dev Loss: 0.9527 F1: 0.5623\n",
            "2024-12-26 14:10:39 - [line:211] - INFO: ---------------------------------\n",
            "2024-12-26 14:10:50 - [line:206] - INFO: Epoch: 7 Train Loss: 0.6660 F1: 0.7622\n",
            "2024-12-26 14:10:51 - [line:208] - INFO: Epoch: 7 Dev Loss: 0.9692 F1: 0.5653\n",
            "2024-12-26 14:10:51 - [line:211] - INFO: ---------------------------------\n",
            "2024-12-26 14:11:02 - [line:206] - INFO: Epoch: 8 Train Loss: 0.6294 F1: 0.7865\n",
            "2024-12-26 14:11:03 - [line:208] - INFO: Epoch: 8 Dev Loss: 0.9696 F1: 0.5849\n",
            "2024-12-26 14:11:03 - [line:211] - INFO: ---------------------------------\n",
            "2024-12-26 14:11:16 - [line:206] - INFO: Epoch: 9 Train Loss: 0.5962 F1: 0.8116\n",
            "2024-12-26 14:11:16 - [line:208] - INFO: Epoch: 9 Dev Loss: 1.0077 F1: 0.5734\n",
            "2024-12-26 14:11:16 - [line:211] - INFO: ---------------------------------\n",
            "2024-12-26 14:11:28 - [line:206] - INFO: Epoch: 10 Train Loss: 0.5637 F1: 0.8328\n",
            "2024-12-26 14:11:28 - [line:208] - INFO: Epoch: 10 Dev Loss: 1.0186 F1: 0.5807\n",
            "2024-12-26 14:11:28 - [line:211] - INFO: ---------------------------------\n",
            "2024-12-26 14:11:40 - [line:206] - INFO: Epoch: 11 Train Loss: 0.5342 F1: 0.8511\n",
            "2024-12-26 14:11:40 - [line:208] - INFO: Epoch: 11 Dev Loss: 1.0907 F1: 0.5602\n",
            "2024-12-26 14:11:40 - [line:211] - INFO: ---------------------------------\n",
            "2024-12-26 14:11:52 - [line:206] - INFO: Epoch: 12 Train Loss: 0.5058 F1: 0.8650\n",
            "2024-12-26 14:11:52 - [line:208] - INFO: Epoch: 12 Dev Loss: 1.1035 F1: 0.5662\n",
            "2024-12-26 14:11:52 - [line:211] - INFO: ---------------------------------\n",
            "2024-12-26 14:12:04 - [line:206] - INFO: Epoch: 13 Train Loss: 0.4811 F1: 0.8795\n",
            "2024-12-26 14:12:04 - [line:208] - INFO: Epoch: 13 Dev Loss: 1.1581 F1: 0.5648\n",
            "2024-12-26 14:12:04 - [line:211] - INFO: ---------------------------------\n",
            "2024-12-26 14:12:16 - [line:206] - INFO: Epoch: 14 Train Loss: 0.4553 F1: 0.8909\n",
            "2024-12-26 14:12:16 - [line:208] - INFO: Epoch: 14 Dev Loss: 1.1614 F1: 0.5707\n",
            "2024-12-26 14:12:16 - [line:211] - INFO: ---------------------------------\n",
            "2024-12-26 14:12:28 - [line:206] - INFO: Epoch: 15 Train Loss: 0.4346 F1: 0.9009\n",
            "2024-12-26 14:12:29 - [line:208] - INFO: Epoch: 15 Dev Loss: 1.1964 F1: 0.5549\n",
            "2024-12-26 14:12:29 - [line:211] - INFO: ---------------------------------\n",
            "2024-12-26 14:12:40 - [line:206] - INFO: Epoch: 16 Train Loss: 0.4117 F1: 0.9110\n",
            "2024-12-26 14:12:41 - [line:208] - INFO: Epoch: 16 Dev Loss: 1.2342 F1: 0.5643\n",
            "2024-12-26 14:12:41 - [line:211] - INFO: ---------------------------------\n",
            "2024-12-26 14:12:52 - [line:206] - INFO: Epoch: 17 Train Loss: 0.4009 F1: 0.9168\n",
            "2024-12-26 14:12:53 - [line:208] - INFO: Epoch: 17 Dev Loss: 1.3029 F1: 0.5555\n",
            "2024-12-26 14:12:53 - [line:211] - INFO: ---------------------------------\n",
            "2024-12-26 14:13:05 - [line:206] - INFO: Epoch: 18 Train Loss: 0.3805 F1: 0.9255\n",
            "2024-12-26 14:13:05 - [line:208] - INFO: Epoch: 18 Dev Loss: 1.2913 F1: 0.5808\n",
            "2024-12-26 14:13:05 - [line:211] - INFO: ---------------------------------\n",
            "2024-12-26 14:13:17 - [line:206] - INFO: Epoch: 19 Train Loss: 0.3662 F1: 0.9309\n",
            "2024-12-26 14:13:17 - [line:208] - INFO: Epoch: 19 Dev Loss: 1.3290 F1: 0.5648\n",
            "2024-12-26 14:13:17 - [line:211] - INFO: ---------------------------------\n",
            "2024-12-26 14:13:29 - [line:206] - INFO: Epoch: 20 Train Loss: 0.3517 F1: 0.9348\n",
            "2024-12-26 14:13:29 - [line:208] - INFO: Epoch: 20 Dev Loss: 1.3422 F1: 0.5727\n",
            "2024-12-26 14:13:29 - [line:211] - INFO: ---------------------------------\n",
            "2024-12-26 14:13:41 - [line:206] - INFO: Epoch: 21 Train Loss: 0.3414 F1: 0.9405\n",
            "2024-12-26 14:13:41 - [line:208] - INFO: Epoch: 21 Dev Loss: 1.3980 F1: 0.5662\n",
            "2024-12-26 14:13:41 - [line:211] - INFO: ---------------------------------\n",
            "2024-12-26 14:13:53 - [line:206] - INFO: Epoch: 22 Train Loss: 0.3276 F1: 0.9484\n",
            "2024-12-26 14:13:53 - [line:208] - INFO: Epoch: 22 Dev Loss: 1.4463 F1: 0.5677\n",
            "2024-12-26 14:13:53 - [line:211] - INFO: ---------------------------------\n",
            "2024-12-26 14:14:05 - [line:206] - INFO: Epoch: 23 Train Loss: 0.3115 F1: 0.9522\n",
            "2024-12-26 14:14:06 - [line:208] - INFO: Epoch: 23 Dev Loss: 1.4489 F1: 0.5675\n",
            "2024-12-26 14:14:06 - [line:211] - INFO: ---------------------------------\n",
            "2024-12-26 14:14:17 - [line:206] - INFO: Epoch: 24 Train Loss: 0.3056 F1: 0.9554\n",
            "2024-12-26 14:14:18 - [line:208] - INFO: Epoch: 24 Dev Loss: 1.4634 F1: 0.5644\n",
            "2024-12-26 14:14:18 - [line:211] - INFO: ---------------------------------\n",
            "2024-12-26 14:14:29 - [line:206] - INFO: Epoch: 25 Train Loss: 0.2922 F1: 0.9580\n",
            "2024-12-26 14:14:30 - [line:208] - INFO: Epoch: 25 Dev Loss: 1.5001 F1: 0.5677\n",
            "2024-12-26 14:14:30 - [line:211] - INFO: ---------------------------------\n",
            "2024-12-26 14:14:41 - [line:206] - INFO: Epoch: 26 Train Loss: 0.2863 F1: 0.9599\n",
            "2024-12-26 14:14:42 - [line:208] - INFO: Epoch: 26 Dev Loss: 1.5391 F1: 0.5615\n",
            "2024-12-26 14:14:42 - [line:211] - INFO: ---------------------------------\n",
            "2024-12-26 14:14:53 - [line:206] - INFO: Epoch: 27 Train Loss: 0.2776 F1: 0.9643\n",
            "2024-12-26 14:14:54 - [line:208] - INFO: Epoch: 27 Dev Loss: 1.5416 F1: 0.5604\n",
            "2024-12-26 14:14:54 - [line:211] - INFO: ---------------------------------\n",
            "2024-12-26 14:15:05 - [line:206] - INFO: Epoch: 28 Train Loss: 0.2664 F1: 0.9654\n",
            "2024-12-26 14:15:06 - [line:208] - INFO: Epoch: 28 Dev Loss: 1.5924 F1: 0.5616\n",
            "2024-12-26 14:15:06 - [line:211] - INFO: ---------------------------------\n",
            "2024-12-26 14:15:18 - [line:206] - INFO: Epoch: 29 Train Loss: 0.2645 F1: 0.9672\n",
            "2024-12-26 14:15:18 - [line:208] - INFO: Epoch: 29 Dev Loss: 1.5906 F1: 0.5643\n",
            "2024-12-26 14:15:18 - [line:211] - INFO: ---------------------------------\n",
            "2024-12-26 14:15:18 - [line:216] - INFO: Best Dev F1: 0.5849\n"
          ]
        }
      ]
    }
  ]
}