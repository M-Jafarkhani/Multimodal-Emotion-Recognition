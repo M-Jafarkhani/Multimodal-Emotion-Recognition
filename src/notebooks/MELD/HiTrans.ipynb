{
  "nbformat": 4,
  "nbformat_minor": 0,
  "metadata": {
    "colab": {
      "provenance": [],
      "machine_shape": "hm",
      "gpuType": "A100"
    },
    "kernelspec": {
      "name": "python3",
      "display_name": "Python 3"
    },
    "language_info": {
      "name": "python"
    },
    "accelerator": "GPU"
  },
  "cells": [
    {
      "cell_type": "code",
      "execution_count": 15,
      "metadata": {
        "colab": {
          "base_uri": "https://localhost:8080/"
        },
        "id": "Zl7bYEwjSAtW",
        "outputId": "44a85482-47aa-4980-aca2-b83004befab0"
      },
      "outputs": [
        {
          "output_type": "stream",
          "name": "stdout",
          "text": [
            "Cloning into 'Multimodal-Sentiment-Analysis'...\n",
            "remote: Enumerating objects: 179, done.\u001b[K\n",
            "remote: Counting objects: 100% (109/109), done.\u001b[K\n",
            "remote: Compressing objects: 100% (84/84), done.\u001b[K\n",
            "remote: Total 179 (delta 46), reused 74 (delta 24), pack-reused 70 (from 1)\u001b[K\n",
            "Receiving objects: 100% (179/179), 194.96 MiB | 29.85 MiB/s, done.\n",
            "Resolving deltas: 100% (47/47), done.\n",
            "Updating files: 100% (58/58), done.\n"
          ]
        }
      ],
      "source": [
        "!git clone https://github.com/M-Jafarkhani/Multimodal-Sentiment-Analysis"
      ]
    },
    {
      "cell_type": "code",
      "source": [
        "!pip install memory_profiler"
      ],
      "metadata": {
        "colab": {
          "base_uri": "https://localhost:8080/"
        },
        "id": "FbCj3YB4eC0i",
        "outputId": "e20e0cf5-77a6-4924-d0b7-fe48a881b2e0"
      },
      "execution_count": 16,
      "outputs": [
        {
          "output_type": "stream",
          "name": "stdout",
          "text": [
            "Requirement already satisfied: memory_profiler in /usr/local/lib/python3.10/dist-packages (0.61.0)\n",
            "Requirement already satisfied: psutil in /usr/local/lib/python3.10/dist-packages (from memory_profiler) (5.9.5)\n"
          ]
        }
      ]
    },
    {
      "cell_type": "code",
      "source": [
        "import gdown\n",
        "\n",
        "file_id = \"1Ry6uh_CxKEOpP0LY-Y_tf1mV-BYwzHp6\"\n",
        "destination = \"train_sent_emo.csv\"\n",
        "\n",
        "gdown.download(\n",
        "    f\"https://drive.google.com/uc?id={file_id}\", destination, quiet=False\n",
        ")\n",
        "\n",
        "file_id = \"1HhDkpR5Qs1ehff50WXcd7emsnxtNbplm\"\n",
        "destination = \"test_sent_emo.csv\"\n",
        "\n",
        "gdown.download(\n",
        "    f\"https://drive.google.com/uc?id={file_id}\", destination, quiet=False\n",
        ")\n",
        "\n",
        "file_id = \"1s48pfb0bxEnofotkniOPdwf9uhFkEWZG\"\n",
        "destination = \"dev_sent_emo.csv\"\n",
        "\n",
        "gdown.download(\n",
        "    f\"https://drive.google.com/uc?id={file_id}\", destination, quiet=False\n",
        ")"
      ],
      "metadata": {
        "colab": {
          "base_uri": "https://localhost:8080/",
          "height": 250
        },
        "id": "hvlUKU2_eFrG",
        "outputId": "f637d1de-8e64-44f7-ebb5-be08026725a5"
      },
      "execution_count": 4,
      "outputs": [
        {
          "output_type": "stream",
          "name": "stderr",
          "text": [
            "Downloading...\n",
            "From: https://drive.google.com/uc?id=1Ry6uh_CxKEOpP0LY-Y_tf1mV-BYwzHp6\n",
            "To: /content/train_sent_emo.csv\n",
            "100%|██████████| 291k/291k [00:00<00:00, 106MB/s]\n",
            "Downloading...\n",
            "From: https://drive.google.com/uc?id=1HhDkpR5Qs1ehff50WXcd7emsnxtNbplm\n",
            "To: /content/test_sent_emo.csv\n",
            "100%|██████████| 1.11M/1.11M [00:00<00:00, 155MB/s]\n",
            "Downloading...\n",
            "From: https://drive.google.com/uc?id=1s48pfb0bxEnofotkniOPdwf9uhFkEWZG\n",
            "To: /content/dev_sent_emo.csv\n",
            "100%|██████████| 120k/120k [00:00<00:00, 54.3MB/s]\n"
          ]
        },
        {
          "output_type": "execute_result",
          "data": {
            "text/plain": [
              "'dev_sent_emo.csv'"
            ],
            "application/vnd.google.colaboratory.intrinsic+json": {
              "type": "string"
            }
          },
          "metadata": {},
          "execution_count": 4
        }
      ]
    },
    {
      "cell_type": "code",
      "source": [
        "import os\n",
        "\n",
        "folder_path = '/content/log'\n",
        "\n",
        "os.makedirs(folder_path, exist_ok=True)"
      ],
      "metadata": {
        "id": "n52ceGWWgZly"
      },
      "execution_count": 17,
      "outputs": []
    },
    {
      "cell_type": "code",
      "source": [
        "epochs = 25\n",
        "train_data_path = '/content/train_sent_emo.csv'\n",
        "test_data_path = '/content/test_sent_emo.csv'\n",
        "valid_data_path = '/content/dev_sent_emo.csv'\n",
        "model_save_path = '/content/model.pkl'\n",
        "log_path = '/content/log'\n",
        "\n",
        "!python /content/Multimodal-Sentiment-Analysis/src/main.py \\\n",
        "    --train_data_path={train_data_path} \\\n",
        "    --test_data_path={test_data_path} \\\n",
        "    --valid_data_path={valid_data_path} \\\n",
        "    --model_save_path={model_save_path} \\\n",
        "    --log_path={log_path} \\\n",
        "    --epochs={epochs}"
      ],
      "metadata": {
        "colab": {
          "base_uri": "https://localhost:8080/"
        },
        "id": "dEcf8y_mSU0v",
        "outputId": "5c4f64e4-0ce3-4578-9940-77d85a8c0f6b"
      },
      "execution_count": 22,
      "outputs": [
        {
          "output_type": "stream",
          "name": "stdout",
          "text": [
            "2024-12-26 15:18:57.928839: I tensorflow/core/util/port.cc:153] oneDNN custom operations are on. You may see slightly different numerical results due to floating-point round-off errors from different computation orders. To turn them off, set the environment variable `TF_ENABLE_ONEDNN_OPTS=0`.\n",
            "2024-12-26 15:18:57.946244: E external/local_xla/xla/stream_executor/cuda/cuda_fft.cc:485] Unable to register cuFFT factory: Attempting to register factory for plugin cuFFT when one has already been registered\n",
            "2024-12-26 15:18:57.966986: E external/local_xla/xla/stream_executor/cuda/cuda_dnn.cc:8454] Unable to register cuDNN factory: Attempting to register factory for plugin cuDNN when one has already been registered\n",
            "2024-12-26 15:18:57.973269: E external/local_xla/xla/stream_executor/cuda/cuda_blas.cc:1452] Unable to register cuBLAS factory: Attempting to register factory for plugin cuBLAS when one has already been registered\n",
            "2024-12-26 15:18:57.988224: I tensorflow/core/platform/cpu_feature_guard.cc:210] This TensorFlow binary is optimized to use available CPU instructions in performance-critical operations.\n",
            "To enable the following instructions: AVX2 AVX512F AVX512_VNNI FMA, in other operations, rebuild TensorFlow with the appropriate compiler flags.\n",
            "2024-12-26 15:18:59.050978: W tensorflow/compiler/tf2tensorrt/utils/py_utils.cc:38] TF-TRT Warning: Could not find TensorRT\n",
            "2024-12-26 15:18:59 - [line:211] - INFO: Namespace(train_data_path='/content/train_sent_emo.csv', test_data_path='/content/test_sent_emo.csv', valid_data_path='/content/dev_sent_emo.csv', model_save_path='/content/model.pkl', log_path='/content/log', d_model=768, d_ff=768, heads=6, layers=1, input_max_length=512, hidden_dim=768, dropout=0.5, lr=5e-05, bert_lr=1e-05, weight_decay=1e-05, max_grad_norm=1.0, epochs=25, batch_size=8, alpha=0.95, seed=123, device=0, evaluate=False)\n",
            "2024-12-26 15:19:00 - [line:221] - INFO: Loading data...\n",
            "2024-12-26 15:19:00 - [line:1051] - DEBUG: Starting new HTTPS connection (1): huggingface.co:443\n",
            "2024-12-26 15:19:00 - [line:546] - DEBUG: https://huggingface.co:443 \"HEAD /bert-base-uncased/resolve/main/tokenizer_config.json HTTP/11\" 200 0\n",
            "2024-12-26 15:19:08 - [line:546] - DEBUG: https://huggingface.co:443 \"HEAD /bert-base-uncased/resolve/main/config.json HTTP/11\" 200 0\n",
            "2024-12-26 15:19:08 - [line:546] - DEBUG: https://huggingface.co:443 \"HEAD /bert-base-uncased/resolve/main/config.json HTTP/11\" 200 0\n",
            "2024-12-26 15:19:12 - [line:275] - INFO: Epoch: 0 Train Loss: 1.1814 F1: 0.3334\n",
            "2024-12-26 15:19:13 - [line:281] - INFO: Epoch: 0 Dev Loss: 1.1545 F1: 0.2523\n",
            "2024-12-26 15:19:13 - [line:286] - INFO: ---------------------------------\n",
            "2024-12-26 15:19:17 - [line:275] - INFO: Epoch: 1 Train Loss: 1.1212 F1: 0.3364\n",
            "2024-12-26 15:19:17 - [line:281] - INFO: Epoch: 1 Dev Loss: 1.1368 F1: 0.2805\n",
            "2024-12-26 15:19:17 - [line:286] - INFO: ---------------------------------\n",
            "2024-12-26 15:19:21 - [line:275] - INFO: Epoch: 2 Train Loss: 1.0939 F1: 0.3659\n",
            "2024-12-26 15:19:22 - [line:281] - INFO: Epoch: 2 Dev Loss: 1.1261 F1: 0.3257\n",
            "2024-12-26 15:19:22 - [line:286] - INFO: ---------------------------------\n",
            "2024-12-26 15:19:26 - [line:275] - INFO: Epoch: 3 Train Loss: 1.0717 F1: 0.4039\n",
            "2024-12-26 15:19:26 - [line:281] - INFO: Epoch: 3 Dev Loss: 1.1089 F1: 0.3210\n",
            "2024-12-26 15:19:26 - [line:286] - INFO: ---------------------------------\n",
            "2024-12-26 15:19:30 - [line:275] - INFO: Epoch: 4 Train Loss: 1.0223 F1: 0.4363\n",
            "2024-12-26 15:19:30 - [line:281] - INFO: Epoch: 4 Dev Loss: 1.0968 F1: 0.3155\n",
            "2024-12-26 15:19:30 - [line:286] - INFO: ---------------------------------\n",
            "2024-12-26 15:19:33 - [line:275] - INFO: Epoch: 5 Train Loss: 0.9921 F1: 0.4596\n",
            "2024-12-26 15:19:33 - [line:281] - INFO: Epoch: 5 Dev Loss: 1.0773 F1: 0.3921\n",
            "2024-12-26 15:19:33 - [line:286] - INFO: ---------------------------------\n",
            "2024-12-26 15:19:38 - [line:275] - INFO: Epoch: 6 Train Loss: 0.9552 F1: 0.5084\n",
            "2024-12-26 15:19:38 - [line:281] - INFO: Epoch: 6 Dev Loss: 1.0212 F1: 0.4664\n",
            "2024-12-26 15:19:38 - [line:286] - INFO: ---------------------------------\n",
            "2024-12-26 15:19:43 - [line:275] - INFO: Epoch: 7 Train Loss: 0.9098 F1: 0.5575\n",
            "2024-12-26 15:19:43 - [line:281] - INFO: Epoch: 7 Dev Loss: 1.0013 F1: 0.4782\n",
            "2024-12-26 15:19:43 - [line:286] - INFO: ---------------------------------\n",
            "2024-12-26 15:19:47 - [line:275] - INFO: Epoch: 8 Train Loss: 0.8496 F1: 0.6049\n",
            "2024-12-26 15:19:47 - [line:281] - INFO: Epoch: 8 Dev Loss: 0.9809 F1: 0.5009\n",
            "2024-12-26 15:19:47 - [line:286] - INFO: ---------------------------------\n",
            "2024-12-26 15:19:51 - [line:275] - INFO: Epoch: 9 Train Loss: 0.8274 F1: 0.6182\n",
            "2024-12-26 15:19:52 - [line:281] - INFO: Epoch: 9 Dev Loss: 0.9804 F1: 0.5045\n",
            "2024-12-26 15:19:52 - [line:286] - INFO: ---------------------------------\n",
            "2024-12-26 15:19:56 - [line:275] - INFO: Epoch: 10 Train Loss: 0.7814 F1: 0.6767\n",
            "2024-12-26 15:19:56 - [line:281] - INFO: Epoch: 10 Dev Loss: 0.9766 F1: 0.5143\n",
            "2024-12-26 15:19:56 - [line:286] - INFO: ---------------------------------\n",
            "2024-12-26 15:20:00 - [line:275] - INFO: Epoch: 11 Train Loss: 0.7568 F1: 0.6791\n",
            "2024-12-26 15:20:01 - [line:281] - INFO: Epoch: 11 Dev Loss: 0.9888 F1: 0.5116\n",
            "2024-12-26 15:20:01 - [line:286] - INFO: ---------------------------------\n",
            "2024-12-26 15:20:04 - [line:275] - INFO: Epoch: 12 Train Loss: 0.7317 F1: 0.7054\n",
            "2024-12-26 15:20:04 - [line:281] - INFO: Epoch: 12 Dev Loss: 0.9799 F1: 0.5392\n",
            "2024-12-26 15:20:04 - [line:286] - INFO: ---------------------------------\n",
            "2024-12-26 15:20:08 - [line:275] - INFO: Epoch: 13 Train Loss: 0.6986 F1: 0.7265\n",
            "2024-12-26 15:20:09 - [line:281] - INFO: Epoch: 13 Dev Loss: 0.9933 F1: 0.5277\n",
            "2024-12-26 15:20:09 - [line:286] - INFO: ---------------------------------\n",
            "2024-12-26 15:20:12 - [line:275] - INFO: Epoch: 14 Train Loss: 0.6669 F1: 0.7487\n",
            "2024-12-26 15:20:12 - [line:281] - INFO: Epoch: 14 Dev Loss: 1.0000 F1: 0.5339\n",
            "2024-12-26 15:20:12 - [line:286] - INFO: ---------------------------------\n",
            "2024-12-26 15:20:16 - [line:275] - INFO: Epoch: 15 Train Loss: 0.6523 F1: 0.7650\n",
            "2024-12-26 15:20:16 - [line:281] - INFO: Epoch: 15 Dev Loss: 1.0138 F1: 0.5355\n",
            "2024-12-26 15:20:16 - [line:286] - INFO: ---------------------------------\n",
            "2024-12-26 15:20:19 - [line:275] - INFO: Epoch: 16 Train Loss: 0.6352 F1: 0.7659\n",
            "2024-12-26 15:20:20 - [line:281] - INFO: Epoch: 16 Dev Loss: 1.0285 F1: 0.5305\n",
            "2024-12-26 15:20:20 - [line:286] - INFO: ---------------------------------\n",
            "2024-12-26 15:20:23 - [line:275] - INFO: Epoch: 17 Train Loss: 0.6123 F1: 0.7816\n",
            "2024-12-26 15:20:23 - [line:281] - INFO: Epoch: 17 Dev Loss: 1.0460 F1: 0.5264\n",
            "2024-12-26 15:20:23 - [line:286] - INFO: ---------------------------------\n",
            "2024-12-26 15:20:26 - [line:275] - INFO: Epoch: 18 Train Loss: 0.5979 F1: 0.8045\n",
            "2024-12-26 15:20:27 - [line:281] - INFO: Epoch: 18 Dev Loss: 1.0569 F1: 0.5421\n",
            "2024-12-26 15:20:27 - [line:286] - INFO: ---------------------------------\n",
            "2024-12-26 15:20:31 - [line:275] - INFO: Epoch: 19 Train Loss: 0.5778 F1: 0.8157\n",
            "2024-12-26 15:20:31 - [line:281] - INFO: Epoch: 19 Dev Loss: 1.0712 F1: 0.5464\n",
            "2024-12-26 15:20:31 - [line:286] - INFO: ---------------------------------\n",
            "2024-12-26 15:20:35 - [line:275] - INFO: Epoch: 20 Train Loss: 0.5568 F1: 0.8294\n",
            "2024-12-26 15:20:36 - [line:281] - INFO: Epoch: 20 Dev Loss: 1.0916 F1: 0.5337\n",
            "2024-12-26 15:20:36 - [line:286] - INFO: ---------------------------------\n",
            "2024-12-26 15:20:39 - [line:275] - INFO: Epoch: 21 Train Loss: 0.5444 F1: 0.8316\n",
            "2024-12-26 15:20:39 - [line:281] - INFO: Epoch: 21 Dev Loss: 1.1039 F1: 0.5346\n",
            "2024-12-26 15:20:39 - [line:286] - INFO: ---------------------------------\n",
            "2024-12-26 15:20:42 - [line:275] - INFO: Epoch: 22 Train Loss: 0.5436 F1: 0.8423\n",
            "2024-12-26 15:20:43 - [line:281] - INFO: Epoch: 22 Dev Loss: 1.1121 F1: 0.5334\n",
            "2024-12-26 15:20:43 - [line:286] - INFO: ---------------------------------\n",
            "2024-12-26 15:20:46 - [line:275] - INFO: Epoch: 23 Train Loss: 0.5202 F1: 0.8504\n",
            "2024-12-26 15:20:46 - [line:281] - INFO: Epoch: 23 Dev Loss: 1.1256 F1: 0.5406\n",
            "2024-12-26 15:20:46 - [line:286] - INFO: ---------------------------------\n",
            "2024-12-26 15:20:49 - [line:275] - INFO: Epoch: 24 Train Loss: 0.5138 F1: 0.8556\n",
            "2024-12-26 15:20:50 - [line:281] - INFO: Epoch: 24 Dev Loss: 1.1514 F1: 0.5377\n",
            "2024-12-26 15:20:50 - [line:286] - INFO: ---------------------------------\n",
            "2024-12-26 15:20:50 - [line:291] - INFO: Best Dev F1: 0.5464\n"
          ]
        }
      ]
    },
    {
      "cell_type": "code",
      "source": [
        "!python /content/Multimodal-Sentiment-Analysis/src/main.py \\\n",
        "    --train_data_path={train_data_path} \\\n",
        "    --test_data_path={test_data_path} \\\n",
        "    --valid_data_path={valid_data_path} \\\n",
        "    --model_save_path={model_save_path} \\\n",
        "    --log_path={log_path} \\\n",
        "    --evaluate \\\n",
        "    --epochs={epochs}"
      ],
      "metadata": {
        "colab": {
          "base_uri": "https://localhost:8080/"
        },
        "id": "HmNbzenKiUDQ",
        "outputId": "6fdbd3de-40e7-4fcb-fb63-ce4bb2546695"
      },
      "execution_count": 23,
      "outputs": [
        {
          "output_type": "stream",
          "name": "stdout",
          "text": [
            "2024-12-26 15:21:02.406423: I tensorflow/core/util/port.cc:153] oneDNN custom operations are on. You may see slightly different numerical results due to floating-point round-off errors from different computation orders. To turn them off, set the environment variable `TF_ENABLE_ONEDNN_OPTS=0`.\n",
            "2024-12-26 15:21:02.423400: E external/local_xla/xla/stream_executor/cuda/cuda_fft.cc:485] Unable to register cuFFT factory: Attempting to register factory for plugin cuFFT when one has already been registered\n",
            "2024-12-26 15:21:02.443966: E external/local_xla/xla/stream_executor/cuda/cuda_dnn.cc:8454] Unable to register cuDNN factory: Attempting to register factory for plugin cuDNN when one has already been registered\n",
            "2024-12-26 15:21:02.450236: E external/local_xla/xla/stream_executor/cuda/cuda_blas.cc:1452] Unable to register cuBLAS factory: Attempting to register factory for plugin cuBLAS when one has already been registered\n",
            "2024-12-26 15:21:02.464925: I tensorflow/core/platform/cpu_feature_guard.cc:210] This TensorFlow binary is optimized to use available CPU instructions in performance-critical operations.\n",
            "To enable the following instructions: AVX2 AVX512F AVX512_VNNI FMA, in other operations, rebuild TensorFlow with the appropriate compiler flags.\n",
            "2024-12-26 15:21:03.537107: W tensorflow/compiler/tf2tensorrt/utils/py_utils.cc:38] TF-TRT Warning: Could not find TensorRT\n",
            "2024-12-26 15:21:04 - [line:211] - INFO: Namespace(train_data_path='/content/train_sent_emo.csv', test_data_path='/content/test_sent_emo.csv', valid_data_path='/content/dev_sent_emo.csv', model_save_path='/content/model.pkl', log_path='/content/log', d_model=768, d_ff=768, heads=6, layers=1, input_max_length=512, hidden_dim=768, dropout=0.5, lr=5e-05, bert_lr=1e-05, weight_decay=1e-05, max_grad_norm=1.0, epochs=25, batch_size=8, alpha=0.95, seed=123, device=0, evaluate=True)\n",
            "2024-12-26 15:21:04 - [line:221] - INFO: Loading data...\n",
            "2024-12-26 15:21:04 - [line:1051] - DEBUG: Starting new HTTPS connection (1): huggingface.co:443\n",
            "2024-12-26 15:21:04 - [line:546] - DEBUG: https://huggingface.co:443 \"HEAD /bert-base-uncased/resolve/main/tokenizer_config.json HTTP/11\" 200 0\n",
            "2024-12-26 15:21:10 - [line:546] - DEBUG: https://huggingface.co:443 \"HEAD /bert-base-uncased/resolve/main/config.json HTTP/11\" 200 0\n",
            "2024-12-26 15:21:10 - [line:546] - DEBUG: https://huggingface.co:443 \"HEAD /bert-base-uncased/resolve/main/config.json HTTP/11\" 200 0\n",
            "/content/Multimodal-Sentiment-Analysis/src/main.py:175: FutureWarning: You are using `torch.load` with `weights_only=False` (the current default value), which uses the default pickle module implicitly. It is possible to construct malicious pickle data which will execute arbitrary code during unpickling (See https://github.com/pytorch/pytorch/blob/main/SECURITY.md#untrusted-models for more details). In a future release, the default value for `weights_only` will be flipped to `True`. This limits the functions that could be executed during unpickling. Arbitrary objects will no longer be allowed to be loaded via this mode unless they are explicitly allowlisted by the user via `torch.serialization.add_safe_globals`. We recommend you start setting `weights_only=True` for any use case where you don't have full control of the loaded file. Please open an issue on GitHub for any issues related to this experimental feature.\n",
            "  self.model.load_state_dict(torch.load(path))\n",
            "2024-12-26 15:21:12 - [line:268] - INFO: Dev Loss: 1.0937 F1: 0.5464\n",
            "2024-12-26 15:21:16 - [line:270] - INFO: Test Loss: 1.0945 F1: 0.5581\n"
          ]
        }
      ]
    }
  ]
}