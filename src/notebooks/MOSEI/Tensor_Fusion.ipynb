{
  "cells": [
    {
      "cell_type": "markdown",
      "id": "067cb8f5-a1c8-40d0-8524-0b28f8e4b586",
      "metadata": {
        "id": "067cb8f5-a1c8-40d0-8524-0b28f8e4b586"
      },
      "source": [
        "# Tensor Fusion Model - CMU-MOSEI Dataset"
      ]
    },
    {
      "cell_type": "code",
      "execution_count": 1,
      "id": "YTsVAGE2HwTQ",
      "metadata": {
        "colab": {
          "base_uri": "https://localhost:8080/"
        },
        "id": "YTsVAGE2HwTQ",
        "outputId": "b7980aac-f0f1-40a3-87fa-616634af12dd"
      },
      "outputs": [
        {
          "name": "stdout",
          "output_type": "stream",
          "text": [
            "Cloning into 'Multimodal-Sentiment-Analysis'...\n",
            "remote: Enumerating objects: 507, done.\u001b[K\n",
            "remote: Counting objects: 100% (89/89), done.\u001b[K\n",
            "remote: Compressing objects: 100% (63/63), done.\u001b[K\n",
            "remote: Total 507 (delta 30), reused 62 (delta 22), pack-reused 418 (from 1)\u001b[K\n",
            "Receiving objects: 100% (507/507), 300.73 MiB | 49.39 MiB/s, done.\n",
            "Resolving deltas: 100% (233/233), done.\n"
          ]
        }
      ],
      "source": [
        "!git clone https://github.com/M-Jafarkhani/Multimodal-Sentiment-Analysis"
      ]
    },
    {
      "cell_type": "code",
      "execution_count": 2,
      "id": "ohLs5tNvHyO8",
      "metadata": {
        "colab": {
          "base_uri": "https://localhost:8080/"
        },
        "id": "ohLs5tNvHyO8",
        "outputId": "c9efd662-f74d-4deb-eeaa-e81723ae1938"
      },
      "outputs": [
        {
          "name": "stdout",
          "output_type": "stream",
          "text": [
            "Collecting memory_profiler\n",
            "  Downloading memory_profiler-0.61.0-py3-none-any.whl.metadata (20 kB)\n",
            "Requirement already satisfied: psutil in /usr/local/lib/python3.10/dist-packages (from memory_profiler) (5.9.5)\n",
            "Downloading memory_profiler-0.61.0-py3-none-any.whl (31 kB)\n",
            "Installing collected packages: memory_profiler\n",
            "Successfully installed memory_profiler-0.61.0\n"
          ]
        }
      ],
      "source": [
        "!pip install memory_profiler"
      ]
    },
    {
      "cell_type": "code",
      "execution_count": 3,
      "id": "jQktWr3aH0uE",
      "metadata": {
        "colab": {
          "base_uri": "https://localhost:8080/",
          "height": 125
        },
        "id": "jQktWr3aH0uE",
        "outputId": "9325e7d9-92af-4097-c617-322b54884e16"
      },
      "outputs": [
        {
          "name": "stderr",
          "output_type": "stream",
          "text": [
            "Downloading...\n",
            "From (original): https://drive.google.com/uc?id=180l4pN6XAv8-OAYQ6OrMheFUMwtqUWbz\n",
            "From (redirected): https://drive.google.com/uc?id=180l4pN6XAv8-OAYQ6OrMheFUMwtqUWbz&confirm=t&uuid=10d49ea9-8e5e-4a51-8b78-80f8e7f1ea95\n",
            "To: /content/mosei_senti_data.pkl\n",
            "100%|██████████| 3.73G/3.73G [00:24<00:00, 153MB/s]\n"
          ]
        },
        {
          "data": {
            "application/vnd.google.colaboratory.intrinsic+json": {
              "type": "string"
            },
            "text/plain": [
              "'mosei_senti_data.pkl'"
            ]
          },
          "execution_count": 3,
          "metadata": {},
          "output_type": "execute_result"
        }
      ],
      "source": [
        "import gdown\n",
        "\n",
        "file_id = \"180l4pN6XAv8-OAYQ6OrMheFUMwtqUWbz\"\n",
        "destination = \"mosei_senti_data.pkl\"  # Name to save the file as\n",
        "\n",
        "# Download the file\n",
        "gdown.download(\n",
        "    f\"https://drive.google.com/uc?id={file_id}\", destination, quiet=False)"
      ]
    },
    {
      "cell_type": "markdown",
      "id": "fc015c8e-f315-40d9-823c-6fc3626a4510",
      "metadata": {
        "id": "fc015c8e-f315-40d9-823c-6fc3626a4510"
      },
      "source": [
        "## Importing Libraries"
      ]
    },
    {
      "cell_type": "code",
      "execution_count": 4,
      "id": "d4a4adae-a451-493d-9ddb-0efb28537923",
      "metadata": {
        "id": "d4a4adae-a451-493d-9ddb-0efb28537923"
      },
      "outputs": [],
      "source": [
        "import sys\n",
        "import torch\n",
        "import matplotlib.pyplot as plt\n",
        "\n",
        "sys.path.append('/content/Multimodal-Sentiment-Analysis/src')"
      ]
    },
    {
      "cell_type": "markdown",
      "id": "52a35966-1fba-4107-a1fc-1137f26224bf",
      "metadata": {
        "id": "52a35966-1fba-4107-a1fc-1137f26224bf"
      },
      "source": [
        "## Importing Helper Functions"
      ]
    },
    {
      "cell_type": "code",
      "execution_count": 5,
      "id": "b8d45f84-62c1-4315-9010-45d345dda90d",
      "metadata": {
        "id": "b8d45f84-62c1-4315-9010-45d345dda90d"
      },
      "outputs": [],
      "source": [
        "from loader import get_dataloader\n",
        "from unimodals.modules import GRUWithLinear, MLP\n",
        "from fusions.modules import TensorFusion\n",
        "from training.supervised import train, test\n",
        "from utils import get_default_device, save_results"
      ]
    },
    {
      "cell_type": "markdown",
      "id": "8dc9b148-2e2f-4cfa-a7d4-d53b639f5b18",
      "metadata": {
        "id": "8dc9b148-2e2f-4cfa-a7d4-d53b639f5b18"
      },
      "source": [
        "## Loading the Dataset"
      ]
    },
    {
      "cell_type": "code",
      "execution_count": 9,
      "id": "7f193c63-0bfb-4248-a2a8-e81ca20a7c14",
      "metadata": {
        "id": "7f193c63-0bfb-4248-a2a8-e81ca20a7c14"
      },
      "outputs": [],
      "source": [
        "FILE_PATH = '/content/mosei_senti_data.pkl'\n",
        "train_data, valid_data, test_data = get_dataloader(FILE_PATH)"
      ]
    },
    {
      "cell_type": "code",
      "execution_count": 10,
      "id": "75b021aa-09ec-4739-92d3-028a0ed54287",
      "metadata": {
        "colab": {
          "base_uri": "https://localhost:8080/"
        },
        "id": "75b021aa-09ec-4739-92d3-028a0ed54287",
        "outputId": "0b79b28c-8ec5-4f1f-e848-9fb5c2a7a32b"
      },
      "outputs": [
        {
          "name": "stdout",
          "output_type": "stream",
          "text": [
            "cuda\n"
          ]
        }
      ],
      "source": [
        "device = get_default_device()\n",
        "print(device)"
      ]
    },
    {
      "cell_type": "markdown",
      "id": "a1b80fea-4d34-4db8-a1ed-9ca4e853bbd4",
      "metadata": {
        "id": "a1b80fea-4d34-4db8-a1ed-9ca4e853bbd4"
      },
      "source": [
        "## Model Architecture"
      ]
    },
    {
      "cell_type": "code",
      "execution_count": 11,
      "id": "59286eb3-949a-4afb-b4f4-0b115b885f92",
      "metadata": {
        "id": "59286eb3-949a-4afb-b4f4-0b115b885f92"
      },
      "outputs": [],
      "source": [
        "encoders = [\n",
        "    GRUWithLinear(35, 64, 4, dropout=True, has_padding=True).to(device),\n",
        "    GRUWithLinear(74, 128, 19, dropout=True, has_padding=True).to(device),\n",
        "    GRUWithLinear(300, 512, 79, dropout=True, has_padding=True).to(device),\n",
        "]\n",
        "\n",
        "head = MLP(8000, 512, 1).to(device)\n",
        "\n",
        "fusion = TensorFusion().to(device)"
      ]
    },
    {
      "cell_type": "markdown",
      "id": "4575e9d5-572c-4810-ba00-030f8ded6f05",
      "metadata": {
        "id": "4575e9d5-572c-4810-ba00-030f8ded6f05"
      },
      "source": [
        "## Training"
      ]
    },
    {
      "cell_type": "code",
      "execution_count": 12,
      "id": "f0b5dfe9-6677-4494-a013-7343ed43b731",
      "metadata": {
        "id": "f0b5dfe9-6677-4494-a013-7343ed43b731"
      },
      "outputs": [],
      "source": [
        "OUTPUT_MODEL_FILE_NAME = 'MOSEI_Tensor_Fusion'"
      ]
    },
    {
      "cell_type": "code",
      "execution_count": 14,
      "id": "d9a645da-32a4-419a-9d64-2f499da509ac",
      "metadata": {
        "colab": {
          "base_uri": "https://localhost:8080/"
        },
        "id": "d9a645da-32a4-419a-9d64-2f499da509ac",
        "outputId": "c2556cc3-1c0b-4d1c-c850-d27a8a06539c"
      },
      "outputs": [
        {
          "name": "stdout",
          "output_type": "stream",
          "text": [
            "Epoch [1/50]\n",
            "Train Loss: 0.7296\n",
            "Valid Loss: 0.6187\n",
            "Saving Best\n",
            "\n",
            "Epoch [2/50]\n",
            "Train Loss: 0.6488\n",
            "Valid Loss: 0.6231\n",
            "\n",
            "Epoch [3/50]\n",
            "Train Loss: 0.6064\n",
            "Valid Loss: 0.6104\n",
            "Saving Best\n",
            "\n",
            "Epoch [4/50]\n",
            "Train Loss: 0.5749\n",
            "Valid Loss: 0.6038\n",
            "Saving Best\n",
            "\n",
            "Epoch [5/50]\n",
            "Train Loss: 0.5427\n",
            "Valid Loss: 0.6034\n",
            "Saving Best\n",
            "\n",
            "Epoch [6/50]\n",
            "Train Loss: 0.5014\n",
            "Valid Loss: 0.6060\n",
            "\n",
            "Epoch [7/50]\n",
            "Train Loss: 0.4571\n",
            "Valid Loss: 0.6008\n",
            "Saving Best\n",
            "\n",
            "Epoch [8/50]\n",
            "Train Loss: 0.4093\n",
            "Valid Loss: 0.6171\n",
            "\n",
            "Epoch [9/50]\n",
            "Train Loss: 0.3736\n",
            "Valid Loss: 0.6073\n",
            "\n",
            "Epoch [10/50]\n",
            "Train Loss: 0.3413\n",
            "Valid Loss: 0.6028\n",
            "\n",
            "Epoch [11/50]\n",
            "Train Loss: 0.3158\n",
            "Valid Loss: 0.6055\n",
            "\n",
            "Epoch [12/50]\n",
            "Train Loss: 0.2933\n",
            "Valid Loss: 0.6118\n",
            "\n",
            "Epoch [13/50]\n",
            "Train Loss: 0.2761\n",
            "Valid Loss: 0.6220\n",
            "\n",
            "Epoch [14/50]\n",
            "Train Loss: 0.2591\n",
            "Valid Loss: 0.6012\n",
            "\n",
            "Epoch [15/50]\n",
            "Train Loss: 0.2477\n",
            "Valid Loss: 0.6093\n",
            "\n",
            "Epoch [16/50]\n",
            "Train Loss: 0.2377\n",
            "Valid Loss: 0.6237\n",
            "\n",
            "Epoch [17/50]\n",
            "Train Loss: 0.2286\n",
            "Valid Loss: 0.6237\n",
            "\n",
            "Epoch [18/50]\n",
            "Train Loss: 0.2198\n",
            "Valid Loss: 0.6091\n",
            "\n",
            "Epoch [19/50]\n",
            "Train Loss: 0.2126\n",
            "Valid Loss: 0.6123\n",
            "\n",
            "Epoch [20/50]\n",
            "Train Loss: 0.2053\n",
            "Valid Loss: 0.6175\n",
            "\n",
            "Epoch [21/50]\n",
            "Train Loss: 0.2039\n",
            "Valid Loss: 0.6062\n",
            "\n",
            "Epoch [22/50]\n",
            "Train Loss: 0.2004\n",
            "Valid Loss: 0.6003\n",
            "Saving Best\n",
            "\n",
            "Epoch [23/50]\n",
            "Train Loss: 0.1885\n",
            "Valid Loss: 0.6069\n",
            "\n",
            "Epoch [24/50]\n",
            "Train Loss: 0.1854\n",
            "Valid Loss: 0.6031\n",
            "\n",
            "Epoch [25/50]\n",
            "Train Loss: 0.1842\n",
            "Valid Loss: 0.6092\n",
            "\n",
            "Epoch [26/50]\n",
            "Train Loss: 0.1763\n",
            "Valid Loss: 0.6031\n",
            "\n",
            "Epoch [27/50]\n",
            "Train Loss: 0.1775\n",
            "Valid Loss: 0.6093\n",
            "\n",
            "Epoch [28/50]\n",
            "Train Loss: 0.1725\n",
            "Valid Loss: 0.5997\n",
            "Saving Best\n",
            "\n",
            "Epoch [29/50]\n",
            "Train Loss: 0.1696\n",
            "Valid Loss: 0.5958\n",
            "Saving Best\n",
            "\n",
            "Epoch [30/50]\n",
            "Train Loss: 0.1659\n",
            "Valid Loss: 0.5989\n",
            "\n",
            "Epoch [31/50]\n",
            "Train Loss: 0.1657\n",
            "Valid Loss: 0.5991\n",
            "\n",
            "Epoch [32/50]\n",
            "Train Loss: 0.1644\n",
            "Valid Loss: 0.6021\n",
            "\n",
            "Epoch [33/50]\n",
            "Train Loss: 0.1665\n",
            "Valid Loss: 0.6026\n",
            "\n",
            "Epoch [34/50]\n",
            "Train Loss: 0.1567\n",
            "Valid Loss: 0.6084\n",
            "\n",
            "Epoch [35/50]\n",
            "Train Loss: 0.1537\n",
            "Valid Loss: 0.5996\n",
            "\n",
            "Epoch [36/50]\n",
            "Train Loss: 0.1493\n",
            "Valid Loss: 0.6083\n",
            "\n",
            "Epoch [37/50]\n",
            "Train Loss: 0.1551\n",
            "Valid Loss: 0.6068\n",
            "\n",
            "Epoch [38/50]\n",
            "Train Loss: 0.1486\n",
            "Valid Loss: 0.6069\n",
            "\n",
            "Epoch [39/50]\n",
            "Train Loss: 0.1498\n",
            "Valid Loss: 0.6043\n",
            "\n",
            "Epoch [40/50]\n",
            "Train Loss: 0.1443\n",
            "Valid Loss: 0.5996\n",
            "\n",
            "Epoch [41/50]\n",
            "Train Loss: 0.1456\n",
            "Valid Loss: 0.6048\n",
            "\n",
            "Epoch [42/50]\n",
            "Train Loss: 0.1418\n",
            "Valid Loss: 0.6055\n",
            "\n",
            "Epoch [43/50]\n",
            "Train Loss: 0.1412\n",
            "Valid Loss: 0.5985\n",
            "\n",
            "Epoch [44/50]\n",
            "Train Loss: 0.1403\n",
            "Valid Loss: 0.6066\n",
            "\n",
            "Epoch [45/50]\n",
            "Train Loss: 0.1376\n",
            "Valid Loss: 0.5984\n",
            "\n",
            "Epoch [46/50]\n",
            "Train Loss: 0.1371\n",
            "Valid Loss: 0.5973\n",
            "\n",
            "Epoch [47/50]\n",
            "Train Loss: 0.1349\n",
            "Valid Loss: 0.5950\n",
            "Saving Best\n",
            "\n",
            "Epoch [48/50]\n",
            "Train Loss: 0.1348\n",
            "Valid Loss: 0.5975\n",
            "\n",
            "Epoch [49/50]\n",
            "Train Loss: 0.1340\n",
            "Valid Loss: 0.5966\n",
            "\n",
            "Epoch [50/50]\n",
            "Train Loss: 0.1343\n",
            "Valid Loss: 0.6126\n",
            "\n",
            "Training Time: 25m5s\n",
            "Training Peak Mem: 8745.25390625\n",
            "Training Params: 5488295\n"
          ]
        }
      ],
      "source": [
        "train_losses, valid_losses = train(\n",
        "    encoders,\n",
        "    fusion,\n",
        "    head,\n",
        "    train_data,\n",
        "    valid_data,\n",
        "    50,\n",
        "    task=\"regression\",\n",
        "    optimtype=torch.optim.AdamW,\n",
        "    early_stop=True,\n",
        "    is_packed=True,\n",
        "    lr=1e-3,\n",
        "    save=f\"/content/{OUTPUT_MODEL_FILE_NAME}.pt\",\n",
        "    weight_decay=0.01,\n",
        "    objective=torch.nn.L1Loss(),\n",
        ")\n"
      ]
    },
    {
      "cell_type": "code",
      "execution_count": 15,
      "id": "b0e7c33a-a68d-4292-a2b2-14e8a2e53500",
      "metadata": {
        "colab": {
          "base_uri": "https://localhost:8080/",
          "height": 490
        },
        "id": "b0e7c33a-a68d-4292-a2b2-14e8a2e53500",
        "outputId": "5c535848-7e42-4efb-b93b-78bbf245ce7f"
      },
      "outputs": [
        {
          "data": {
            "text/plain": [
              "Text(0.5, 1.0, 'Loss vs. No. of epochs')"
            ]
          },
          "execution_count": 15,
          "metadata": {},
          "output_type": "execute_result"
        },
        {
          "data": {
            "image/png": "[encoded data removed]",
            "text/plain": [
              "<Figure size 640x480 with 1 Axes>"
            ]
          },
          "metadata": {},
          "output_type": "display_data"
        }
      ],
      "source": [
        "plt.plot(train_losses, label='Train Loss')\n",
        "plt.plot(valid_losses, label='Validation Loss')\n",
        "plt.xlabel('Epochs')\n",
        "plt.ylabel('Loss')\n",
        "plt.legend()\n",
        "plt.grid(True)\n",
        "plt.title('Loss vs. No. of epochs')"
      ]
    },
    {
      "cell_type": "code",
      "execution_count": 16,
      "id": "8bbd60df-8764-4fcd-a545-90860e5f8a2c",
      "metadata": {
        "id": "8bbd60df-8764-4fcd-a545-90860e5f8a2c"
      },
      "outputs": [],
      "source": [
        "save_results(train_losses, valid_losses, f'/content/{OUTPUT_MODEL_FILE_NAME}.pkl')"
      ]
    },
    {
      "cell_type": "markdown",
      "id": "a2a0ca4a-2c05-4ba2-a6aa-1db0e341598b",
      "metadata": {
        "id": "a2a0ca4a-2c05-4ba2-a6aa-1db0e341598b"
      },
      "source": [
        "## Testing"
      ]
    },
    {
      "cell_type": "code",
      "execution_count": 17,
      "id": "d4352442-0d78-4195-bd04-2332af36a7f7",
      "metadata": {
        "colab": {
          "base_uri": "https://localhost:8080/"
        },
        "id": "d4352442-0d78-4195-bd04-2332af36a7f7",
        "outputId": "683eacbe-6467-481a-b4da-d84ff2b85c00"
      },
      "outputs": [
        {
          "name": "stderr",
          "output_type": "stream",
          "text": [
            "<ipython-input-17-29e99e8281bb>:1: FutureWarning: You are using `torch.load` with `weights_only=False` (the current default value), which uses the default pickle module implicitly. It is possible to construct malicious pickle data which will execute arbitrary code during unpickling (See https://github.com/pytorch/pytorch/blob/main/SECURITY.md#untrusted-models for more details). In a future release, the default value for `weights_only` will be flipped to `True`. This limits the functions that could be executed during unpickling. Arbitrary objects will no longer be allowed to be loaded via this mode unless they are explicitly allowlisted by the user via `torch.serialization.add_safe_globals`. We recommend you start setting `weights_only=True` for any use case where you don't have full control of the loaded file. Please open an issue on GitHub for any issues related to this experimental feature.\n",
            "  model = torch.load(f'/content/{OUTPUT_MODEL_FILE_NAME}.pt').to(device)\n"
          ]
        },
        {
          "name": "stdout",
          "output_type": "stream",
          "text": [
            "Recall: 79.6409% | Total Accuracy: 70.4501%\n",
            "Inference Time: 1s610ms\n",
            "Inference Params: 5488295\n"
          ]
        }
      ],
      "source": [
        "model = torch.load(f\"/content/{OUTPUT_MODEL_FILE_NAME}.pt\").to(device)\n",
        "\n",
        "test(\n",
        "    model,\n",
        "    test_dataloaders_all=test_data,\n",
        "    is_packed=True,\n",
        "    criterion=torch.nn.L1Loss(),\n",
        "    task=\"posneg-classification\"\n",
        ")\n"
      ]
    }
  ],
  "metadata": {
    "accelerator": "GPU",
    "colab": {
      "gpuType": "A100",
      "machine_shape": "hm",
      "provenance": []
    },
    "kernelspec": {
      "display_name": "Python 3",
      "name": "python3"
    },
    "language_info": {
      "codemirror_mode": {
        "name": "ipython",
        "version": 3
      },
      "file_extension": ".py",
      "mimetype": "text/x-python",
      "name": "python",
      "nbconvert_exporter": "python",
      "pygments_lexer": "ipython3",
      "version": "3.11.7"
    }
  },
  "nbformat": 4,
  "nbformat_minor": 5
}
