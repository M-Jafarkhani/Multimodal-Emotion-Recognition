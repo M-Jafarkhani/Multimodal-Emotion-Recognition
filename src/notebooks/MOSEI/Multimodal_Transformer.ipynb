{
  "cells": [
    {
      "cell_type": "markdown",
      "id": "49e0ad50-a2a2-4b96-b360-6ebd4ba790f6",
      "metadata": {
        "id": "49e0ad50-a2a2-4b96-b360-6ebd4ba790f6"
      },
      "source": [
        "# Multimodal Transformer Model - MOSEI"
      ]
    },
    {
      "cell_type": "code",
      "execution_count": 1,
      "id": "lT2reJ_UIjJS",
      "metadata": {
        "colab": {
          "base_uri": "https://localhost:8080/"
        },
        "id": "lT2reJ_UIjJS",
        "outputId": "a01b2289-f86b-4c5d-abe6-ad70d623f219"
      },
      "outputs": [
        {
          "name": "stdout",
          "output_type": "stream",
          "text": [
            "Cloning into 'Multimodal-Sentiment-Analysis'...\n",
            "remote: Enumerating objects: 612, done.\u001b[K\n",
            "remote: Counting objects: 100% (47/47), done.\u001b[K\n",
            "remote: Compressing objects: 100% (35/35), done.\u001b[K\n",
            "remote: Total 612 (delta 14), reused 41 (delta 12), pack-reused 565 (from 2)\u001b[K\n",
            "Receiving objects: 100% (612/612), 446.95 MiB | 52.08 MiB/s, done.\n",
            "Resolving deltas: 100% (266/266), done.\n",
            "Updating files: 100% (47/47), done.\n"
          ]
        }
      ],
      "source": [
        "!git clone https://github.com/M-Jafarkhani/Multimodal-Sentiment-Analysis"
      ]
    },
    {
      "cell_type": "code",
      "execution_count": 2,
      "id": "3svAZYR0IiLF",
      "metadata": {
        "colab": {
          "base_uri": "https://localhost:8080/"
        },
        "id": "3svAZYR0IiLF",
        "outputId": "bad4e10f-1738-4975-d963-8dfd3b624252"
      },
      "outputs": [
        {
          "name": "stdout",
          "output_type": "stream",
          "text": [
            "Collecting memory_profiler\n",
            "  Downloading memory_profiler-0.61.0-py3-none-any.whl.metadata (20 kB)\n",
            "Requirement already satisfied: psutil in /usr/local/lib/python3.10/dist-packages (from memory_profiler) (5.9.5)\n",
            "Downloading memory_profiler-0.61.0-py3-none-any.whl (31 kB)\n",
            "Installing collected packages: memory_profiler\n",
            "Successfully installed memory_profiler-0.61.0\n"
          ]
        }
      ],
      "source": [
        "!pip install memory_profiler"
      ]
    },
    {
      "cell_type": "code",
      "execution_count": 3,
      "id": "wzGoOMvsIgTA",
      "metadata": {
        "colab": {
          "base_uri": "https://localhost:8080/",
          "height": 125
        },
        "id": "wzGoOMvsIgTA",
        "outputId": "18abc7e1-25a1-4c6d-8b19-0354d845f407"
      },
      "outputs": [
        {
          "name": "stderr",
          "output_type": "stream",
          "text": [
            "Downloading...\n",
            "From (original): https://drive.google.com/uc?id=180l4pN6XAv8-OAYQ6OrMheFUMwtqUWbz\n",
            "From (redirected): https://drive.google.com/uc?id=180l4pN6XAv8-OAYQ6OrMheFUMwtqUWbz&confirm=t&uuid=e9e6ac8f-d8b8-4930-b8c5-facdafee2b4a\n",
            "To: /content/mosei_senti_data.pkl\n",
            "100%|██████████| 3.73G/3.73G [00:26<00:00, 141MB/s]\n"
          ]
        },
        {
          "data": {
            "application/vnd.google.colaboratory.intrinsic+json": {
              "type": "string"
            },
            "text/plain": [
              "'mosei_senti_data.pkl'"
            ]
          },
          "execution_count": 3,
          "metadata": {},
          "output_type": "execute_result"
        }
      ],
      "source": [
        "import gdown\n",
        "\n",
        "file_id = \"180l4pN6XAv8-OAYQ6OrMheFUMwtqUWbz\"\n",
        "destination = \"mosei_senti_data.pkl\"  \n",
        "\n",
        "gdown.download(\n",
        "    f\"https://drive.google.com/uc?id={file_id}\", destination, quiet=False)"
      ]
    },
    {
      "cell_type": "markdown",
      "id": "0e330111-2839-49fa-86f3-2204b6d24fc4",
      "metadata": {
        "id": "0e330111-2839-49fa-86f3-2204b6d24fc4"
      },
      "source": [
        "## Importing Libraries"
      ]
    },
    {
      "cell_type": "code",
      "execution_count": 4,
      "id": "90273986-226c-4f13-a783-27d03eda1e21",
      "metadata": {
        "id": "90273986-226c-4f13-a783-27d03eda1e21"
      },
      "outputs": [],
      "source": [
        "import sys\n",
        "import torch\n",
        "import matplotlib.pyplot as plt\n",
        "\n",
        "sys.path.append('/content/Multimodal-Sentiment-Analysis/src')"
      ]
    },
    {
      "cell_type": "markdown",
      "id": "3a8511b4-49ef-4df0-916e-07c8002ebcf9",
      "metadata": {
        "id": "3a8511b4-49ef-4df0-916e-07c8002ebcf9"
      },
      "source": [
        "## Importing Helper Functions"
      ]
    },
    {
      "cell_type": "code",
      "execution_count": 5,
      "id": "77dcaf0e-287e-4312-a80b-a67ca4221f73",
      "metadata": {
        "id": "77dcaf0e-287e-4312-a80b-a67ca4221f73"
      },
      "outputs": [],
      "source": [
        "from loader import get_dataloader\n",
        "from unimodals.modules import Identity\n",
        "from fusions.multimodal import MULTModel\n",
        "from training.supervised import train, test\n",
        "from utils import get_default_device, save_results"
      ]
    },
    {
      "cell_type": "markdown",
      "id": "2bc745d1-4151-4894-af83-77780036ba7b",
      "metadata": {
        "id": "2bc745d1-4151-4894-af83-77780036ba7b"
      },
      "source": [
        "## Loading the Dataset"
      ]
    },
    {
      "cell_type": "code",
      "execution_count": 6,
      "id": "c7aa2aea-6160-4f43-a6f1-596f9c26bab7",
      "metadata": {
        "id": "c7aa2aea-6160-4f43-a6f1-596f9c26bab7"
      },
      "outputs": [],
      "source": [
        "train_data, valid_data, test_data = get_dataloader('/content/mosei_senti_data.pkl', max_pad=True)"
      ]
    },
    {
      "cell_type": "code",
      "execution_count": 7,
      "id": "3e83b4bf-2838-4c0b-beb8-3d6150a369f3",
      "metadata": {
        "colab": {
          "base_uri": "https://localhost:8080/"
        },
        "id": "3e83b4bf-2838-4c0b-beb8-3d6150a369f3",
        "outputId": "a442be72-f9ae-443c-fe0b-be9de5ba03a7"
      },
      "outputs": [
        {
          "name": "stdout",
          "output_type": "stream",
          "text": [
            "cuda\n"
          ]
        }
      ],
      "source": [
        "device = get_default_device()\n",
        "print(device)"
      ]
    },
    {
      "cell_type": "markdown",
      "id": "da5644c7-a89a-437f-8b75-3bf386b20dea",
      "metadata": {
        "id": "da5644c7-a89a-437f-8b75-3bf386b20dea"
      },
      "source": [
        "## Model Architecture"
      ]
    },
    {
      "cell_type": "code",
      "execution_count": 8,
      "id": "55070fb4-ea3e-4529-a717-7a0b3baf5275",
      "metadata": {
        "id": "55070fb4-ea3e-4529-a717-7a0b3baf5275"
      },
      "outputs": [],
      "source": [
        "class HParams():\n",
        "    num_heads = 8\n",
        "    layers = 4\n",
        "    attn_dropout = 0.1\n",
        "    attn_dropout_modalities = [0, 0, 0.1]\n",
        "    relu_dropout = 0.1\n",
        "    res_dropout = 0.1\n",
        "    out_dropout = 0.1\n",
        "    embed_dropout = 0.2\n",
        "    embed_dim = 40\n",
        "    attn_mask = True\n",
        "    output_dim = 1\n",
        "    all_steps = False\n",
        "\n",
        "encoders = [\n",
        "    Identity().to(device),\n",
        "    Identity().to(device),\n",
        "    Identity().to(device),\n",
        "]\n",
        "\n",
        "fusion = MULTModel(3, [35, 74, 300], hyp_params=HParams).to(device)\n",
        "\n",
        "head = Identity().to(device)"
      ]
    },
    {
      "cell_type": "markdown",
      "id": "1ccb00f7-9da1-43bb-b41e-f39eca505a76",
      "metadata": {
        "id": "1ccb00f7-9da1-43bb-b41e-f39eca505a76"
      },
      "source": [
        "## Training"
      ]
    },
    {
      "cell_type": "code",
      "execution_count": 9,
      "id": "49704ef0-fdb1-4f25-93a3-25083ce2d016",
      "metadata": {
        "colab": {
          "base_uri": "https://localhost:8080/"
        },
        "id": "49704ef0-fdb1-4f25-93a3-25083ce2d016",
        "outputId": "2f840616-0e10-4eb8-b2d2-4efcc7507051"
      },
      "outputs": [
        {
          "name": "stdout",
          "output_type": "stream",
          "text": [
            "Epoch [1/20]\n",
            "Train Loss: 0.7725\n",
            "Valid Loss: 0.7245\n",
            "Saving Best\n",
            "\n",
            "Epoch [2/20]\n",
            "Train Loss: 0.6784\n",
            "Valid Loss: 0.6499\n",
            "Saving Best\n",
            "\n",
            "Epoch [3/20]\n",
            "Train Loss: 0.6569\n",
            "Valid Loss: 0.6530\n",
            "\n",
            "Epoch [4/20]\n",
            "Train Loss: 0.6407\n",
            "Valid Loss: 0.6176\n",
            "Saving Best\n",
            "\n",
            "Epoch [5/20]\n",
            "Train Loss: 0.6289\n",
            "Valid Loss: 0.6333\n",
            "\n",
            "Epoch [6/20]\n",
            "Train Loss: 0.6205\n",
            "Valid Loss: 0.6311\n",
            "\n",
            "Epoch [7/20]\n",
            "Train Loss: 0.6114\n",
            "Valid Loss: 0.6117\n",
            "Saving Best\n",
            "\n",
            "Epoch [8/20]\n",
            "Train Loss: 0.6090\n",
            "Valid Loss: 0.6125\n",
            "\n",
            "Epoch [9/20]\n",
            "Train Loss: 0.5974\n",
            "Valid Loss: 0.6075\n",
            "Saving Best\n",
            "\n",
            "Epoch [10/20]\n",
            "Train Loss: 0.5943\n",
            "Valid Loss: 0.6201\n",
            "\n",
            "Epoch [11/20]\n",
            "Train Loss: 0.5852\n",
            "Valid Loss: 0.6638\n",
            "\n",
            "Epoch [12/20]\n",
            "Train Loss: 0.5803\n",
            "Valid Loss: 0.5945\n",
            "Saving Best\n",
            "\n",
            "Epoch [13/20]\n",
            "Train Loss: 0.5758\n",
            "Valid Loss: 0.5972\n",
            "\n",
            "Epoch [14/20]\n",
            "Train Loss: 0.5731\n",
            "Valid Loss: 0.5975\n",
            "\n",
            "Epoch [15/20]\n",
            "Train Loss: 0.5680\n",
            "Valid Loss: 0.6267\n",
            "\n",
            "Epoch [16/20]\n",
            "Train Loss: 0.5609\n",
            "Valid Loss: 0.6034\n",
            "\n",
            "Epoch [17/20]\n",
            "Train Loss: 0.5570\n",
            "Valid Loss: 0.6234\n",
            "\n",
            "Epoch [18/20]\n",
            "Train Loss: 0.5523\n",
            "Valid Loss: 0.6496\n",
            "\n",
            "Epoch [19/20]\n",
            "Train Loss: 0.5529\n",
            "Valid Loss: 0.5896\n",
            "Saving Best\n",
            "\n",
            "Epoch [20/20]\n",
            "Train Loss: 0.5490\n",
            "Valid Loss: 0.6167\n",
            "\n",
            "Training Time: 32m48s\n",
            "Training Peak Mem: 5760.46484375\n",
            "Training Params: 3080321\n"
          ]
        }
      ],
      "source": [
        "OUTPUT_MODEL_FILE_NAME = \"MOSEI_Multimodal_Transformer\"\n",
        "\n",
        "train_losses, valid_losses = train(\n",
        "    encoders,\n",
        "    fusion,\n",
        "    head,\n",
        "    train_data,\n",
        "    valid_data,\n",
        "    20,\n",
        "    task=\"regression\",\n",
        "    optimtype=torch.optim.AdamW,\n",
        "    early_stop=False,\n",
        "    is_packed=False,\n",
        "    lr=1e-3,\n",
        "    clip_val=1.0,\n",
        "    save=f'/content/{OUTPUT_MODEL_FILE_NAME}.pt',\n",
        "    weight_decay=0.01,\n",
        "    objective=torch.nn.L1Loss(),\n",
        ")\n"
      ]
    },
    {
      "cell_type": "code",
      "execution_count": 10,
      "id": "6322ee5b-0442-47f3-a910-2533fee34036",
      "metadata": {
        "colab": {
          "base_uri": "https://localhost:8080/",
          "height": 490
        },
        "id": "6322ee5b-0442-47f3-a910-2533fee34036",
        "outputId": "b9f7ddc3-a288-4a04-9555-74982899da72"
      },
      "outputs": [
        {
          "data": {
            "text/plain": [
              "Text(0.5, 1.0, 'Loss vs. No. of epochs')"
            ]
          },
          "execution_count": 10,
          "metadata": {},
          "output_type": "execute_result"
        },
        {
          "data": {
            "image/png": "[encoded data removed]",
            "text/plain": [
              "<Figure size 640x480 with 1 Axes>"
            ]
          },
          "metadata": {},
          "output_type": "display_data"
        }
      ],
      "source": [
        "plt.plot(train_losses, label='Train Loss')\n",
        "plt.plot(valid_losses, label='Validation Loss')\n",
        "plt.xlabel('Epochs')\n",
        "plt.ylabel('Loss')\n",
        "plt.legend()\n",
        "plt.grid(True)\n",
        "plt.title('Loss vs. No. of epochs')"
      ]
    },
    {
      "cell_type": "code",
      "execution_count": 11,
      "id": "4ecbf0dc-8fad-490b-bd2a-5b0c265e91ab",
      "metadata": {
        "id": "4ecbf0dc-8fad-490b-bd2a-5b0c265e91ab"
      },
      "outputs": [],
      "source": [
        "save_results(train_losses, valid_losses, f'/content/{OUTPUT_MODEL_FILE_NAME}.pkl')"
      ]
    },
    {
      "cell_type": "markdown",
      "id": "7c091121-ff36-40fc-ab64-a58a4f524e8b",
      "metadata": {
        "id": "7c091121-ff36-40fc-ab64-a58a4f524e8b"
      },
      "source": [
        "## Testing"
      ]
    },
    {
      "cell_type": "code",
      "execution_count": 13,
      "id": "d01b591b-614f-433c-9ae7-10ac18a850fe",
      "metadata": {
        "colab": {
          "base_uri": "https://localhost:8080/"
        },
        "id": "d01b591b-614f-433c-9ae7-10ac18a850fe",
        "outputId": "d16b3712-a707-4055-f507-38296204c815"
      },
      "outputs": [
        {
          "name": "stderr",
          "output_type": "stream",
          "text": [
            "<ipython-input-13-fc52f287b6aa>:1: FutureWarning: You are using `torch.load` with `weights_only=False` (the current default value), which uses the default pickle module implicitly. It is possible to construct malicious pickle data which will execute arbitrary code during unpickling (See https://github.com/pytorch/pytorch/blob/main/SECURITY.md#untrusted-models for more details). In a future release, the default value for `weights_only` will be flipped to `True`. This limits the functions that could be executed during unpickling. Arbitrary objects will no longer be allowed to be loaded via this mode unless they are explicitly allowlisted by the user via `torch.serialization.add_safe_globals`. We recommend you start setting `weights_only=True` for any use case where you don't have full control of the loaded file. Please open an issue on GitHub for any issues related to this experimental feature.\n",
            "  model = torch.load(f'/content/{OUTPUT_MODEL_FILE_NAME}.pt').to(device)\n"
          ]
        },
        {
          "name": "stdout",
          "output_type": "stream",
          "text": [
            "Recall: 80.6630% | Total Accuracy: 70.4071%\n",
            "Inference Time: 9s934ms\n",
            "Inference Params: 3080321\n"
          ]
        }
      ],
      "source": [
        "model = torch.load(f\"/content/{OUTPUT_MODEL_FILE_NAME}.pt\").to(device)\n",
        "\n",
        "test(\n",
        "    model,\n",
        "    test_dataloaders_all=test_data,\n",
        "    is_packed=False,\n",
        "    criterion=torch.nn.L1Loss(),\n",
        "    task=\"posneg-classification\"\n",
        ")\n"
      ]
    }
  ],
  "metadata": {
    "accelerator": "GPU",
    "colab": {
      "gpuType": "A100",
      "machine_shape": "hm",
      "provenance": []
    },
    "kernelspec": {
      "display_name": "Python 3",
      "name": "python3"
    },
    "language_info": {
      "codemirror_mode": {
        "name": "ipython",
        "version": 3
      },
      "file_extension": ".py",
      "mimetype": "text/x-python",
      "name": "python",
      "nbconvert_exporter": "python",
      "pygments_lexer": "ipython3",
      "version": "3.11.7"
    }
  },
  "nbformat": 4,
  "nbformat_minor": 5
}
