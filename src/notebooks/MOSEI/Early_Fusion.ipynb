{
  "cells": [
    {
      "cell_type": "markdown",
      "id": "067cb8f5-a1c8-40d0-8524-0b28f8e4b586",
      "metadata": {
        "id": "067cb8f5-a1c8-40d0-8524-0b28f8e4b586"
      },
      "source": [
        "# Early Fusion Model - CMU-MOSEI Dataset"
      ]
    },
    {
      "cell_type": "code",
      "execution_count": 1,
      "id": "TLmgnBW8Pn__",
      "metadata": {
        "colab": {
          "base_uri": "https://localhost:8080/"
        },
        "id": "TLmgnBW8Pn__",
        "outputId": "1919e9a4-bd2a-47e0-d1e4-a7d01e0b4a1f"
      },
      "outputs": [
        {
          "name": "stdout",
          "output_type": "stream",
          "text": [
            "Cloning into 'Multimodal-Sentiment-Analysis'...\n",
            "remote: Enumerating objects: 521, done.\u001b[K\n",
            "remote: Total 521 (delta 0), reused 0 (delta 0), pack-reused 521 (from 2)\u001b[K\n",
            "Receiving objects: 100% (521/521), 320.60 MiB | 48.49 MiB/s, done.\n",
            "Resolving deltas: 100% (237/237), done.\n"
          ]
        }
      ],
      "source": [
        "!git clone https://github.com/M-Jafarkhani/Multimodal-Sentiment-Analysis"
      ]
    },
    {
      "cell_type": "markdown",
      "id": "fc015c8e-f315-40d9-823c-6fc3626a4510",
      "metadata": {
        "id": "fc015c8e-f315-40d9-823c-6fc3626a4510"
      },
      "source": [
        "## Importing Libraries"
      ]
    },
    {
      "cell_type": "code",
      "execution_count": 2,
      "id": "Iak_c-vfPpXf",
      "metadata": {
        "colab": {
          "base_uri": "https://localhost:8080/"
        },
        "id": "Iak_c-vfPpXf",
        "outputId": "ea1f55de-73de-4291-d087-a6cb5efd0b79"
      },
      "outputs": [
        {
          "name": "stdout",
          "output_type": "stream",
          "text": [
            "Collecting memory_profiler\n",
            "  Downloading memory_profiler-0.61.0-py3-none-any.whl.metadata (20 kB)\n",
            "Requirement already satisfied: psutil in /usr/local/lib/python3.10/dist-packages (from memory_profiler) (5.9.5)\n",
            "Downloading memory_profiler-0.61.0-py3-none-any.whl (31 kB)\n",
            "Installing collected packages: memory_profiler\n",
            "Successfully installed memory_profiler-0.61.0\n"
          ]
        }
      ],
      "source": [
        "!pip install memory_profiler"
      ]
    },
    {
      "cell_type": "code",
      "execution_count": 3,
      "id": "d4a4adae-a451-493d-9ddb-0efb28537923",
      "metadata": {
        "id": "d4a4adae-a451-493d-9ddb-0efb28537923"
      },
      "outputs": [],
      "source": [
        "import sys\n",
        "import torch\n",
        "\n",
        "import numpy as np\n",
        "import matplotlib.pyplot as plt\n",
        "\n",
        "sys.path.append('/content/Multimodal-Sentiment-Analysis/src')"
      ]
    },
    {
      "cell_type": "markdown",
      "id": "52a35966-1fba-4107-a1fc-1137f26224bf",
      "metadata": {
        "id": "52a35966-1fba-4107-a1fc-1137f26224bf"
      },
      "source": [
        "## Importing Helper Functions"
      ]
    },
    {
      "cell_type": "code",
      "execution_count": 4,
      "id": "b8d45f84-62c1-4315-9010-45d345dda90d",
      "metadata": {
        "id": "b8d45f84-62c1-4315-9010-45d345dda90d"
      },
      "outputs": [],
      "source": [
        "from loader import get_dataloader\n",
        "from unimodals.modules import GRU, MLP, Sequential, Identity\n",
        "from training.supervised import train, test\n",
        "from fusions.modules import ConcatEarly\n",
        "from utils import get_default_device, save_results"
      ]
    },
    {
      "cell_type": "code",
      "execution_count": 5,
      "id": "o3NPHsr9Pvdr",
      "metadata": {
        "colab": {
          "base_uri": "https://localhost:8080/",
          "height": 125
        },
        "id": "o3NPHsr9Pvdr",
        "outputId": "6030b0c8-0563-45dc-f688-232012be3869"
      },
      "outputs": [
        {
          "name": "stderr",
          "output_type": "stream",
          "text": [
            "Downloading...\n",
            "From (original): https://drive.google.com/uc?id=1zFOBHijVppTiyteSsi0aTFYPEsda_AOk\n",
            "From (redirected): https://drive.google.com/uc?id=1zFOBHijVppTiyteSsi0aTFYPEsda_AOk&confirm=t&uuid=9ad3b0fe-1cb0-4916-b494-e58383378d6b\n",
            "To: /content/mosei_raw.pkl\n",
            "100%|██████████| 9.94G/9.94G [00:55<00:00, 181MB/s]\n"
          ]
        },
        {
          "data": {
            "application/vnd.google.colaboratory.intrinsic+json": {
              "type": "string"
            },
            "text/plain": [
              "'mosei_raw.pkl'"
            ]
          },
          "execution_count": 5,
          "metadata": {},
          "output_type": "execute_result"
        }
      ],
      "source": [
        "import gdown\n",
        "\n",
        "file_id = \"1zFOBHijVppTiyteSsi0aTFYPEsda_AOk\"\n",
        "destination = \"mosei_raw.pkl\"  # Name to save the file as\n",
        "\n",
        "# Download the file\n",
        "gdown.download(\n",
        "    f\"https://drive.google.com/uc?id={file_id}\", destination, quiet=False)"
      ]
    },
    {
      "cell_type": "markdown",
      "id": "8dc9b148-2e2f-4cfa-a7d4-d53b639f5b18",
      "metadata": {
        "id": "8dc9b148-2e2f-4cfa-a7d4-d53b639f5b18"
      },
      "source": [
        "## Loading the Dataset"
      ]
    },
    {
      "cell_type": "code",
      "execution_count": 6,
      "id": "7f193c63-0bfb-4248-a2a8-e81ca20a7c14",
      "metadata": {
        "id": "7f193c63-0bfb-4248-a2a8-e81ca20a7c14"
      },
      "outputs": [],
      "source": [
        "FILE_PATH = '/content/mosei_raw.pkl'\n",
        "train_data, valid_data, test_data = get_dataloader(FILE_PATH, max_pad=True, max_seq_len=50)"
      ]
    },
    {
      "cell_type": "code",
      "execution_count": 7,
      "id": "75b021aa-09ec-4739-92d3-028a0ed54287",
      "metadata": {
        "colab": {
          "base_uri": "https://localhost:8080/"
        },
        "id": "75b021aa-09ec-4739-92d3-028a0ed54287",
        "outputId": "6f5340ca-d2f3-4bea-f408-f046e831beaa"
      },
      "outputs": [
        {
          "name": "stdout",
          "output_type": "stream",
          "text": [
            "cuda\n"
          ]
        }
      ],
      "source": [
        "device = get_default_device()\n",
        "print(device)"
      ]
    },
    {
      "cell_type": "markdown",
      "id": "a1b80fea-4d34-4db8-a1ed-9ca4e853bbd4",
      "metadata": {
        "id": "a1b80fea-4d34-4db8-a1ed-9ca4e853bbd4"
      },
      "source": [
        "## Model Architecture"
      ]
    },
    {
      "cell_type": "code",
      "execution_count": 8,
      "id": "59286eb3-949a-4afb-b4f4-0b115b885f92",
      "metadata": {
        "id": "59286eb3-949a-4afb-b4f4-0b115b885f92"
      },
      "outputs": [],
      "source": [
        "encoders = [Identity().to(device), Identity().to(device), Identity().to(device)]\n",
        "head = Sequential(GRU(1087, 1024, dropout=True, has_padding=False,batch_first=True, last_only=True), MLP(1024, 512, 1)).to(device)"
      ]
    },
    {
      "cell_type": "code",
      "execution_count": 9,
      "id": "63408731-2f89-4f01-b1d4-c169817fd8a8",
      "metadata": {
        "id": "63408731-2f89-4f01-b1d4-c169817fd8a8"
      },
      "outputs": [],
      "source": [
        "fusion = ConcatEarly().to(device)"
      ]
    },
    {
      "cell_type": "markdown",
      "id": "4575e9d5-572c-4810-ba00-030f8ded6f05",
      "metadata": {
        "id": "4575e9d5-572c-4810-ba00-030f8ded6f05"
      },
      "source": [
        "## Training"
      ]
    },
    {
      "cell_type": "code",
      "execution_count": 11,
      "id": "d9a645da-32a4-419a-9d64-2f499da509ac",
      "metadata": {
        "colab": {
          "base_uri": "https://localhost:8080/"
        },
        "id": "d9a645da-32a4-419a-9d64-2f499da509ac",
        "outputId": "c3878e8b-2814-4e1a-b096-9ba4098a6831"
      },
      "outputs": [
        {
          "name": "stdout",
          "output_type": "stream",
          "text": [
            "Epoch [1/100]\n",
            "Train Loss: 0.8607\n",
            "Valid Loss: 0.7728\n",
            "Saving Best\n",
            "\n",
            "Epoch [2/100]\n",
            "Train Loss: 0.8404\n",
            "Valid Loss: 0.7709\n",
            "Saving Best\n",
            "\n",
            "Epoch [3/100]\n",
            "Train Loss: 0.8404\n",
            "Valid Loss: 0.7761\n",
            "\n",
            "Epoch [4/100]\n",
            "Train Loss: 0.8457\n",
            "Valid Loss: 0.7778\n",
            "\n",
            "Epoch [5/100]\n",
            "Train Loss: 0.8453\n",
            "Valid Loss: 0.7757\n",
            "\n",
            "Epoch [6/100]\n",
            "Train Loss: 0.8452\n",
            "Valid Loss: 0.7751\n",
            "\n",
            "Epoch [7/100]\n",
            "Train Loss: 0.8445\n",
            "Valid Loss: 0.7760\n",
            "\n",
            "Epoch [8/100]\n",
            "Train Loss: 0.8448\n",
            "Valid Loss: 0.7756\n",
            "\n",
            "Epoch [9/100]\n",
            "Train Loss: 0.8447\n",
            "Valid Loss: 0.7750\n",
            "\n",
            "Epoch [10/100]\n",
            "Train Loss: 0.8453\n",
            "Valid Loss: 0.7751\n",
            "\n",
            "Epoch [11/100]\n",
            "Train Loss: 0.8446\n",
            "Valid Loss: 0.7751\n",
            "\n",
            "Epoch [12/100]\n",
            "Train Loss: 0.8445\n",
            "Valid Loss: 0.7756\n",
            "\n",
            "Epoch [13/100]\n",
            "Train Loss: 0.8455\n",
            "Valid Loss: 0.7755\n",
            "\n",
            "Epoch [14/100]\n",
            "Train Loss: 0.8446\n",
            "Valid Loss: 0.7754\n",
            "\n",
            "Epoch [15/100]\n",
            "Train Loss: 0.8444\n",
            "Valid Loss: 0.7757\n",
            "\n",
            "Epoch [16/100]\n",
            "Train Loss: 0.8446\n",
            "Valid Loss: 0.7757\n",
            "\n",
            "Epoch [17/100]\n",
            "Train Loss: 0.8440\n",
            "Valid Loss: 0.7771\n",
            "\n",
            "Epoch [18/100]\n",
            "Train Loss: 0.8453\n",
            "Valid Loss: 0.7766\n",
            "\n",
            "Epoch [19/100]\n",
            "Train Loss: 0.8452\n",
            "Valid Loss: 0.7762\n",
            "\n",
            "Epoch [20/100]\n",
            "Train Loss: 0.8462\n",
            "Valid Loss: 0.7970\n",
            "\n",
            "Epoch [21/100]\n",
            "Train Loss: 0.8458\n",
            "Valid Loss: 0.7763\n",
            "\n",
            "Epoch [22/100]\n",
            "Train Loss: 0.8451\n",
            "Valid Loss: 0.7748\n",
            "\n",
            "Epoch [23/100]\n",
            "Train Loss: 0.8448\n",
            "Valid Loss: 0.7751\n",
            "\n",
            "Epoch [24/100]\n",
            "Train Loss: 0.8455\n",
            "Valid Loss: 0.7775\n",
            "\n",
            "Epoch [25/100]\n",
            "Train Loss: 0.8450\n",
            "Valid Loss: 0.7777\n",
            "\n",
            "Epoch [26/100]\n",
            "Train Loss: 0.8468\n",
            "Valid Loss: 0.7759\n",
            "\n",
            "Epoch [27/100]\n",
            "Train Loss: 0.8455\n",
            "Valid Loss: 0.7761\n",
            "\n",
            "Epoch [28/100]\n",
            "Train Loss: 0.8458\n",
            "Valid Loss: 0.7786\n",
            "\n",
            "Epoch [29/100]\n",
            "Train Loss: 0.8451\n",
            "Valid Loss: 0.7765\n",
            "\n",
            "Epoch [30/100]\n",
            "Train Loss: 0.8472\n",
            "Valid Loss: 0.7769\n",
            "\n",
            "Epoch [31/100]\n",
            "Train Loss: 0.8458\n",
            "Valid Loss: 0.7761\n",
            "\n",
            "Epoch [32/100]\n",
            "Train Loss: 0.8455\n",
            "Valid Loss: 0.7768\n",
            "\n",
            "Epoch [33/100]\n",
            "Train Loss: 0.8455\n",
            "Valid Loss: 0.7763\n",
            "\n",
            "Epoch [34/100]\n",
            "Train Loss: 0.8460\n",
            "Valid Loss: 0.7771\n",
            "\n",
            "Epoch [35/100]\n",
            "Train Loss: 0.8453\n",
            "Valid Loss: 0.7762\n",
            "\n",
            "Epoch [36/100]\n",
            "Train Loss: 0.8450\n",
            "Valid Loss: 0.7765\n",
            "\n",
            "Epoch [37/100]\n",
            "Train Loss: 0.8474\n",
            "Valid Loss: 0.7772\n",
            "\n",
            "Epoch [38/100]\n",
            "Train Loss: 0.8465\n",
            "Valid Loss: 0.7771\n",
            "\n",
            "Epoch [39/100]\n",
            "Train Loss: 0.8459\n",
            "Valid Loss: 0.7771\n",
            "\n",
            "Epoch [40/100]\n",
            "Train Loss: 0.8463\n",
            "Valid Loss: 0.7763\n",
            "\n",
            "Epoch [41/100]\n",
            "Train Loss: 0.8458\n",
            "Valid Loss: 0.7761\n",
            "\n",
            "Epoch [42/100]\n",
            "Train Loss: 0.8455\n",
            "Valid Loss: 0.7761\n",
            "\n",
            "Epoch [43/100]\n",
            "Train Loss: 0.8455\n",
            "Valid Loss: 0.7762\n",
            "\n",
            "Epoch [44/100]\n",
            "Train Loss: 0.8453\n",
            "Valid Loss: 0.7762\n",
            "\n",
            "Epoch [45/100]\n",
            "Train Loss: 0.8455\n",
            "Valid Loss: 0.7766\n",
            "\n",
            "Epoch [46/100]\n",
            "Train Loss: 0.8454\n",
            "Valid Loss: 0.7761\n",
            "\n",
            "Epoch [47/100]\n",
            "Train Loss: 0.8454\n",
            "Valid Loss: 0.7761\n",
            "\n",
            "Epoch [48/100]\n",
            "Train Loss: 0.8457\n",
            "Valid Loss: 0.7762\n",
            "\n",
            "Epoch [49/100]\n",
            "Train Loss: 0.8458\n",
            "Valid Loss: 0.7761\n",
            "\n",
            "Epoch [50/100]\n",
            "Train Loss: 0.8456\n",
            "Valid Loss: 0.7761\n",
            "\n",
            "Epoch [51/100]\n",
            "Train Loss: 0.8460\n",
            "Valid Loss: 0.7762\n",
            "\n",
            "Epoch [52/100]\n",
            "Train Loss: 0.8454\n",
            "Valid Loss: 0.7761\n",
            "\n",
            "Epoch [53/100]\n",
            "Train Loss: 0.8453\n",
            "Valid Loss: 0.7762\n",
            "\n",
            "Epoch [54/100]\n",
            "Train Loss: 0.8455\n",
            "Valid Loss: 0.7766\n",
            "\n",
            "Epoch [55/100]\n",
            "Train Loss: 0.8453\n",
            "Valid Loss: 0.7761\n",
            "\n",
            "Epoch [56/100]\n",
            "Train Loss: 0.8458\n",
            "Valid Loss: 0.7767\n",
            "\n",
            "Epoch [57/100]\n",
            "Train Loss: 0.8463\n",
            "Valid Loss: 0.7762\n",
            "\n",
            "Epoch [58/100]\n",
            "Train Loss: 0.8458\n",
            "Valid Loss: 0.7763\n",
            "\n",
            "Epoch [59/100]\n",
            "Train Loss: 0.8456\n",
            "Valid Loss: 0.7763\n",
            "\n",
            "Epoch [60/100]\n",
            "Train Loss: 0.8452\n",
            "Valid Loss: 0.7773\n",
            "\n",
            "Epoch [61/100]\n",
            "Train Loss: 0.8460\n",
            "Valid Loss: 0.7762\n",
            "\n",
            "Epoch [62/100]\n",
            "Train Loss: 0.8456\n",
            "Valid Loss: 0.7764\n",
            "\n",
            "Epoch [63/100]\n",
            "Train Loss: 0.8456\n",
            "Valid Loss: 0.7777\n",
            "\n",
            "Epoch [64/100]\n",
            "Train Loss: 0.8459\n",
            "Valid Loss: 0.7769\n",
            "\n",
            "Epoch [65/100]\n",
            "Train Loss: 0.8457\n",
            "Valid Loss: 0.7763\n",
            "\n",
            "Epoch [66/100]\n",
            "Train Loss: 0.8453\n",
            "Valid Loss: 0.7765\n",
            "\n",
            "Epoch [67/100]\n",
            "Train Loss: 0.8453\n",
            "Valid Loss: 0.7767\n",
            "\n",
            "Epoch [68/100]\n",
            "Train Loss: 0.8452\n",
            "Valid Loss: 0.7772\n",
            "\n",
            "Epoch [69/100]\n",
            "Train Loss: 0.8458\n",
            "Valid Loss: 0.7765\n",
            "\n",
            "Epoch [70/100]\n",
            "Train Loss: 0.8452\n",
            "Valid Loss: 0.7764\n",
            "\n",
            "Epoch [71/100]\n",
            "Train Loss: 0.8453\n",
            "Valid Loss: 0.7764\n",
            "\n",
            "Epoch [72/100]\n",
            "Train Loss: 0.8461\n",
            "Valid Loss: 0.7764\n",
            "\n",
            "Epoch [73/100]\n",
            "Train Loss: 0.8456\n",
            "Valid Loss: 0.7763\n",
            "\n",
            "Epoch [74/100]\n",
            "Train Loss: 0.8452\n",
            "Valid Loss: 0.7766\n",
            "\n",
            "Epoch [75/100]\n",
            "Train Loss: 0.8451\n",
            "Valid Loss: 0.7764\n",
            "\n",
            "Epoch [76/100]\n",
            "Train Loss: 0.8450\n",
            "Valid Loss: 0.7764\n",
            "\n",
            "Epoch [77/100]\n",
            "Train Loss: 0.8454\n",
            "Valid Loss: 0.7764\n",
            "\n",
            "Epoch [78/100]\n",
            "Train Loss: 0.8451\n",
            "Valid Loss: 0.7768\n",
            "\n",
            "Epoch [79/100]\n",
            "Train Loss: 0.8451\n",
            "Valid Loss: 0.7765\n",
            "\n",
            "Epoch [80/100]\n",
            "Train Loss: 0.8452\n",
            "Valid Loss: 0.7765\n",
            "\n",
            "Epoch [81/100]\n",
            "Train Loss: 0.8462\n",
            "Valid Loss: 0.7764\n",
            "\n",
            "Epoch [82/100]\n",
            "Train Loss: 0.8451\n",
            "Valid Loss: 0.7765\n",
            "\n",
            "Epoch [83/100]\n",
            "Train Loss: 0.8453\n",
            "Valid Loss: 0.7763\n",
            "\n",
            "Epoch [84/100]\n",
            "Train Loss: 0.8452\n",
            "Valid Loss: 0.7765\n",
            "\n",
            "Epoch [85/100]\n",
            "Train Loss: 0.8451\n",
            "Valid Loss: 0.7767\n",
            "\n",
            "Epoch [86/100]\n",
            "Train Loss: 0.8454\n",
            "Valid Loss: 0.7765\n",
            "\n",
            "Epoch [87/100]\n",
            "Train Loss: 0.8452\n",
            "Valid Loss: 0.7767\n",
            "\n",
            "Epoch [88/100]\n",
            "Train Loss: 0.8455\n",
            "Valid Loss: 0.7766\n",
            "\n",
            "Epoch [89/100]\n",
            "Train Loss: 0.8452\n",
            "Valid Loss: 0.7767\n",
            "\n",
            "Epoch [90/100]\n",
            "Train Loss: 0.8452\n",
            "Valid Loss: 0.7764\n",
            "\n",
            "Epoch [91/100]\n",
            "Train Loss: 0.8451\n",
            "Valid Loss: 0.7765\n",
            "\n",
            "Epoch [92/100]\n",
            "Train Loss: 0.8453\n",
            "Valid Loss: 0.7769\n",
            "\n",
            "Epoch [93/100]\n",
            "Train Loss: 0.8453\n",
            "Valid Loss: 0.7765\n",
            "\n",
            "Epoch [94/100]\n",
            "Train Loss: 0.8451\n",
            "Valid Loss: 0.7766\n",
            "\n",
            "Epoch [95/100]\n",
            "Train Loss: 0.8452\n",
            "Valid Loss: 0.7765\n",
            "\n",
            "Epoch [96/100]\n",
            "Train Loss: 0.8451\n",
            "Valid Loss: 0.7765\n",
            "\n",
            "Epoch [97/100]\n",
            "Train Loss: 0.8455\n",
            "Valid Loss: 0.7767\n",
            "\n",
            "Epoch [98/100]\n",
            "Train Loss: 0.8452\n",
            "Valid Loss: 0.7767\n",
            "\n",
            "Epoch [99/100]\n",
            "Train Loss: 0.8463\n",
            "Valid Loss: 0.7769\n",
            "\n",
            "Epoch [100/100]\n",
            "Train Loss: 0.8456\n",
            "Valid Loss: 0.7768\n",
            "\n",
            "Training Time: 10m50s\n",
            "Training Peak Mem: 10571.2265625\n",
            "Training Params: 7016449\n"
          ]
        }
      ],
      "source": [
        "OUTPUT_MODEL_FILE_NAME = 'MOSEI_Early_Fusion'\n",
        "train_losses, valid_losses = train(\n",
        "    encoders,\n",
        "    fusion,\n",
        "    head,\n",
        "    train_data,\n",
        "    valid_data,\n",
        "    100,\n",
        "    task=\"regression\",\n",
        "    optimtype=torch.optim.AdamW,\n",
        "    is_packed=False,\n",
        "    lr=1e-3,\n",
        "    save=f\"/content/{OUTPUT_MODEL_FILE_NAME}.pt\",\n",
        "    weight_decay=0.01,\n",
        "    objective=torch.nn.L1Loss(),\n",
        ")\n"
      ]
    },
    {
      "cell_type": "code",
      "execution_count": 12,
      "id": "b0e7c33a-a68d-4292-a2b2-14e8a2e53500",
      "metadata": {
        "colab": {
          "base_uri": "https://localhost:8080/",
          "height": 490
        },
        "id": "b0e7c33a-a68d-4292-a2b2-14e8a2e53500",
        "outputId": "c6c0bde0-8297-4b9b-a03e-230a302d1f5d"
      },
      "outputs": [
        {
          "data": {
            "text/plain": [
              "Text(0.5, 1.0, 'Loss vs. No. of epochs')"
            ]
          },
          "execution_count": 12,
          "metadata": {},
          "output_type": "execute_result"
        },
        {
          "data": {
            "image/png": "[encoded data removed]",
            "text/plain": [
              "<Figure size 640x480 with 1 Axes>"
            ]
          },
          "metadata": {},
          "output_type": "display_data"
        }
      ],
      "source": [
        "plt.plot(train_losses, label='Train Loss')\n",
        "plt.plot(valid_losses, label='Validation Loss')\n",
        "plt.xlabel('Epochs')\n",
        "plt.ylabel('Loss')\n",
        "plt.legend()\n",
        "plt.grid(True)\n",
        "plt.title('Loss vs. No. of epochs')"
      ]
    },
    {
      "cell_type": "code",
      "execution_count": 13,
      "id": "8bbd60df-8764-4fcd-a545-90860e5f8a2c",
      "metadata": {
        "id": "8bbd60df-8764-4fcd-a545-90860e5f8a2c"
      },
      "outputs": [],
      "source": [
        "save_results(train_losses, valid_losses, f'/content/{OUTPUT_MODEL_FILE_NAME}.pkl')"
      ]
    },
    {
      "cell_type": "markdown",
      "id": "a2a0ca4a-2c05-4ba2-a6aa-1db0e341598b",
      "metadata": {
        "id": "a2a0ca4a-2c05-4ba2-a6aa-1db0e341598b"
      },
      "source": [
        "## Testing"
      ]
    },
    {
      "cell_type": "code",
      "execution_count": 14,
      "id": "d4352442-0d78-4195-bd04-2332af36a7f7",
      "metadata": {
        "colab": {
          "base_uri": "https://localhost:8080/"
        },
        "id": "d4352442-0d78-4195-bd04-2332af36a7f7",
        "outputId": "ca3963fe-d647-412d-8f1c-a45a575ba9fb"
      },
      "outputs": [
        {
          "name": "stderr",
          "output_type": "stream",
          "text": [
            "<ipython-input-14-4ee360ab307e>:1: FutureWarning: You are using `torch.load` with `weights_only=False` (the current default value), which uses the default pickle module implicitly. It is possible to construct malicious pickle data which will execute arbitrary code during unpickling (See https://github.com/pytorch/pytorch/blob/main/SECURITY.md#untrusted-models for more details). In a future release, the default value for `weights_only` will be flipped to `True`. This limits the functions that could be executed during unpickling. Arbitrary objects will no longer be allowed to be loaded via this mode unless they are explicitly allowlisted by the user via `torch.serialization.add_safe_globals`. We recommend you start setting `weights_only=True` for any use case where you don't have full control of the loaded file. Please open an issue on GitHub for any issues related to this experimental feature.\n",
            "  model = torch.load(f'/content/{OUTPUT_MODEL_FILE_NAME}.pt').to(device)\n"
          ]
        },
        {
          "name": "stdout",
          "output_type": "stream",
          "text": [
            "Recall: 62.8815% | Total Accuracy: 49.0562%\n",
            "Inference Time: 1s393ms\n",
            "Inference Params: 7016449\n"
          ]
        }
      ],
      "source": [
        "model = torch.load(f\"/content/{OUTPUT_MODEL_FILE_NAME}.pt\").to(device)\n",
        "\n",
        "test(\n",
        "    model,\n",
        "    test_data,\n",
        "    is_packed=False,\n",
        "    criterion=torch.nn.L1Loss(),\n",
        "    task=\"posneg-classification\"\n",
        ")\n"
      ]
    }
  ],
  "metadata": {
    "accelerator": "GPU",
    "colab": {
      "gpuType": "A100",
      "machine_shape": "hm",
      "provenance": []
    },
    "kernelspec": {
      "display_name": "Python 3",
      "name": "python3"
    },
    "language_info": {
      "codemirror_mode": {
        "name": "ipython",
        "version": 3
      },
      "file_extension": ".py",
      "mimetype": "text/x-python",
      "name": "python",
      "nbconvert_exporter": "python",
      "pygments_lexer": "ipython3",
      "version": "3.11.7"
    }
  },
  "nbformat": 4,
  "nbformat_minor": 5
}
