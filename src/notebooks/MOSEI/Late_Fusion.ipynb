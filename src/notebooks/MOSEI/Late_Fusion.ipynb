{
  "cells": [
    {
      "cell_type": "markdown",
      "id": "067cb8f5-a1c8-40d0-8524-0b28f8e4b586",
      "metadata": {
        "id": "067cb8f5-a1c8-40d0-8524-0b28f8e4b586"
      },
      "source": [
        "# Late Fusion Model - CMU-MOSEI Dataset"
      ]
    },
    {
      "cell_type": "code",
      "execution_count": 1,
      "id": "LTtJZDesed8l",
      "metadata": {
        "colab": {
          "base_uri": "https://localhost:8080/"
        },
        "id": "LTtJZDesed8l",
        "outputId": "e399baba-8c15-4bb0-c0ef-dd8810666209"
      },
      "outputs": [
        {
          "name": "stdout",
          "output_type": "stream",
          "text": [
            "Cloning into 'Multimodal-Sentiment-Analysis'...\n",
            "remote: Enumerating objects: 301, done.\u001b[K\n",
            "remote: Counting objects: 100% (231/231), done.\u001b[K\n",
            "remote: Compressing objects: 100% (155/155), done.\u001b[K\n",
            "remote: Total 301 (delta 127), reused 168 (delta 74), pack-reused 70 (from 1)\u001b[K\n",
            "Receiving objects: 100% (301/301), 195.03 MiB | 52.75 MiB/s, done.\n",
            "Resolving deltas: 100% (128/128), done.\n",
            "Updating files: 100% (58/58), done.\n"
          ]
        }
      ],
      "source": [
        "!git clone https://github.com/M-Jafarkhani/Multimodal-Sentiment-Analysis"
      ]
    },
    {
      "cell_type": "code",
      "execution_count": 3,
      "id": "tiehbeSxelsk",
      "metadata": {
        "colab": {
          "base_uri": "https://localhost:8080/",
          "height": 125
        },
        "id": "tiehbeSxelsk",
        "outputId": "422969d8-0d6d-4299-de3e-264cbbf5aadb"
      },
      "outputs": [
        {
          "name": "stderr",
          "output_type": "stream",
          "text": [
            "Downloading...\n",
            "From (original): https://drive.google.com/uc?id=1zFOBHijVppTiyteSsi0aTFYPEsda_AOk\n",
            "From (redirected): https://drive.google.com/uc?id=1zFOBHijVppTiyteSsi0aTFYPEsda_AOk&confirm=t&uuid=203e85f9-1dda-4047-b62d-928e6e0ca73c\n",
            "To: /content/mosei_raw.pkl\n",
            "100%|██████████| 9.94G/9.94G [00:52<00:00, 191MB/s]\n"
          ]
        },
        {
          "data": {
            "application/vnd.google.colaboratory.intrinsic+json": {
              "type": "string"
            },
            "text/plain": [
              "'mosei_raw.pkl'"
            ]
          },
          "execution_count": 3,
          "metadata": {},
          "output_type": "execute_result"
        }
      ],
      "source": [
        "import gdown\n",
        "\n",
        "file_id = \"1zFOBHijVppTiyteSsi0aTFYPEsda_AOk\"\n",
        "destination = \"mosei_raw.pkl\"\n",
        "\n",
        "gdown.download(\n",
        "    f\"https://drive.google.com/uc?id={file_id}\", destination, quiet=False)"
      ]
    },
    {
      "cell_type": "markdown",
      "id": "fc015c8e-f315-40d9-823c-6fc3626a4510",
      "metadata": {
        "id": "fc015c8e-f315-40d9-823c-6fc3626a4510"
      },
      "source": [
        "## Importing Libraries"
      ]
    },
    {
      "cell_type": "code",
      "execution_count": 4,
      "id": "d4a4adae-a451-493d-9ddb-0efb28537923",
      "metadata": {
        "id": "d4a4adae-a451-493d-9ddb-0efb28537923"
      },
      "outputs": [],
      "source": [
        "import sys\n",
        "import torch\n",
        "import matplotlib.pyplot as plt\n",
        "\n",
        "sys.path.append('/content/Multimodal-Sentiment-Analysis/src')"
      ]
    },
    {
      "cell_type": "markdown",
      "id": "52a35966-1fba-4107-a1fc-1137f26224bf",
      "metadata": {
        "id": "52a35966-1fba-4107-a1fc-1137f26224bf"
      },
      "source": [
        "## Importing Helper Functions"
      ]
    },
    {
      "cell_type": "code",
      "execution_count": 5,
      "id": "b8d45f84-62c1-4315-9010-45d345dda90d",
      "metadata": {
        "id": "b8d45f84-62c1-4315-9010-45d345dda90d"
      },
      "outputs": [],
      "source": [
        "from loader import get_dataloader\n",
        "from unimodals.modules import GRU, MLP\n",
        "from training.supervised import train, test\n",
        "from fusions.modules import Concat\n",
        "from utils import get_default_device, save_results"
      ]
    },
    {
      "cell_type": "markdown",
      "id": "8dc9b148-2e2f-4cfa-a7d4-d53b639f5b18",
      "metadata": {
        "id": "8dc9b148-2e2f-4cfa-a7d4-d53b639f5b18"
      },
      "source": [
        "## Loading the Dataset"
      ]
    },
    {
      "cell_type": "code",
      "execution_count": 6,
      "id": "7f193c63-0bfb-4248-a2a8-e81ca20a7c14",
      "metadata": {
        "id": "7f193c63-0bfb-4248-a2a8-e81ca20a7c14"
      },
      "outputs": [],
      "source": [
        "train_data, valid_data, test_data = get_dataloader('/content/mosei_raw.pkl')"
      ]
    },
    {
      "cell_type": "code",
      "execution_count": 7,
      "id": "75b021aa-09ec-4739-92d3-028a0ed54287",
      "metadata": {
        "colab": {
          "base_uri": "https://localhost:8080/"
        },
        "id": "75b021aa-09ec-4739-92d3-028a0ed54287",
        "outputId": "034c0a16-60bf-494a-83df-905a1c9fc212"
      },
      "outputs": [
        {
          "name": "stdout",
          "output_type": "stream",
          "text": [
            "cuda\n"
          ]
        }
      ],
      "source": [
        "device = get_default_device()\n",
        "print(device)"
      ]
    },
    {
      "cell_type": "markdown",
      "id": "a1b80fea-4d34-4db8-a1ed-9ca4e853bbd4",
      "metadata": {
        "id": "a1b80fea-4d34-4db8-a1ed-9ca4e853bbd4"
      },
      "source": [
        "## Model Architecture"
      ]
    },
    {
      "cell_type": "code",
      "execution_count": 9,
      "id": "I8DvH9hZkkig",
      "metadata": {
        "id": "I8DvH9hZkkig"
      },
      "outputs": [],
      "source": [
        "encoders = [\n",
        "    GRU(713, 70, dropout=True, has_padding=True, batch_first=True).to(device),\n",
        "    GRU(74, 200, dropout=True, has_padding=True, batch_first=True).to(device),\n",
        "    GRU(300, 600, dropout=True, has_padding=True, batch_first=True).to(device),\n",
        "]\n",
        "head = MLP(870, 870, 1).to(device)\n",
        "fusion = Concat().to(device)"
      ]
    },
    {
      "cell_type": "markdown",
      "id": "4575e9d5-572c-4810-ba00-030f8ded6f05",
      "metadata": {
        "id": "4575e9d5-572c-4810-ba00-030f8ded6f05"
      },
      "source": [
        "## Training"
      ]
    },
    {
      "cell_type": "code",
      "execution_count": 10,
      "id": "f0b5dfe9-6677-4494-a013-7343ed43b731",
      "metadata": {
        "colab": {
          "base_uri": "https://localhost:8080/"
        },
        "id": "f0b5dfe9-6677-4494-a013-7343ed43b731",
        "outputId": "cca9bf53-bd59-4100-dc5b-4c8cb679fa22"
      },
      "outputs": [
        {
          "name": "stdout",
          "output_type": "stream",
          "text": [
            "Epoch [1/100]\n",
            "Train Loss: 0.7079\n",
            "Valid Loss: 0.6052\n",
            "Saving Best\n",
            "\n",
            "Epoch [2/100]\n",
            "Train Loss: 0.6298\n",
            "Valid Loss: 0.5885\n",
            "Saving Best\n",
            "\n",
            "Epoch [3/100]\n",
            "Train Loss: 0.5971\n",
            "Valid Loss: 0.5891\n",
            "\n",
            "Epoch [4/100]\n",
            "Train Loss: 0.5612\n",
            "Valid Loss: 0.5751\n",
            "Saving Best\n",
            "\n",
            "Epoch [5/100]\n",
            "Train Loss: 0.5227\n",
            "Valid Loss: 0.5831\n",
            "\n",
            "Epoch [6/100]\n",
            "Train Loss: 0.4827\n",
            "Valid Loss: 0.5932\n",
            "\n",
            "Epoch [7/100]\n",
            "Train Loss: 0.4391\n",
            "Valid Loss: 0.5956\n",
            "\n",
            "Epoch [8/100]\n",
            "Train Loss: 0.3940\n",
            "Valid Loss: 0.6186\n",
            "\n",
            "Epoch [9/100]\n",
            "Train Loss: 0.3548\n",
            "Valid Loss: 0.6121\n",
            "\n",
            "Epoch [10/100]\n",
            "Train Loss: 0.3207\n",
            "Valid Loss: 0.6166\n",
            "\n",
            "Epoch [11/100]\n",
            "Train Loss: 0.2952\n",
            "Valid Loss: 0.6169\n",
            "\n",
            "Epoch [12/100]\n",
            "Train Loss: 0.2718\n",
            "Valid Loss: 0.6137\n",
            "\n",
            "Epoch [13/100]\n",
            "Train Loss: 0.2551\n",
            "Valid Loss: 0.6000\n",
            "\n",
            "Epoch [14/100]\n",
            "Train Loss: 0.2431\n",
            "Valid Loss: 0.6044\n",
            "\n",
            "Epoch [15/100]\n",
            "Train Loss: 0.2337\n",
            "Valid Loss: 0.6213\n",
            "\n",
            "Epoch [16/100]\n",
            "Train Loss: 0.2220\n",
            "Valid Loss: 0.6122\n",
            "\n",
            "Epoch [17/100]\n",
            "Train Loss: 0.2133\n",
            "Valid Loss: 0.6036\n",
            "\n",
            "Epoch [18/100]\n",
            "Train Loss: 0.2072\n",
            "Valid Loss: 0.6197\n",
            "\n",
            "Epoch [19/100]\n",
            "Train Loss: 0.2019\n",
            "Valid Loss: 0.6091\n",
            "\n",
            "Epoch [20/100]\n",
            "Train Loss: 0.1934\n",
            "Valid Loss: 0.6166\n",
            "\n",
            "Epoch [21/100]\n",
            "Train Loss: 0.1905\n",
            "Valid Loss: 0.6183\n",
            "\n",
            "Epoch [22/100]\n",
            "Train Loss: 0.1854\n",
            "Valid Loss: 0.5975\n",
            "\n",
            "Epoch [23/100]\n",
            "Train Loss: 0.1812\n",
            "Valid Loss: 0.6123\n",
            "\n",
            "Epoch [24/100]\n",
            "Train Loss: 0.1748\n",
            "Valid Loss: 0.6022\n",
            "\n",
            "Epoch [25/100]\n",
            "Train Loss: 0.1727\n",
            "Valid Loss: 0.6049\n",
            "\n",
            "Epoch [26/100]\n",
            "Train Loss: 0.1704\n",
            "Valid Loss: 0.6048\n",
            "\n",
            "Epoch [27/100]\n",
            "Train Loss: 0.1674\n",
            "Valid Loss: 0.6098\n",
            "\n",
            "Epoch [28/100]\n",
            "Train Loss: 0.1646\n",
            "Valid Loss: 0.6047\n",
            "\n",
            "Epoch [29/100]\n",
            "Train Loss: 0.1624\n",
            "Valid Loss: 0.6000\n",
            "\n",
            "Epoch [30/100]\n",
            "Train Loss: 0.1606\n",
            "Valid Loss: 0.5974\n",
            "\n",
            "Epoch [31/100]\n",
            "Train Loss: 0.1562\n",
            "Valid Loss: 0.6075\n",
            "\n",
            "Epoch [32/100]\n",
            "Train Loss: 0.1542\n",
            "Valid Loss: 0.6014\n",
            "\n",
            "Epoch [33/100]\n",
            "Train Loss: 0.1513\n",
            "Valid Loss: 0.6056\n",
            "\n",
            "Epoch [34/100]\n",
            "Train Loss: 0.1480\n",
            "Valid Loss: 0.6037\n",
            "\n",
            "Epoch [35/100]\n",
            "Train Loss: 0.1472\n",
            "Valid Loss: 0.6093\n",
            "\n",
            "Epoch [36/100]\n",
            "Train Loss: 0.1459\n",
            "Valid Loss: 0.5990\n",
            "\n",
            "Epoch [37/100]\n",
            "Train Loss: 0.1452\n",
            "Valid Loss: 0.6009\n",
            "\n",
            "Epoch [38/100]\n",
            "Train Loss: 0.1409\n",
            "Valid Loss: 0.6035\n",
            "\n",
            "Epoch [39/100]\n",
            "Train Loss: 0.1421\n",
            "Valid Loss: 0.6049\n",
            "\n",
            "Epoch [40/100]\n",
            "Train Loss: 0.1386\n",
            "Valid Loss: 0.6073\n",
            "\n",
            "Epoch [41/100]\n",
            "Train Loss: 0.1367\n",
            "Valid Loss: 0.6113\n",
            "\n",
            "Epoch [42/100]\n",
            "Train Loss: 0.1348\n",
            "Valid Loss: 0.6065\n",
            "\n",
            "Epoch [43/100]\n",
            "Train Loss: 0.1358\n",
            "Valid Loss: 0.6031\n",
            "\n",
            "Epoch [44/100]\n",
            "Train Loss: 0.1334\n",
            "Valid Loss: 0.5982\n",
            "\n",
            "Epoch [45/100]\n",
            "Train Loss: 0.1314\n",
            "Valid Loss: 0.6108\n",
            "\n",
            "Epoch [46/100]\n",
            "Train Loss: 0.1301\n",
            "Valid Loss: 0.6002\n",
            "\n",
            "Epoch [47/100]\n",
            "Train Loss: 0.1290\n",
            "Valid Loss: 0.6012\n",
            "\n",
            "Epoch [48/100]\n",
            "Train Loss: 0.1289\n",
            "Valid Loss: 0.5946\n",
            "\n",
            "Epoch [49/100]\n",
            "Train Loss: 0.1276\n",
            "Valid Loss: 0.5961\n",
            "\n",
            "Epoch [50/100]\n",
            "Train Loss: 0.1255\n",
            "Valid Loss: 0.6031\n",
            "\n",
            "Epoch [51/100]\n",
            "Train Loss: 0.1260\n",
            "Valid Loss: 0.5975\n",
            "\n",
            "Epoch [52/100]\n",
            "Train Loss: 0.1246\n",
            "Valid Loss: 0.5950\n",
            "\n",
            "Epoch [53/100]\n",
            "Train Loss: 0.1223\n",
            "Valid Loss: 0.5945\n",
            "\n",
            "Epoch [54/100]\n",
            "Train Loss: 0.1211\n",
            "Valid Loss: 0.6045\n",
            "\n",
            "Epoch [55/100]\n",
            "Train Loss: 0.1202\n",
            "Valid Loss: 0.6033\n",
            "\n",
            "Epoch [56/100]\n",
            "Train Loss: 0.1201\n",
            "Valid Loss: 0.6031\n",
            "\n",
            "Epoch [57/100]\n",
            "Train Loss: 0.1176\n",
            "Valid Loss: 0.6004\n",
            "\n",
            "Epoch [58/100]\n",
            "Train Loss: 0.1177\n",
            "Valid Loss: 0.6061\n",
            "\n",
            "Epoch [59/100]\n",
            "Train Loss: 0.1167\n",
            "Valid Loss: 0.5989\n",
            "\n",
            "Epoch [60/100]\n",
            "Train Loss: 0.1164\n",
            "Valid Loss: 0.6000\n",
            "\n",
            "Epoch [61/100]\n",
            "Train Loss: 0.1152\n",
            "Valid Loss: 0.6035\n",
            "\n",
            "Epoch [62/100]\n",
            "Train Loss: 0.1142\n",
            "Valid Loss: 0.6010\n",
            "\n",
            "Epoch [63/100]\n",
            "Train Loss: 0.1131\n",
            "Valid Loss: 0.5991\n",
            "\n",
            "Epoch [64/100]\n",
            "Train Loss: 0.1134\n",
            "Valid Loss: 0.6036\n",
            "\n",
            "Epoch [65/100]\n",
            "Train Loss: 0.1120\n",
            "Valid Loss: 0.6037\n",
            "\n",
            "Epoch [66/100]\n",
            "Train Loss: 0.1130\n",
            "Valid Loss: 0.5994\n",
            "\n",
            "Epoch [67/100]\n",
            "Train Loss: 0.1110\n",
            "Valid Loss: 0.6052\n",
            "\n",
            "Epoch [68/100]\n",
            "Train Loss: 0.1104\n",
            "Valid Loss: 0.6009\n",
            "\n",
            "Epoch [69/100]\n",
            "Train Loss: 0.1099\n",
            "Valid Loss: 0.5949\n",
            "\n",
            "Epoch [70/100]\n",
            "Train Loss: 0.1083\n",
            "Valid Loss: 0.6034\n",
            "\n",
            "Epoch [71/100]\n",
            "Train Loss: 0.1096\n",
            "Valid Loss: 0.6035\n",
            "\n",
            "Epoch [72/100]\n",
            "Train Loss: 0.1091\n",
            "Valid Loss: 0.5991\n",
            "\n",
            "Epoch [73/100]\n",
            "Train Loss: 0.1074\n",
            "Valid Loss: 0.5977\n",
            "\n",
            "Epoch [74/100]\n",
            "Train Loss: 0.1079\n",
            "Valid Loss: 0.6028\n",
            "\n",
            "Epoch [75/100]\n",
            "Train Loss: 0.1074\n",
            "Valid Loss: 0.6007\n",
            "\n",
            "Epoch [76/100]\n",
            "Train Loss: 0.1061\n",
            "Valid Loss: 0.6141\n",
            "\n",
            "Epoch [77/100]\n",
            "Train Loss: 0.1069\n",
            "Valid Loss: 0.6003\n",
            "\n",
            "Epoch [78/100]\n",
            "Train Loss: 0.1058\n",
            "Valid Loss: 0.6062\n",
            "\n",
            "Epoch [79/100]\n",
            "Train Loss: 0.1048\n",
            "Valid Loss: 0.5927\n",
            "\n",
            "Epoch [80/100]\n",
            "Train Loss: 0.1046\n",
            "Valid Loss: 0.6037\n",
            "\n",
            "Epoch [81/100]\n",
            "Train Loss: 0.1037\n",
            "Valid Loss: 0.6021\n",
            "\n",
            "Epoch [82/100]\n",
            "Train Loss: 0.1038\n",
            "Valid Loss: 0.6047\n",
            "\n",
            "Epoch [83/100]\n",
            "Train Loss: 0.1049\n",
            "Valid Loss: 0.5973\n",
            "\n",
            "Epoch [84/100]\n",
            "Train Loss: 0.1028\n",
            "Valid Loss: 0.5969\n",
            "\n",
            "Epoch [85/100]\n",
            "Train Loss: 0.1034\n",
            "Valid Loss: 0.6004\n",
            "\n",
            "Epoch [86/100]\n",
            "Train Loss: 0.1017\n",
            "Valid Loss: 0.6023\n",
            "\n",
            "Epoch [87/100]\n",
            "Train Loss: 0.1007\n",
            "Valid Loss: 0.5939\n",
            "\n",
            "Epoch [88/100]\n",
            "Train Loss: 0.1007\n",
            "Valid Loss: 0.5960\n",
            "\n",
            "Epoch [89/100]\n",
            "Train Loss: 0.1000\n",
            "Valid Loss: 0.5910\n",
            "\n",
            "Epoch [90/100]\n",
            "Train Loss: 0.0995\n",
            "Valid Loss: 0.5987\n",
            "\n",
            "Epoch [91/100]\n",
            "Train Loss: 0.1004\n",
            "Valid Loss: 0.5975\n",
            "\n",
            "Epoch [92/100]\n",
            "Train Loss: 0.0997\n",
            "Valid Loss: 0.5994\n",
            "\n",
            "Epoch [93/100]\n",
            "Train Loss: 0.0998\n",
            "Valid Loss: 0.6008\n",
            "\n",
            "Epoch [94/100]\n",
            "Train Loss: 0.0984\n",
            "Valid Loss: 0.5957\n",
            "\n",
            "Epoch [95/100]\n",
            "Train Loss: 0.0966\n",
            "Valid Loss: 0.5968\n",
            "\n",
            "Epoch [96/100]\n",
            "Train Loss: 0.0963\n",
            "Valid Loss: 0.5964\n",
            "\n",
            "Epoch [97/100]\n",
            "Train Loss: 0.0978\n",
            "Valid Loss: 0.5981\n",
            "\n",
            "Epoch [98/100]\n",
            "Train Loss: 0.0968\n",
            "Valid Loss: 0.5998\n",
            "\n",
            "Epoch [99/100]\n",
            "Train Loss: 0.0982\n",
            "Valid Loss: 0.5993\n",
            "\n",
            "Epoch [100/100]\n",
            "Train Loss: 0.0970\n",
            "Valid Loss: 0.6013\n",
            "\n",
            "Training Time: 46m52s\n",
            "Training Peak Mem: 10959.30859375\n",
            "Training Params: 2712691\n"
          ]
        }
      ],
      "source": [
        "OUTPUT_MODEL_FILE_NAME = 'MOSEI_Late_Fusion'\n",
        "train_losses, valid_losses = train(\n",
        "    encoders,\n",
        "    fusion,\n",
        "    head,\n",
        "    train_data,\n",
        "    valid_data,\n",
        "    100,\n",
        "    task=\"regression\",\n",
        "    optimtype=torch.optim.AdamW,\n",
        "    early_stop=False,\n",
        "    is_packed=True,\n",
        "    lr=1e-3,\n",
        "    save=f\"/content/{OUTPUT_MODEL_FILE_NAME}.pt\",\n",
        "    weight_decay=0.01,\n",
        "    objective=torch.nn.L1Loss(),\n",
        ")\n"
      ]
    },
    {
      "cell_type": "code",
      "execution_count": 11,
      "id": "b0e7c33a-a68d-4292-a2b2-14e8a2e53500",
      "metadata": {
        "colab": {
          "base_uri": "https://localhost:8080/",
          "height": 490
        },
        "id": "b0e7c33a-a68d-4292-a2b2-14e8a2e53500",
        "outputId": "95c1572e-3c96-4227-fc58-9167c37dbfb9"
      },
      "outputs": [
        {
          "data": {
            "text/plain": [
              "Text(0.5, 1.0, 'Loss vs. No. of epochs')"
            ]
          },
          "execution_count": 11,
          "metadata": {},
          "output_type": "execute_result"
        },
        {
          "data": {
            "image/png": "[encoded data removed]",
            "text/plain": [
              "<Figure size 640x480 with 1 Axes>"
            ]
          },
          "metadata": {},
          "output_type": "display_data"
        }
      ],
      "source": [
        "plt.plot(train_losses, label='Train Loss')\n",
        "plt.plot(valid_losses, label='Validation Loss')\n",
        "plt.xlabel('Epochs')\n",
        "plt.ylabel('Loss')\n",
        "plt.legend()\n",
        "plt.grid(True)\n",
        "plt.title('Loss vs. No. of epochs')"
      ]
    },
    {
      "cell_type": "code",
      "execution_count": 12,
      "id": "8bbd60df-8764-4fcd-a545-90860e5f8a2c",
      "metadata": {
        "id": "8bbd60df-8764-4fcd-a545-90860e5f8a2c"
      },
      "outputs": [],
      "source": [
        "save_results(train_losses, valid_losses, f\"/content/{OUTPUT_MODEL_FILE_NAME}.pkl\")"
      ]
    },
    {
      "cell_type": "markdown",
      "id": "a2a0ca4a-2c05-4ba2-a6aa-1db0e341598b",
      "metadata": {
        "id": "a2a0ca4a-2c05-4ba2-a6aa-1db0e341598b"
      },
      "source": [
        "## Testing"
      ]
    },
    {
      "cell_type": "code",
      "execution_count": 13,
      "id": "d4352442-0d78-4195-bd04-2332af36a7f7",
      "metadata": {
        "colab": {
          "base_uri": "https://localhost:8080/"
        },
        "id": "d4352442-0d78-4195-bd04-2332af36a7f7",
        "outputId": "ee1ce386-d3a8-437a-e98d-f518f5e69020"
      },
      "outputs": [
        {
          "name": "stderr",
          "output_type": "stream",
          "text": [
            "<ipython-input-13-6e4fea1da98f>:1: FutureWarning: You are using `torch.load` with `weights_only=False` (the current default value), which uses the default pickle module implicitly. It is possible to construct malicious pickle data which will execute arbitrary code during unpickling (See https://github.com/pytorch/pytorch/blob/main/SECURITY.md#untrusted-models for more details). In a future release, the default value for `weights_only` will be flipped to `True`. This limits the functions that could be executed during unpickling. Arbitrary objects will no longer be allowed to be loaded via this mode unless they are explicitly allowlisted by the user via `torch.serialization.add_safe_globals`. We recommend you start setting `weights_only=True` for any use case where you don't have full control of the loaded file. Please open an issue on GitHub for any issues related to this experimental feature.\n",
            "  model = torch.load(f\"/content/{OUTPUT_MODEL_FILE_NAME}.pt\").to(device)\n"
          ]
        },
        {
          "name": "stdout",
          "output_type": "stream",
          "text": [
            "Recall: 80.7534% | Total Accuracy: 71.6002%\n",
            "Inference Time: 2s310ms\n",
            "Inference Params: 2712691\n"
          ]
        }
      ],
      "source": [
        "model = torch.load(f\"/content/{OUTPUT_MODEL_FILE_NAME}.pt\").to(device)\n",
        "test(\n",
        "    model,\n",
        "    test_dataloaders_all=test_data,\n",
        "    is_packed=True,\n",
        "    criterion=torch.nn.L1Loss(),\n",
        "    task=\"posneg-classification\"\n",
        ")\n"
      ]
    }
  ],
  "metadata": {
    "accelerator": "GPU",
    "colab": {
      "gpuType": "T4",
      "machine_shape": "hm",
      "provenance": []
    },
    "kernelspec": {
      "display_name": "Python 3",
      "name": "python3"
    },
    "language_info": {
      "codemirror_mode": {
        "name": "ipython",
        "version": 3
      },
      "file_extension": ".py",
      "mimetype": "text/x-python",
      "name": "python",
      "nbconvert_exporter": "python",
      "pygments_lexer": "ipython3",
      "version": "3.11.7"
    }
  },
  "nbformat": 4,
  "nbformat_minor": 5
}
