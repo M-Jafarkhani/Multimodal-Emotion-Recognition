{
  "cells": [
    {
      "cell_type": "markdown",
      "id": "067cb8f5-a1c8-40d0-8524-0b28f8e4b586",
      "metadata": {
        "id": "067cb8f5-a1c8-40d0-8524-0b28f8e4b586"
      },
      "source": [
        "# Low Rank Tensor Fusion Model - CMU-MOSI Dataset"
      ]
    },
    {
      "cell_type": "code",
      "execution_count": null,
      "id": "tE2TxpIlgu2J",
      "metadata": {
        "colab": {
          "base_uri": "https://localhost:8080/"
        },
        "id": "tE2TxpIlgu2J",
        "outputId": "d44e2350-583e-4ef1-c737-367b1effc077"
      },
      "outputs": [],
      "source": [
        "!git clone https://github.com/M-Jafarkhani/Multimodal-Emotion-Recognition"
      ]
    },
    {
      "cell_type": "code",
      "execution_count": 2,
      "id": "aAd_nqvwg559",
      "metadata": {
        "colab": {
          "base_uri": "https://localhost:8080/",
          "height": 125
        },
        "id": "aAd_nqvwg559",
        "outputId": "783824d5-d46d-4fa3-a3bf-1f96df961b6d"
      },
      "outputs": [
        {
          "name": "stderr",
          "output_type": "stream",
          "text": [
            "Downloading...\n",
            "From (original): https://drive.google.com/uc?id=1zFOBHijVppTiyteSsi0aTFYPEsda_AOk\n",
            "From (redirected): https://drive.google.com/uc?id=1zFOBHijVppTiyteSsi0aTFYPEsda_AOk&confirm=t&uuid=b5bfb988-2187-42e0-bf19-9f1440386197\n",
            "To: /content/mosei_raw.pkl\n",
            "100%|██████████| 9.94G/9.94G [02:14<00:00, 74.2MB/s]\n"
          ]
        },
        {
          "data": {
            "application/vnd.google.colaboratory.intrinsic+json": {
              "type": "string"
            },
            "text/plain": [
              "'mosei_raw.pkl'"
            ]
          },
          "execution_count": 2,
          "metadata": {},
          "output_type": "execute_result"
        }
      ],
      "source": [
        "import gdown\n",
        "\n",
        "file_id = \"1zFOBHijVppTiyteSsi0aTFYPEsda_AOk\"\n",
        "destination = \"mosei_raw.pkl\"\n",
        "\n",
        "gdown.download(\n",
        "    f\"https://drive.google.com/uc?id={file_id}\", destination, quiet=False)"
      ]
    },
    {
      "cell_type": "markdown",
      "id": "fc015c8e-f315-40d9-823c-6fc3626a4510",
      "metadata": {
        "id": "fc015c8e-f315-40d9-823c-6fc3626a4510"
      },
      "source": [
        "## Importing Libraries"
      ]
    },
    {
      "cell_type": "code",
      "execution_count": 3,
      "id": "d4a4adae-a451-493d-9ddb-0efb28537923",
      "metadata": {
        "id": "d4a4adae-a451-493d-9ddb-0efb28537923"
      },
      "outputs": [],
      "source": [
        "import sys\n",
        "import torch\n",
        "import matplotlib.pyplot as plt\n",
        "\n",
        "sys.path.append('/content/Multimodal-Emotion-Recognition/src')"
      ]
    },
    {
      "cell_type": "markdown",
      "id": "52a35966-1fba-4107-a1fc-1137f26224bf",
      "metadata": {
        "id": "52a35966-1fba-4107-a1fc-1137f26224bf"
      },
      "source": [
        "## Importing Helper Functions"
      ]
    },
    {
      "cell_type": "code",
      "execution_count": 4,
      "id": "b8d45f84-62c1-4315-9010-45d345dda90d",
      "metadata": {
        "id": "b8d45f84-62c1-4315-9010-45d345dda90d"
      },
      "outputs": [],
      "source": [
        "from loader import get_dataloader\n",
        "from unimodals.modules import GRUWithLinear, MLP\n",
        "from fusions.modules import LowRankTensorFusion\n",
        "from training.supervised import train, test\n",
        "from utils import get_default_device, save_results"
      ]
    },
    {
      "cell_type": "markdown",
      "id": "8dc9b148-2e2f-4cfa-a7d4-d53b639f5b18",
      "metadata": {
        "id": "8dc9b148-2e2f-4cfa-a7d4-d53b639f5b18"
      },
      "source": [
        "## Loading the Dataset"
      ]
    },
    {
      "cell_type": "code",
      "execution_count": 5,
      "id": "7f193c63-0bfb-4248-a2a8-e81ca20a7c14",
      "metadata": {
        "id": "7f193c63-0bfb-4248-a2a8-e81ca20a7c14"
      },
      "outputs": [],
      "source": [
        "train_data, valid_data, test_data = get_dataloader('/content/mosei_raw.pkl')"
      ]
    },
    {
      "cell_type": "code",
      "execution_count": 6,
      "id": "75b021aa-09ec-4739-92d3-028a0ed54287",
      "metadata": {
        "colab": {
          "base_uri": "https://localhost:8080/"
        },
        "id": "75b021aa-09ec-4739-92d3-028a0ed54287",
        "outputId": "84c20bdd-026c-410f-caa4-670058494eef"
      },
      "outputs": [
        {
          "name": "stdout",
          "output_type": "stream",
          "text": [
            "cuda\n"
          ]
        }
      ],
      "source": [
        "device = get_default_device()\n",
        "print(device)"
      ]
    },
    {
      "cell_type": "markdown",
      "id": "a1b80fea-4d34-4db8-a1ed-9ca4e853bbd4",
      "metadata": {
        "id": "a1b80fea-4d34-4db8-a1ed-9ca4e853bbd4"
      },
      "source": [
        "## Model Architecture"
      ]
    },
    {
      "cell_type": "code",
      "execution_count": 7,
      "id": "59286eb3-949a-4afb-b4f4-0b115b885f92",
      "metadata": {
        "colab": {
          "base_uri": "https://localhost:8080/"
        },
        "id": "59286eb3-949a-4afb-b4f4-0b115b885f92",
        "outputId": "112d8571-6a2b-40ee-ee3f-d07f0e6f64db"
      },
      "outputs": [
        {
          "name": "stderr",
          "output_type": "stream",
          "text": [
            "/content/Multimodal-Emotion-Recognition/src/fusions/modules.py:124: FutureWarning: `nn.init.xavier_normal` is now deprecated in favor of `nn.init.xavier_normal_`.\n",
            "  nn.init.xavier_normal(factor)\n",
            "/content/Multimodal-Emotion-Recognition/src/fusions/modules.py:134: FutureWarning: `nn.init.xavier_normal` is now deprecated in favor of `nn.init.xavier_normal_`.\n",
            "  nn.init.xavier_normal(self.fusion_weights)\n"
          ]
        }
      ],
      "source": [
        "encoders = [\n",
        "    GRUWithLinear(713, 64, 32, dropout=True, has_padding=True).to(device),\n",
        "    GRUWithLinear(74, 128, 32, dropout=True, has_padding=True).to(device),\n",
        "    GRUWithLinear(300, 512, 128, dropout=True, has_padding=True).to(device)\n",
        "]\n",
        "\n",
        "head = MLP(128, 512, 1).to(device)\n",
        "\n",
        "fusion = LowRankTensorFusion([32, 32, 128], 128, 32).to(device)"
      ]
    },
    {
      "cell_type": "markdown",
      "id": "4575e9d5-572c-4810-ba00-030f8ded6f05",
      "metadata": {
        "id": "4575e9d5-572c-4810-ba00-030f8ded6f05"
      },
      "source": [
        "## Training"
      ]
    },
    {
      "cell_type": "code",
      "execution_count": 8,
      "id": "f0b5dfe9-6677-4494-a013-7343ed43b731",
      "metadata": {
        "colab": {
          "base_uri": "https://localhost:8080/"
        },
        "id": "f0b5dfe9-6677-4494-a013-7343ed43b731",
        "outputId": "f13eaa71-bd6f-48e9-ad3a-a60563bfcee3"
      },
      "outputs": [
        {
          "name": "stdout",
          "output_type": "stream",
          "text": [
            "Epoch [1/100]\n",
            "Train Loss: 0.7629\n",
            "Valid Loss: 0.6507\n",
            "Saving Best\n",
            "\n",
            "Epoch [2/100]\n",
            "Train Loss: 0.6468\n",
            "Valid Loss: 0.6157\n",
            "Saving Best\n",
            "\n",
            "Epoch [3/100]\n",
            "Train Loss: 0.6102\n",
            "Valid Loss: 0.5903\n",
            "Saving Best\n",
            "\n",
            "Epoch [4/100]\n",
            "Train Loss: 0.5785\n",
            "Valid Loss: 0.5927\n",
            "\n",
            "Epoch [5/100]\n",
            "Train Loss: 0.5443\n",
            "Valid Loss: 0.5933\n",
            "\n",
            "Epoch [6/100]\n",
            "Train Loss: 0.5054\n",
            "Valid Loss: 0.5921\n",
            "\n",
            "Epoch [7/100]\n",
            "Train Loss: 0.4656\n",
            "Valid Loss: 0.6544\n",
            "\n",
            "Epoch [8/100]\n",
            "Train Loss: 0.4208\n",
            "Valid Loss: 0.6161\n",
            "\n",
            "Epoch [9/100]\n",
            "Train Loss: 0.3870\n",
            "Valid Loss: 0.6197\n",
            "\n",
            "Epoch [10/100]\n",
            "Train Loss: 0.3441\n",
            "Valid Loss: 0.6007\n",
            "\n",
            "Epoch [11/100]\n",
            "Train Loss: 0.3171\n",
            "Valid Loss: 0.6143\n",
            "\n",
            "Epoch [12/100]\n",
            "Train Loss: 0.2887\n",
            "Valid Loss: 0.6107\n",
            "\n",
            "Epoch [13/100]\n",
            "Train Loss: 0.2650\n",
            "Valid Loss: 0.6095\n",
            "\n",
            "Epoch [14/100]\n",
            "Train Loss: 0.2462\n",
            "Valid Loss: 0.6257\n",
            "\n",
            "Epoch [15/100]\n",
            "Train Loss: 0.2317\n",
            "Valid Loss: 0.6306\n",
            "\n",
            "Epoch [16/100]\n",
            "Train Loss: 0.2164\n",
            "Valid Loss: 0.6137\n",
            "\n",
            "Epoch [17/100]\n",
            "Train Loss: 0.2119\n",
            "Valid Loss: 0.6209\n",
            "\n",
            "Epoch [18/100]\n",
            "Train Loss: 0.1980\n",
            "Valid Loss: 0.6242\n",
            "\n",
            "Epoch [19/100]\n",
            "Train Loss: 0.1919\n",
            "Valid Loss: 0.6097\n",
            "\n",
            "Epoch [20/100]\n",
            "Train Loss: 0.1838\n",
            "Valid Loss: 0.6143\n",
            "\n",
            "Epoch [21/100]\n",
            "Train Loss: 0.1795\n",
            "Valid Loss: 0.6233\n",
            "\n",
            "Epoch [22/100]\n",
            "Train Loss: 0.1721\n",
            "Valid Loss: 0.6187\n",
            "\n",
            "Epoch [23/100]\n",
            "Train Loss: 0.1693\n",
            "Valid Loss: 0.6132\n",
            "\n",
            "Epoch [24/100]\n",
            "Train Loss: 0.1623\n",
            "Valid Loss: 0.6215\n",
            "\n",
            "Epoch [25/100]\n",
            "Train Loss: 0.1583\n",
            "Valid Loss: 0.6113\n",
            "\n",
            "Epoch [26/100]\n",
            "Train Loss: 0.1543\n",
            "Valid Loss: 0.6118\n",
            "\n",
            "Epoch [27/100]\n",
            "Train Loss: 0.1533\n",
            "Valid Loss: 0.6109\n",
            "\n",
            "Epoch [28/100]\n",
            "Train Loss: 0.1490\n",
            "Valid Loss: 0.6147\n",
            "\n",
            "Epoch [29/100]\n",
            "Train Loss: 0.1463\n",
            "Valid Loss: 0.6162\n",
            "\n",
            "Epoch [30/100]\n",
            "Train Loss: 0.1451\n",
            "Valid Loss: 0.6150\n",
            "\n",
            "Epoch [31/100]\n",
            "Train Loss: 0.1403\n",
            "Valid Loss: 0.6132\n",
            "\n",
            "Epoch [32/100]\n",
            "Train Loss: 0.1355\n",
            "Valid Loss: 0.6126\n",
            "\n",
            "Epoch [33/100]\n",
            "Train Loss: 0.1363\n",
            "Valid Loss: 0.6179\n",
            "\n",
            "Epoch [34/100]\n",
            "Train Loss: 0.1320\n",
            "Valid Loss: 0.6109\n",
            "\n",
            "Epoch [35/100]\n",
            "Train Loss: 0.1302\n",
            "Valid Loss: 0.6121\n",
            "\n",
            "Epoch [36/100]\n",
            "Train Loss: 0.1280\n",
            "Valid Loss: 0.6097\n",
            "\n",
            "Epoch [37/100]\n",
            "Train Loss: 0.1282\n",
            "Valid Loss: 0.6109\n",
            "\n",
            "Epoch [38/100]\n",
            "Train Loss: 0.1247\n",
            "Valid Loss: 0.6117\n",
            "\n",
            "Epoch [39/100]\n",
            "Train Loss: 0.1244\n",
            "Valid Loss: 0.6184\n",
            "\n",
            "Epoch [40/100]\n",
            "Train Loss: 0.1229\n",
            "Valid Loss: 0.6159\n",
            "\n",
            "Epoch [41/100]\n",
            "Train Loss: 0.1205\n",
            "Valid Loss: 0.6166\n",
            "\n",
            "Epoch [42/100]\n",
            "Train Loss: 0.1192\n",
            "Valid Loss: 0.6080\n",
            "\n",
            "Epoch [43/100]\n",
            "Train Loss: 0.1163\n",
            "Valid Loss: 0.6094\n",
            "\n",
            "Epoch [44/100]\n",
            "Train Loss: 0.1169\n",
            "Valid Loss: 0.6056\n",
            "\n",
            "Epoch [45/100]\n",
            "Train Loss: 0.1141\n",
            "Valid Loss: 0.6141\n",
            "\n",
            "Epoch [46/100]\n",
            "Train Loss: 0.1137\n",
            "Valid Loss: 0.6099\n",
            "\n",
            "Epoch [47/100]\n",
            "Train Loss: 0.1106\n",
            "Valid Loss: 0.6082\n",
            "\n",
            "Epoch [48/100]\n",
            "Train Loss: 0.1107\n",
            "Valid Loss: 0.6098\n",
            "\n",
            "Epoch [49/100]\n",
            "Train Loss: 0.1090\n",
            "Valid Loss: 0.6104\n",
            "\n",
            "Epoch [50/100]\n",
            "Train Loss: 0.1077\n",
            "Valid Loss: 0.6156\n",
            "\n",
            "Epoch [51/100]\n",
            "Train Loss: 0.1064\n",
            "Valid Loss: 0.6222\n",
            "\n",
            "Epoch [52/100]\n",
            "Train Loss: 0.1053\n",
            "Valid Loss: 0.6079\n",
            "\n",
            "Epoch [53/100]\n",
            "Train Loss: 0.1035\n",
            "Valid Loss: 0.6079\n",
            "\n",
            "Epoch [54/100]\n",
            "Train Loss: 0.1038\n",
            "Valid Loss: 0.6099\n",
            "\n",
            "Epoch [55/100]\n",
            "Train Loss: 0.1028\n",
            "Valid Loss: 0.6184\n",
            "\n",
            "Epoch [56/100]\n",
            "Train Loss: 0.1016\n",
            "Valid Loss: 0.6066\n",
            "\n",
            "Epoch [57/100]\n",
            "Train Loss: 0.1007\n",
            "Valid Loss: 0.6074\n",
            "\n",
            "Epoch [58/100]\n",
            "Train Loss: 0.1013\n",
            "Valid Loss: 0.6045\n",
            "\n",
            "Epoch [59/100]\n",
            "Train Loss: 0.0967\n",
            "Valid Loss: 0.6085\n",
            "\n",
            "Epoch [60/100]\n",
            "Train Loss: 0.0980\n",
            "Valid Loss: 0.6187\n",
            "\n",
            "Epoch [61/100]\n",
            "Train Loss: 0.0984\n",
            "Valid Loss: 0.6039\n",
            "\n",
            "Epoch [62/100]\n",
            "Train Loss: 0.0955\n",
            "Valid Loss: 0.6128\n",
            "\n",
            "Epoch [63/100]\n",
            "Train Loss: 0.0963\n",
            "Valid Loss: 0.6045\n",
            "\n",
            "Epoch [64/100]\n",
            "Train Loss: 0.0951\n",
            "Valid Loss: 0.6136\n",
            "\n",
            "Epoch [65/100]\n",
            "Train Loss: 0.0949\n",
            "Valid Loss: 0.6038\n",
            "\n",
            "Epoch [66/100]\n",
            "Train Loss: 0.0932\n",
            "Valid Loss: 0.6105\n",
            "\n",
            "Epoch [67/100]\n",
            "Train Loss: 0.0949\n",
            "Valid Loss: 0.6005\n",
            "\n",
            "Epoch [68/100]\n",
            "Train Loss: 0.0911\n",
            "Valid Loss: 0.6080\n",
            "\n",
            "Epoch [69/100]\n",
            "Train Loss: 0.0907\n",
            "Valid Loss: 0.6099\n",
            "\n",
            "Epoch [70/100]\n",
            "Train Loss: 0.0899\n",
            "Valid Loss: 0.6125\n",
            "\n",
            "Epoch [71/100]\n",
            "Train Loss: 0.0905\n",
            "Valid Loss: 0.6140\n",
            "\n",
            "Epoch [72/100]\n",
            "Train Loss: 0.0891\n",
            "Valid Loss: 0.6043\n",
            "\n",
            "Epoch [73/100]\n",
            "Train Loss: 0.0882\n",
            "Valid Loss: 0.6081\n",
            "\n",
            "Epoch [74/100]\n",
            "Train Loss: 0.0891\n",
            "Valid Loss: 0.6126\n",
            "\n",
            "Epoch [75/100]\n",
            "Train Loss: 0.0872\n",
            "Valid Loss: 0.6093\n",
            "\n",
            "Epoch [76/100]\n",
            "Train Loss: 0.0866\n",
            "Valid Loss: 0.6061\n",
            "\n",
            "Epoch [77/100]\n",
            "Train Loss: 0.0855\n",
            "Valid Loss: 0.6161\n",
            "\n",
            "Epoch [78/100]\n",
            "Train Loss: 0.0848\n",
            "Valid Loss: 0.6034\n",
            "\n",
            "Epoch [79/100]\n",
            "Train Loss: 0.0839\n",
            "Valid Loss: 0.6062\n",
            "\n",
            "Epoch [80/100]\n",
            "Train Loss: 0.0841\n",
            "Valid Loss: 0.6155\n",
            "\n",
            "Epoch [81/100]\n",
            "Train Loss: 0.0848\n",
            "Valid Loss: 0.6069\n",
            "\n",
            "Epoch [82/100]\n",
            "Train Loss: 0.0837\n",
            "Valid Loss: 0.6080\n",
            "\n",
            "Epoch [83/100]\n",
            "Train Loss: 0.0825\n",
            "Valid Loss: 0.6103\n",
            "\n",
            "Epoch [84/100]\n",
            "Train Loss: 0.0821\n",
            "Valid Loss: 0.6040\n",
            "\n",
            "Epoch [85/100]\n",
            "Train Loss: 0.0812\n",
            "Valid Loss: 0.6048\n",
            "\n",
            "Epoch [86/100]\n",
            "Train Loss: 0.0811\n",
            "Valid Loss: 0.6124\n",
            "\n",
            "Epoch [87/100]\n",
            "Train Loss: 0.0802\n",
            "Valid Loss: 0.6121\n",
            "\n",
            "Epoch [88/100]\n",
            "Train Loss: 0.0805\n",
            "Valid Loss: 0.6056\n",
            "\n",
            "Epoch [89/100]\n",
            "Train Loss: 0.0803\n",
            "Valid Loss: 0.6072\n",
            "\n",
            "Epoch [90/100]\n",
            "Train Loss: 0.0768\n",
            "Valid Loss: 0.6016\n",
            "\n",
            "Epoch [91/100]\n",
            "Train Loss: 0.0788\n",
            "Valid Loss: 0.6130\n",
            "\n",
            "Epoch [92/100]\n",
            "Train Loss: 0.0773\n",
            "Valid Loss: 0.6124\n",
            "\n",
            "Epoch [93/100]\n",
            "Train Loss: 0.0775\n",
            "Valid Loss: 0.6037\n",
            "\n",
            "Epoch [94/100]\n",
            "Train Loss: 0.0756\n",
            "Valid Loss: 0.6069\n",
            "\n",
            "Epoch [95/100]\n",
            "Train Loss: 0.0761\n",
            "Valid Loss: 0.6086\n",
            "\n",
            "Epoch [96/100]\n",
            "Train Loss: 0.0752\n",
            "Valid Loss: 0.6147\n",
            "\n",
            "Epoch [97/100]\n",
            "Train Loss: 0.0753\n",
            "Valid Loss: 0.6117\n",
            "\n",
            "Epoch [98/100]\n",
            "Train Loss: 0.0737\n",
            "Valid Loss: 0.6085\n",
            "\n",
            "Epoch [99/100]\n",
            "Train Loss: 0.0731\n",
            "Valid Loss: 0.6097\n",
            "\n",
            "Epoch [100/100]\n",
            "Train Loss: 0.0726\n",
            "Valid Loss: 0.6029\n",
            "\n",
            "Training Time: 52m57s\n",
            "Training Params: 1616641\n"
          ]
        }
      ],
      "source": [
        "OUTPUT_MODEL_FILE_NAME = \"MOSEI_Low_Rank_Tensor_Fusion\"\n",
        "train_losses, valid_losses = train(\n",
        "    encoders,\n",
        "    fusion,\n",
        "    head,\n",
        "    train_data,\n",
        "    valid_data,\n",
        "    100,\n",
        "    task=\"regression\",\n",
        "    optimtype=torch.optim.AdamW,\n",
        "    early_stop=False,\n",
        "    is_packed=True,\n",
        "    lr=1e-3,\n",
        "    save=f\"/content/{OUTPUT_MODEL_FILE_NAME}.pt\",\n",
        "    weight_decay=0.01,\n",
        "    objective=torch.nn.L1Loss(),\n",
        ")\n"
      ]
    },
    {
      "cell_type": "code",
      "execution_count": 9,
      "id": "b0e7c33a-a68d-4292-a2b2-14e8a2e53500",
      "metadata": {
        "colab": {
          "base_uri": "https://localhost:8080/",
          "height": 490
        },
        "id": "b0e7c33a-a68d-4292-a2b2-14e8a2e53500",
        "outputId": "d0dbc5ed-e912-407a-ca50-0b234f5df556"
      },
      "outputs": [
        {
          "data": {
            "text/plain": [
              "Text(0.5, 1.0, 'Loss vs. No. of epochs')"
            ]
          },
          "execution_count": 9,
          "metadata": {},
          "output_type": "execute_result"
        },
        {
          "data": {
            "image/png": "[encoded data removed]",
            "text/plain": [
              "<Figure size 640x480 with 1 Axes>"
            ]
          },
          "metadata": {},
          "output_type": "display_data"
        }
      ],
      "source": [
        "plt.plot(train_losses, label='Train Loss')\n",
        "plt.plot(valid_losses, label='Validation Loss')\n",
        "plt.xlabel('Epochs')\n",
        "plt.ylabel('Loss')\n",
        "plt.legend()\n",
        "plt.grid(True)\n",
        "plt.title('Loss vs. No. of epochs')"
      ]
    },
    {
      "cell_type": "code",
      "execution_count": 10,
      "id": "8bbd60df-8764-4fcd-a545-90860e5f8a2c",
      "metadata": {
        "id": "8bbd60df-8764-4fcd-a545-90860e5f8a2c"
      },
      "outputs": [],
      "source": [
        "save_results(train_losses, valid_losses, f'/content/{OUTPUT_MODEL_FILE_NAME}.pkl')"
      ]
    },
    {
      "cell_type": "markdown",
      "id": "a2a0ca4a-2c05-4ba2-a6aa-1db0e341598b",
      "metadata": {
        "id": "a2a0ca4a-2c05-4ba2-a6aa-1db0e341598b"
      },
      "source": [
        "## Testing"
      ]
    },
    {
      "cell_type": "code",
      "execution_count": 11,
      "id": "d4352442-0d78-4195-bd04-2332af36a7f7",
      "metadata": {
        "colab": {
          "base_uri": "https://localhost:8080/"
        },
        "id": "d4352442-0d78-4195-bd04-2332af36a7f7",
        "outputId": "fc0ca977-b240-47c0-c897-1924ff094217"
      },
      "outputs": [
        {
          "name": "stderr",
          "output_type": "stream",
          "text": [
            "<ipython-input-11-ece7b266be51>:1: FutureWarning: You are using `torch.load` with `weights_only=False` (the current default value), which uses the default pickle module implicitly. It is possible to construct malicious pickle data which will execute arbitrary code during unpickling (See https://github.com/pytorch/pytorch/blob/main/SECURITY.md#untrusted-models for more details). In a future release, the default value for `weights_only` will be flipped to `True`. This limits the functions that could be executed during unpickling. Arbitrary objects will no longer be allowed to be loaded via this mode unless they are explicitly allowlisted by the user via `torch.serialization.add_safe_globals`. We recommend you start setting `weights_only=True` for any use case where you don't have full control of the loaded file. Please open an issue on GitHub for any issues related to this experimental feature.\n",
            "  model = torch.load(f\"/content/{OUTPUT_MODEL_FILE_NAME}.pt\").to(device)\n"
          ]
        },
        {
          "name": "stdout",
          "output_type": "stream",
          "text": [
            "Recall: 80.9458% | Total Accuracy: 70.9567%\n",
            "Inference Time: 2s265ms\n",
            "Inference Params: 1616641\n"
          ]
        }
      ],
      "source": [
        "model = torch.load(f\"/content/{OUTPUT_MODEL_FILE_NAME}.pt\").to(device)\n",
        "\n",
        "test(\n",
        "    model,\n",
        "    test_dataloaders_all=test_data,\n",
        "    is_packed=True,\n",
        "    criterion=torch.nn.L1Loss(),\n",
        "    task=\"posneg-classification\"\n",
        ")\n"
      ]
    }
  ],
  "metadata": {
    "accelerator": "GPU",
    "colab": {
      "gpuType": "T4",
      "machine_shape": "hm",
      "provenance": []
    },
    "kernelspec": {
      "display_name": "Python 3",
      "name": "python3"
    },
    "language_info": {
      "codemirror_mode": {
        "name": "ipython",
        "version": 3
      },
      "file_extension": ".py",
      "mimetype": "text/x-python",
      "name": "python",
      "nbconvert_exporter": "python",
      "pygments_lexer": "ipython3",
      "version": "3.11.7"
    }
  },
  "nbformat": 4,
  "nbformat_minor": 5
}
