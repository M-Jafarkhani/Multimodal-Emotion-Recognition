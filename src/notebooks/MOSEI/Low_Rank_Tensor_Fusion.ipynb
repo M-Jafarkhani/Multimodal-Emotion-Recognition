{
  "cells": [
    {
      "cell_type": "markdown",
      "id": "067cb8f5-a1c8-40d0-8524-0b28f8e4b586",
      "metadata": {
        "id": "067cb8f5-a1c8-40d0-8524-0b28f8e4b586"
      },
      "source": [
        "# Low Rank Tensor Fusion Model - CMU-MOSI Dataset"
      ]
    },
    {
      "cell_type": "code",
      "execution_count": 1,
      "id": "tE2TxpIlgu2J",
      "metadata": {
        "colab": {
          "base_uri": "https://localhost:8080/"
        },
        "id": "tE2TxpIlgu2J",
        "outputId": "2a4fa06f-f949-4658-e2f0-aa9d6c7bb603"
      },
      "outputs": [
        {
          "output_type": "stream",
          "name": "stdout",
          "text": [
            "Cloning into 'Multimodal-Sentiment-Analysis'...\n",
            "remote: Enumerating objects: 362, done.\u001b[K\n",
            "remote: Counting objects: 100% (15/15), done.\u001b[K\n",
            "remote: Compressing objects: 100% (15/15), done.\u001b[K\n",
            "remote: Total 362 (delta 0), reused 10 (delta 0), pack-reused 347 (from 1)\u001b[K\n",
            "Receiving objects: 100% (362/362), 285.91 MiB | 41.18 MiB/s, done.\n",
            "Resolving deltas: 100% (184/184), done.\n",
            "Updating files: 100% (68/68), done.\n"
          ]
        }
      ],
      "source": [
        "!git clone https://github.com/M-Jafarkhani/Multimodal-Sentiment-Analysis"
      ]
    },
    {
      "cell_type": "code",
      "execution_count": 2,
      "id": "aAd_nqvwg559",
      "metadata": {
        "colab": {
          "base_uri": "https://localhost:8080/",
          "height": 145
        },
        "id": "aAd_nqvwg559",
        "outputId": "64dc4348-d433-4bfe-ad2b-ea2b8bc36fb1"
      },
      "outputs": [
        {
          "output_type": "stream",
          "name": "stderr",
          "text": [
            "Downloading...\n",
            "From (original): https://drive.google.com/uc?id=1zFOBHijVppTiyteSsi0aTFYPEsda_AOk\n",
            "From (redirected): https://drive.google.com/uc?id=1zFOBHijVppTiyteSsi0aTFYPEsda_AOk&confirm=t&uuid=97d3d871-bf69-40ef-b525-e277e8ac52cc\n",
            "To: /content/mosei_raw.pkl\n",
            "100%|██████████| 9.94G/9.94G [00:57<00:00, 172MB/s]\n"
          ]
        },
        {
          "output_type": "execute_result",
          "data": {
            "text/plain": [
              "'mosei_raw.pkl'"
            ],
            "application/vnd.google.colaboratory.intrinsic+json": {
              "type": "string"
            }
          },
          "metadata": {},
          "execution_count": 2
        }
      ],
      "source": [
        "import gdown\n",
        "\n",
        "file_id = \"1zFOBHijVppTiyteSsi0aTFYPEsda_AOk\"\n",
        "destination = \"mosei_raw.pkl\"\n",
        "\n",
        "gdown.download(\n",
        "    f\"https://drive.google.com/uc?id={file_id}\", destination, quiet=False)"
      ]
    },
    {
      "cell_type": "markdown",
      "id": "fc015c8e-f315-40d9-823c-6fc3626a4510",
      "metadata": {
        "id": "fc015c8e-f315-40d9-823c-6fc3626a4510"
      },
      "source": [
        "## Importing Libraries"
      ]
    },
    {
      "cell_type": "code",
      "execution_count": 3,
      "id": "d4a4adae-a451-493d-9ddb-0efb28537923",
      "metadata": {
        "id": "d4a4adae-a451-493d-9ddb-0efb28537923"
      },
      "outputs": [],
      "source": [
        "import sys\n",
        "import torch\n",
        "import matplotlib.pyplot as plt\n",
        "\n",
        "sys.path.append('/content/Multimodal-Sentiment-Analysis/src')"
      ]
    },
    {
      "cell_type": "markdown",
      "id": "52a35966-1fba-4107-a1fc-1137f26224bf",
      "metadata": {
        "id": "52a35966-1fba-4107-a1fc-1137f26224bf"
      },
      "source": [
        "## Importing Helper Functions"
      ]
    },
    {
      "cell_type": "code",
      "execution_count": 4,
      "id": "b8d45f84-62c1-4315-9010-45d345dda90d",
      "metadata": {
        "id": "b8d45f84-62c1-4315-9010-45d345dda90d"
      },
      "outputs": [],
      "source": [
        "from loader import get_dataloader\n",
        "from unimodals.modules import GRUWithLinear, MLP\n",
        "from fusions.modules import LowRankTensorFusion\n",
        "from training.supervised import train, test\n",
        "from utils import get_default_device, save_results"
      ]
    },
    {
      "cell_type": "markdown",
      "id": "8dc9b148-2e2f-4cfa-a7d4-d53b639f5b18",
      "metadata": {
        "id": "8dc9b148-2e2f-4cfa-a7d4-d53b639f5b18"
      },
      "source": [
        "## Loading the Dataset"
      ]
    },
    {
      "cell_type": "code",
      "execution_count": 5,
      "id": "7f193c63-0bfb-4248-a2a8-e81ca20a7c14",
      "metadata": {
        "id": "7f193c63-0bfb-4248-a2a8-e81ca20a7c14"
      },
      "outputs": [],
      "source": [
        "train_data, valid_data, test_data = get_dataloader('/content/mosei_raw.pkl')"
      ]
    },
    {
      "cell_type": "code",
      "execution_count": 6,
      "id": "75b021aa-09ec-4739-92d3-028a0ed54287",
      "metadata": {
        "colab": {
          "base_uri": "https://localhost:8080/"
        },
        "id": "75b021aa-09ec-4739-92d3-028a0ed54287",
        "outputId": "40eb49e1-6627-4b49-cd7d-99cbc05b92fa"
      },
      "outputs": [
        {
          "output_type": "stream",
          "name": "stdout",
          "text": [
            "cuda\n"
          ]
        }
      ],
      "source": [
        "device = get_default_device()\n",
        "print(device)"
      ]
    },
    {
      "cell_type": "markdown",
      "id": "a1b80fea-4d34-4db8-a1ed-9ca4e853bbd4",
      "metadata": {
        "id": "a1b80fea-4d34-4db8-a1ed-9ca4e853bbd4"
      },
      "source": [
        "## Model Architecture"
      ]
    },
    {
      "cell_type": "code",
      "execution_count": 17,
      "id": "59286eb3-949a-4afb-b4f4-0b115b885f92",
      "metadata": {
        "id": "59286eb3-949a-4afb-b4f4-0b115b885f92"
      },
      "outputs": [],
      "source": [
        "encoders = [\n",
        "    GRUWithLinear(713, 64, 32, dropout=True, has_padding=True).to(device),\n",
        "    GRUWithLinear(74, 128, 32, dropout=True, has_padding=True).to(device),\n",
        "    GRUWithLinear(300, 512, 128, dropout=True, has_padding=True).to(device)\n",
        "]\n",
        "\n",
        "head = MLP(128, 512, 1).to(device)\n",
        "\n",
        "fusion = LowRankTensorFusion([32, 32, 128], 128, 32).to(device)"
      ]
    },
    {
      "cell_type": "markdown",
      "id": "4575e9d5-572c-4810-ba00-030f8ded6f05",
      "metadata": {
        "id": "4575e9d5-572c-4810-ba00-030f8ded6f05"
      },
      "source": [
        "## Training"
      ]
    },
    {
      "cell_type": "code",
      "execution_count": 18,
      "id": "f0b5dfe9-6677-4494-a013-7343ed43b731",
      "metadata": {
        "colab": {
          "base_uri": "https://localhost:8080/"
        },
        "id": "f0b5dfe9-6677-4494-a013-7343ed43b731",
        "outputId": "f9ab874c-a628-4c07-fb32-e6c7ce9c13f4"
      },
      "outputs": [
        {
          "output_type": "stream",
          "name": "stdout",
          "text": [
            "Epoch [1/100]\n",
            "Train Loss: 0.7480\n",
            "Valid Loss: 0.6498\n",
            "Saving Best\n",
            "\n",
            "Epoch [2/100]\n",
            "Train Loss: 0.6460\n",
            "Valid Loss: 0.6184\n",
            "Saving Best\n",
            "\n",
            "Epoch [3/100]\n",
            "Train Loss: 0.6120\n",
            "Valid Loss: 0.6022\n",
            "Saving Best\n",
            "\n",
            "Epoch [4/100]\n",
            "Train Loss: 0.5768\n",
            "Valid Loss: 0.5963\n",
            "Saving Best\n",
            "\n",
            "Epoch [5/100]\n",
            "Train Loss: 0.5442\n",
            "Valid Loss: 0.5944\n",
            "Saving Best\n",
            "\n",
            "Epoch [6/100]\n",
            "Train Loss: 0.5073\n",
            "Valid Loss: 0.6028\n",
            "\n",
            "Epoch [7/100]\n",
            "Train Loss: 0.4656\n",
            "Valid Loss: 0.6008\n",
            "\n",
            "Epoch [8/100]\n",
            "Train Loss: 0.4207\n",
            "Valid Loss: 0.6266\n",
            "\n",
            "Epoch [9/100]\n",
            "Train Loss: 0.3801\n",
            "Valid Loss: 0.6383\n",
            "\n",
            "Epoch [10/100]\n",
            "Train Loss: 0.3465\n",
            "Valid Loss: 0.6218\n",
            "\n",
            "Epoch [11/100]\n",
            "Train Loss: 0.3134\n",
            "Valid Loss: 0.6349\n",
            "\n",
            "Epoch [12/100]\n",
            "Train Loss: 0.2890\n",
            "Valid Loss: 0.6481\n",
            "\n",
            "Epoch [13/100]\n",
            "Train Loss: 0.2643\n",
            "Valid Loss: 0.6263\n",
            "\n",
            "Epoch [14/100]\n",
            "Train Loss: 0.2492\n",
            "Valid Loss: 0.6432\n",
            "\n",
            "Epoch [15/100]\n",
            "Train Loss: 0.2300\n",
            "Valid Loss: 0.6634\n",
            "\n",
            "Epoch [16/100]\n",
            "Train Loss: 0.2178\n",
            "Valid Loss: 0.6314\n",
            "\n",
            "Epoch [17/100]\n",
            "Train Loss: 0.2097\n",
            "Valid Loss: 0.6428\n",
            "\n",
            "Epoch [18/100]\n",
            "Train Loss: 0.1988\n",
            "Valid Loss: 0.6285\n",
            "\n",
            "Epoch [19/100]\n",
            "Train Loss: 0.1907\n",
            "Valid Loss: 0.6213\n",
            "\n",
            "Epoch [20/100]\n",
            "Train Loss: 0.1844\n",
            "Valid Loss: 0.6315\n",
            "\n",
            "Epoch [21/100]\n",
            "Train Loss: 0.1775\n",
            "Valid Loss: 0.6442\n",
            "\n",
            "Epoch [22/100]\n",
            "Train Loss: 0.1720\n",
            "Valid Loss: 0.6248\n",
            "\n",
            "Epoch [23/100]\n",
            "Train Loss: 0.1695\n",
            "Valid Loss: 0.6350\n",
            "\n",
            "Epoch [24/100]\n",
            "Train Loss: 0.1642\n",
            "Valid Loss: 0.6280\n",
            "\n",
            "Epoch [25/100]\n",
            "Train Loss: 0.1601\n",
            "Valid Loss: 0.6310\n",
            "\n",
            "Epoch [26/100]\n",
            "Train Loss: 0.1565\n",
            "Valid Loss: 0.6340\n",
            "\n",
            "Epoch [27/100]\n",
            "Train Loss: 0.1520\n",
            "Valid Loss: 0.6349\n",
            "\n",
            "Epoch [28/100]\n",
            "Train Loss: 0.1525\n",
            "Valid Loss: 0.6247\n",
            "\n",
            "Epoch [29/100]\n",
            "Train Loss: 0.1471\n",
            "Valid Loss: 0.6265\n",
            "\n",
            "Epoch [30/100]\n",
            "Train Loss: 0.1436\n",
            "Valid Loss: 0.6299\n",
            "\n",
            "Epoch [31/100]\n",
            "Train Loss: 0.1409\n",
            "Valid Loss: 0.6275\n",
            "\n",
            "Epoch [32/100]\n",
            "Train Loss: 0.1399\n",
            "Valid Loss: 0.6328\n",
            "\n",
            "Epoch [33/100]\n",
            "Train Loss: 0.1358\n",
            "Valid Loss: 0.6245\n",
            "\n",
            "Epoch [34/100]\n",
            "Train Loss: 0.1345\n",
            "Valid Loss: 0.6369\n",
            "\n",
            "Epoch [35/100]\n",
            "Train Loss: 0.1339\n",
            "Valid Loss: 0.6304\n",
            "\n",
            "Epoch [36/100]\n",
            "Train Loss: 0.1289\n",
            "Valid Loss: 0.6254\n",
            "\n",
            "Epoch [37/100]\n",
            "Train Loss: 0.1275\n",
            "Valid Loss: 0.6203\n",
            "\n",
            "Epoch [38/100]\n",
            "Train Loss: 0.1287\n",
            "Valid Loss: 0.6210\n",
            "\n",
            "Epoch [39/100]\n",
            "Train Loss: 0.1227\n",
            "Valid Loss: 0.6195\n",
            "\n",
            "Epoch [40/100]\n",
            "Train Loss: 0.1234\n",
            "Valid Loss: 0.6291\n",
            "\n",
            "Epoch [41/100]\n",
            "Train Loss: 0.1222\n",
            "Valid Loss: 0.6251\n",
            "\n",
            "Epoch [42/100]\n",
            "Train Loss: 0.1194\n",
            "Valid Loss: 0.6225\n",
            "\n",
            "Epoch [43/100]\n",
            "Train Loss: 0.1184\n",
            "Valid Loss: 0.6239\n",
            "\n",
            "Epoch [44/100]\n",
            "Train Loss: 0.1186\n",
            "Valid Loss: 0.6231\n",
            "\n",
            "Epoch [45/100]\n",
            "Train Loss: 0.1141\n",
            "Valid Loss: 0.6318\n",
            "\n",
            "Epoch [46/100]\n",
            "Train Loss: 0.1147\n",
            "Valid Loss: 0.6221\n",
            "\n",
            "Epoch [47/100]\n",
            "Train Loss: 0.1120\n",
            "Valid Loss: 0.6226\n",
            "\n",
            "Epoch [48/100]\n",
            "Train Loss: 0.1119\n",
            "Valid Loss: 0.6252\n",
            "\n",
            "Epoch [49/100]\n",
            "Train Loss: 0.1110\n",
            "Valid Loss: 0.6185\n",
            "\n",
            "Epoch [50/100]\n",
            "Train Loss: 0.1076\n",
            "Valid Loss: 0.6348\n",
            "\n",
            "Epoch [51/100]\n",
            "Train Loss: 0.1082\n",
            "Valid Loss: 0.6248\n",
            "\n",
            "Epoch [52/100]\n",
            "Train Loss: 0.1080\n",
            "Valid Loss: 0.6212\n",
            "\n",
            "Epoch [53/100]\n",
            "Train Loss: 0.1051\n",
            "Valid Loss: 0.6266\n",
            "\n",
            "Epoch [54/100]\n",
            "Train Loss: 0.1061\n",
            "Valid Loss: 0.6243\n",
            "\n",
            "Epoch [55/100]\n",
            "Train Loss: 0.1051\n",
            "Valid Loss: 0.6272\n",
            "\n",
            "Epoch [56/100]\n",
            "Train Loss: 0.1040\n",
            "Valid Loss: 0.6206\n",
            "\n",
            "Epoch [57/100]\n",
            "Train Loss: 0.1024\n",
            "Valid Loss: 0.6200\n",
            "\n",
            "Epoch [58/100]\n",
            "Train Loss: 0.1027\n",
            "Valid Loss: 0.6213\n",
            "\n",
            "Epoch [59/100]\n",
            "Train Loss: 0.0997\n",
            "Valid Loss: 0.6253\n",
            "\n",
            "Epoch [60/100]\n",
            "Train Loss: 0.1003\n",
            "Valid Loss: 0.6151\n",
            "\n",
            "Epoch [61/100]\n",
            "Train Loss: 0.0984\n",
            "Valid Loss: 0.6234\n",
            "\n",
            "Epoch [62/100]\n",
            "Train Loss: 0.0981\n",
            "Valid Loss: 0.6171\n",
            "\n",
            "Epoch [63/100]\n",
            "Train Loss: 0.0959\n",
            "Valid Loss: 0.6278\n",
            "\n",
            "Epoch [64/100]\n",
            "Train Loss: 0.0952\n",
            "Valid Loss: 0.6274\n",
            "\n",
            "Epoch [65/100]\n",
            "Train Loss: 0.0964\n",
            "Valid Loss: 0.6303\n",
            "\n",
            "Epoch [66/100]\n",
            "Train Loss: 0.0959\n",
            "Valid Loss: 0.6301\n",
            "\n",
            "Epoch [67/100]\n",
            "Train Loss: 0.0952\n",
            "Valid Loss: 0.6275\n",
            "\n",
            "Epoch [68/100]\n",
            "Train Loss: 0.0948\n",
            "Valid Loss: 0.6292\n",
            "\n",
            "Epoch [69/100]\n",
            "Train Loss: 0.0925\n",
            "Valid Loss: 0.6294\n",
            "\n",
            "Epoch [70/100]\n",
            "Train Loss: 0.0926\n",
            "Valid Loss: 0.6246\n",
            "\n",
            "Epoch [71/100]\n",
            "Train Loss: 0.0926\n",
            "Valid Loss: 0.6299\n",
            "\n",
            "Epoch [72/100]\n",
            "Train Loss: 0.0919\n",
            "Valid Loss: 0.6246\n",
            "\n",
            "Epoch [73/100]\n",
            "Train Loss: 0.0905\n",
            "Valid Loss: 0.6286\n",
            "\n",
            "Epoch [74/100]\n",
            "Train Loss: 0.0899\n",
            "Valid Loss: 0.6210\n",
            "\n",
            "Epoch [75/100]\n",
            "Train Loss: 0.0884\n",
            "Valid Loss: 0.6248\n",
            "\n",
            "Epoch [76/100]\n",
            "Train Loss: 0.0890\n",
            "Valid Loss: 0.6225\n",
            "\n",
            "Epoch [77/100]\n",
            "Train Loss: 0.0881\n",
            "Valid Loss: 0.6259\n",
            "\n",
            "Epoch [78/100]\n",
            "Train Loss: 0.0871\n",
            "Valid Loss: 0.6174\n",
            "\n",
            "Epoch [79/100]\n",
            "Train Loss: 0.0873\n",
            "Valid Loss: 0.6309\n",
            "\n",
            "Epoch [80/100]\n",
            "Train Loss: 0.0872\n",
            "Valid Loss: 0.6220\n",
            "\n",
            "Epoch [81/100]\n",
            "Train Loss: 0.0864\n",
            "Valid Loss: 0.6249\n",
            "\n",
            "Epoch [82/100]\n",
            "Train Loss: 0.0862\n",
            "Valid Loss: 0.6294\n",
            "\n",
            "Epoch [83/100]\n",
            "Train Loss: 0.0850\n",
            "Valid Loss: 0.6201\n",
            "\n",
            "Epoch [84/100]\n",
            "Train Loss: 0.0861\n",
            "Valid Loss: 0.6363\n",
            "\n",
            "Epoch [85/100]\n",
            "Train Loss: 0.0843\n",
            "Valid Loss: 0.6171\n",
            "\n",
            "Epoch [86/100]\n",
            "Train Loss: 0.0844\n",
            "Valid Loss: 0.6157\n",
            "\n",
            "Epoch [87/100]\n",
            "Train Loss: 0.0827\n",
            "Valid Loss: 0.6228\n",
            "\n",
            "Epoch [88/100]\n",
            "Train Loss: 0.0824\n",
            "Valid Loss: 0.6279\n",
            "\n",
            "Epoch [89/100]\n",
            "Train Loss: 0.0807\n",
            "Valid Loss: 0.6219\n",
            "\n",
            "Epoch [90/100]\n",
            "Train Loss: 0.0822\n",
            "Valid Loss: 0.6277\n",
            "\n",
            "Epoch [91/100]\n",
            "Train Loss: 0.0808\n",
            "Valid Loss: 0.6287\n",
            "\n",
            "Epoch [92/100]\n",
            "Train Loss: 0.0805\n",
            "Valid Loss: 0.6199\n",
            "\n",
            "Epoch [93/100]\n",
            "Train Loss: 0.0798\n",
            "Valid Loss: 0.6191\n",
            "\n",
            "Epoch [94/100]\n",
            "Train Loss: 0.0786\n",
            "Valid Loss: 0.6210\n",
            "\n",
            "Epoch [95/100]\n",
            "Train Loss: 0.0780\n",
            "Valid Loss: 0.6269\n",
            "\n",
            "Epoch [96/100]\n",
            "Train Loss: 0.0792\n",
            "Valid Loss: 0.6303\n",
            "\n",
            "Epoch [97/100]\n",
            "Train Loss: 0.0789\n",
            "Valid Loss: 0.6366\n",
            "\n",
            "Epoch [98/100]\n",
            "Train Loss: 0.0775\n",
            "Valid Loss: 0.6162\n",
            "\n",
            "Epoch [99/100]\n",
            "Train Loss: 0.0773\n",
            "Valid Loss: 0.6167\n",
            "\n",
            "Epoch [100/100]\n",
            "Train Loss: 0.0753\n",
            "Valid Loss: 0.6164\n",
            "\n",
            "Training Time: 51m18s\n",
            "Training Params: 1616641\n"
          ]
        }
      ],
      "source": [
        "OUTPUT_MODEL_FILE_NAME = \"MOSEI_Low_Rank_Tensor_Fusion\"\n",
        "train_losses, valid_losses = train(\n",
        "    encoders,\n",
        "    fusion,\n",
        "    head,\n",
        "    train_data,\n",
        "    valid_data,\n",
        "    100,\n",
        "    task=\"regression\",\n",
        "    optimtype=torch.optim.AdamW,\n",
        "    early_stop=False,\n",
        "    is_packed=True,\n",
        "    lr=1e-3,\n",
        "    save=f\"/content/{OUTPUT_MODEL_FILE_NAME}.pt\",\n",
        "    weight_decay=0.01,\n",
        "    objective=torch.nn.L1Loss(),\n",
        ")\n"
      ]
    },
    {
      "cell_type": "code",
      "execution_count": 19,
      "id": "b0e7c33a-a68d-4292-a2b2-14e8a2e53500",
      "metadata": {
        "colab": {
          "base_uri": "https://localhost:8080/",
          "height": 490
        },
        "id": "b0e7c33a-a68d-4292-a2b2-14e8a2e53500",
        "outputId": "dbc28076-e01f-4ea0-d0c0-1f9165d70909"
      },
      "outputs": [
        {
          "output_type": "execute_result",
          "data": {
            "text/plain": [
              "Text(0.5, 1.0, 'Loss vs. No. of epochs')"
            ]
          },
          "metadata": {},
          "execution_count": 19
        },
        {
          "output_type": "display_data",
          "data": {
            "text/plain": [
              "<Figure size 640x480 with 1 Axes>"
            ],
            "image/png": "[encoded data removed]"
          },
          "metadata": {}
        }
      ],
      "source": [
        "plt.plot(train_losses, label='Train Loss')\n",
        "plt.plot(valid_losses, label='Validation Loss')\n",
        "plt.xlabel('Epochs')\n",
        "plt.ylabel('Loss')\n",
        "plt.legend()\n",
        "plt.grid(True)\n",
        "plt.title('Loss vs. No. of epochs')"
      ]
    },
    {
      "cell_type": "code",
      "execution_count": 20,
      "id": "8bbd60df-8764-4fcd-a545-90860e5f8a2c",
      "metadata": {
        "id": "8bbd60df-8764-4fcd-a545-90860e5f8a2c"
      },
      "outputs": [],
      "source": [
        "save_results(train_losses, valid_losses, f'/content/{OUTPUT_MODEL_FILE_NAME}.pkl')"
      ]
    },
    {
      "cell_type": "markdown",
      "id": "a2a0ca4a-2c05-4ba2-a6aa-1db0e341598b",
      "metadata": {
        "id": "a2a0ca4a-2c05-4ba2-a6aa-1db0e341598b"
      },
      "source": [
        "## Testing"
      ]
    },
    {
      "cell_type": "code",
      "execution_count": 21,
      "id": "d4352442-0d78-4195-bd04-2332af36a7f7",
      "metadata": {
        "colab": {
          "base_uri": "https://localhost:8080/"
        },
        "id": "d4352442-0d78-4195-bd04-2332af36a7f7",
        "outputId": "44cecbf9-1244-4e0b-d9d9-b4ed8ad18099"
      },
      "outputs": [
        {
          "output_type": "stream",
          "name": "stderr",
          "text": [
            "<ipython-input-21-ece7b266be51>:1: FutureWarning: You are using `torch.load` with `weights_only=False` (the current default value), which uses the default pickle module implicitly. It is possible to construct malicious pickle data which will execute arbitrary code during unpickling (See https://github.com/pytorch/pytorch/blob/main/SECURITY.md#untrusted-models for more details). In a future release, the default value for `weights_only` will be flipped to `True`. This limits the functions that could be executed during unpickling. Arbitrary objects will no longer be allowed to be loaded via this mode unless they are explicitly allowlisted by the user via `torch.serialization.add_safe_globals`. We recommend you start setting `weights_only=True` for any use case where you don't have full control of the loaded file. Please open an issue on GitHub for any issues related to this experimental feature.\n",
            "  model = torch.load(f\"/content/{OUTPUT_MODEL_FILE_NAME}.pt\").to(device)\n"
          ]
        },
        {
          "output_type": "stream",
          "name": "stdout",
          "text": [
            "Recall: 81.3858% | Total Accuracy: 70.4419%\n",
            "Inference Time: 2s425ms\n",
            "Inference Params: 1616641\n"
          ]
        }
      ],
      "source": [
        "model = torch.load(f\"/content/{OUTPUT_MODEL_FILE_NAME}.pt\").to(device)\n",
        "\n",
        "test(\n",
        "    model,\n",
        "    test_dataloaders_all=test_data,\n",
        "    is_packed=True,\n",
        "    criterion=torch.nn.L1Loss(),\n",
        "    task=\"posneg-classification\"\n",
        ")\n"
      ]
    }
  ],
  "metadata": {
    "accelerator": "GPU",
    "colab": {
      "gpuType": "T4",
      "machine_shape": "hm",
      "provenance": []
    },
    "kernelspec": {
      "display_name": "Python 3",
      "name": "python3"
    },
    "language_info": {
      "codemirror_mode": {
        "name": "ipython",
        "version": 3
      },
      "file_extension": ".py",
      "mimetype": "text/x-python",
      "name": "python",
      "nbconvert_exporter": "python",
      "pygments_lexer": "ipython3",
      "version": "3.11.7"
    }
  },
  "nbformat": 4,
  "nbformat_minor": 5
}