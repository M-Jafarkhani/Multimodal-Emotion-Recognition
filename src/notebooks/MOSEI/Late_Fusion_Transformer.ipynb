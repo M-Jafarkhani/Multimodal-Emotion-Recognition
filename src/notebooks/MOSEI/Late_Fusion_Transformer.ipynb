{
  "cells": [
    {
      "cell_type": "markdown",
      "id": "067cb8f5-a1c8-40d0-8524-0b28f8e4b586",
      "metadata": {
        "id": "067cb8f5-a1c8-40d0-8524-0b28f8e4b586"
      },
      "source": [
        "# Late Fusion Transformer Model - CMU-MOSI Dataset"
      ]
    },
    {
      "cell_type": "code",
      "execution_count": 1,
      "id": "sDtW0cIvcPav",
      "metadata": {
        "colab": {
          "base_uri": "https://localhost:8080/"
        },
        "id": "sDtW0cIvcPav",
        "outputId": "80b51cc6-11af-4241-8d34-0e4418ea56f0"
      },
      "outputs": [
        {
          "output_type": "stream",
          "name": "stdout",
          "text": [
            "Cloning into 'Multimodal-Sentiment-Analysis'...\n",
            "remote: Enumerating objects: 333, done.\u001b[K\n",
            "remote: Counting objects: 100% (263/263), done.\u001b[K\n",
            "remote: Compressing objects: 100% (179/179), done.\u001b[K\n",
            "remote: Total 333 (delta 145), reused 188 (delta 81), pack-reused 70 (from 1)\u001b[K\n",
            "Receiving objects: 100% (333/333), 204.75 MiB | 37.02 MiB/s, done.\n",
            "Resolving deltas: 100% (146/146), done.\n",
            "Updating files: 100% (61/61), done.\n"
          ]
        }
      ],
      "source": [
        "!git clone https://github.com/M-Jafarkhani/Multimodal-Sentiment-Analysis"
      ]
    },
    {
      "cell_type": "code",
      "execution_count": 2,
      "id": "qo_R3m6YcYOT",
      "metadata": {
        "colab": {
          "base_uri": "https://localhost:8080/",
          "height": 125
        },
        "id": "qo_R3m6YcYOT",
        "outputId": "4a5f991a-ec50-44b7-a240-cfd10b6ab075"
      },
      "outputs": [
        {
          "output_type": "stream",
          "name": "stderr",
          "text": [
            "Downloading...\n",
            "From (original): https://drive.google.com/uc?id=180l4pN6XAv8-OAYQ6OrMheFUMwtqUWbz\n",
            "From (redirected): https://drive.google.com/uc?id=180l4pN6XAv8-OAYQ6OrMheFUMwtqUWbz&confirm=t&uuid=aae96df3-e68d-4ebf-836f-c1774ad88973\n",
            "To: /content/mosei_senti_data.pkl\n",
            "100%|██████████| 3.73G/3.73G [00:25<00:00, 148MB/s]\n"
          ]
        },
        {
          "output_type": "execute_result",
          "data": {
            "text/plain": [
              "'mosei_senti_data.pkl'"
            ],
            "application/vnd.google.colaboratory.intrinsic+json": {
              "type": "string"
            }
          },
          "metadata": {},
          "execution_count": 2
        }
      ],
      "source": [
        "import gdown\n",
        "\n",
        "file_id = \"180l4pN6XAv8-OAYQ6OrMheFUMwtqUWbz\"\n",
        "destination = \"mosei_senti_data.pkl\"\n",
        "\n",
        "gdown.download(\n",
        "    f\"https://drive.google.com/uc?id={file_id}\", destination, quiet=False)"
      ]
    },
    {
      "cell_type": "markdown",
      "id": "fc015c8e-f315-40d9-823c-6fc3626a4510",
      "metadata": {
        "id": "fc015c8e-f315-40d9-823c-6fc3626a4510"
      },
      "source": [
        "## Importing Libraries"
      ]
    },
    {
      "cell_type": "code",
      "execution_count": 3,
      "id": "d4a4adae-a451-493d-9ddb-0efb28537923",
      "metadata": {
        "id": "d4a4adae-a451-493d-9ddb-0efb28537923"
      },
      "outputs": [],
      "source": [
        "import sys\n",
        "import torch\n",
        "import matplotlib.pyplot as plt\n",
        "\n",
        "sys.path.append('/content/Multimodal-Sentiment-Analysis/src')"
      ]
    },
    {
      "cell_type": "markdown",
      "id": "52a35966-1fba-4107-a1fc-1137f26224bf",
      "metadata": {
        "id": "52a35966-1fba-4107-a1fc-1137f26224bf"
      },
      "source": [
        "## Importing Helper Functions"
      ]
    },
    {
      "cell_type": "code",
      "execution_count": 4,
      "id": "b8d45f84-62c1-4315-9010-45d345dda90d",
      "metadata": {
        "id": "b8d45f84-62c1-4315-9010-45d345dda90d"
      },
      "outputs": [],
      "source": [
        "from loader import get_dataloader\n",
        "from unimodals.modules import Transformer, MLP\n",
        "from training.supervised import train, test\n",
        "from fusions.modules import Concat\n",
        "from utils import get_default_device, save_results"
      ]
    },
    {
      "cell_type": "markdown",
      "id": "8dc9b148-2e2f-4cfa-a7d4-d53b639f5b18",
      "metadata": {
        "id": "8dc9b148-2e2f-4cfa-a7d4-d53b639f5b18"
      },
      "source": [
        "## Loading the Dataset"
      ]
    },
    {
      "cell_type": "code",
      "execution_count": 5,
      "id": "7f193c63-0bfb-4248-a2a8-e81ca20a7c14",
      "metadata": {
        "id": "7f193c63-0bfb-4248-a2a8-e81ca20a7c14"
      },
      "outputs": [],
      "source": [
        "FILE_PATH = '/content/mosei_senti_data.pkl'\n",
        "train_data, valid_data, test_data = get_dataloader(FILE_PATH)"
      ]
    },
    {
      "cell_type": "code",
      "execution_count": 6,
      "id": "75b021aa-09ec-4739-92d3-028a0ed54287",
      "metadata": {
        "colab": {
          "base_uri": "https://localhost:8080/"
        },
        "id": "75b021aa-09ec-4739-92d3-028a0ed54287",
        "outputId": "9519b122-83ba-4983-aeab-8613ac2b0aa6"
      },
      "outputs": [
        {
          "output_type": "stream",
          "name": "stdout",
          "text": [
            "cuda\n"
          ]
        }
      ],
      "source": [
        "device = get_default_device()\n",
        "print(device)"
      ]
    },
    {
      "cell_type": "markdown",
      "id": "a1b80fea-4d34-4db8-a1ed-9ca4e853bbd4",
      "metadata": {
        "id": "a1b80fea-4d34-4db8-a1ed-9ca4e853bbd4"
      },
      "source": [
        "## Model Architecture"
      ]
    },
    {
      "cell_type": "code",
      "source": [
        "encoders = [\n",
        "    Transformer(35, 40).to(device),\n",
        "    Transformer(74, 10).to(device),\n",
        "    Transformer(300, 600).to(device),\n",
        "]\n",
        "head = MLP(650, 256, 1).to(device)\n",
        "fusion = Concat().to(device)"
      ],
      "metadata": {
        "colab": {
          "base_uri": "https://localhost:8080/"
        },
        "id": "mqf3Esl0yij_",
        "outputId": "b6bab816-4056-4c6c-ffce-ee913c56ec72"
      },
      "id": "mqf3Esl0yij_",
      "execution_count": 7,
      "outputs": [
        {
          "output_type": "stream",
          "name": "stderr",
          "text": [
            "/usr/local/lib/python3.10/dist-packages/torch/nn/modules/transformer.py:379: UserWarning: enable_nested_tensor is True, but self.use_nested_tensor is False because encoder_layer.self_attn.batch_first was not True(use batch_first for better inference performance)\n",
            "  warnings.warn(\n"
          ]
        }
      ]
    },
    {
      "cell_type": "markdown",
      "id": "4575e9d5-572c-4810-ba00-030f8ded6f05",
      "metadata": {
        "id": "4575e9d5-572c-4810-ba00-030f8ded6f05"
      },
      "source": [
        "## Training"
      ]
    },
    {
      "cell_type": "code",
      "execution_count": 8,
      "id": "d9a645da-32a4-419a-9d64-2f499da509ac",
      "metadata": {
        "colab": {
          "base_uri": "https://localhost:8080/"
        },
        "id": "d9a645da-32a4-419a-9d64-2f499da509ac",
        "outputId": "61ba665c-5d3e-4081-b6a5-80108ea3132d"
      },
      "outputs": [
        {
          "output_type": "stream",
          "name": "stdout",
          "text": [
            "Epoch [1/100]\n",
            "Train Loss: 0.7196\n",
            "Valid Loss: 0.6709\n",
            "Saving Best\n",
            "\n",
            "Epoch [2/100]\n",
            "Train Loss: 0.6486\n",
            "Valid Loss: 0.6496\n",
            "Saving Best\n",
            "\n",
            "Epoch [3/100]\n",
            "Train Loss: 0.6252\n",
            "Valid Loss: 0.6197\n",
            "Saving Best\n",
            "\n",
            "Epoch [4/100]\n",
            "Train Loss: 0.6074\n",
            "Valid Loss: 0.6355\n",
            "\n",
            "Epoch [5/100]\n",
            "Train Loss: 0.5895\n",
            "Valid Loss: 0.6135\n",
            "Saving Best\n",
            "\n",
            "Epoch [6/100]\n",
            "Train Loss: 0.5745\n",
            "Valid Loss: 0.6163\n",
            "\n",
            "Epoch [7/100]\n",
            "Train Loss: 0.5597\n",
            "Valid Loss: 0.6392\n",
            "\n",
            "Epoch [8/100]\n",
            "Train Loss: 0.5419\n",
            "Valid Loss: 0.6386\n",
            "\n",
            "Epoch [9/100]\n",
            "Train Loss: 0.5245\n",
            "Valid Loss: 0.6078\n",
            "Saving Best\n",
            "\n",
            "Epoch [10/100]\n",
            "Train Loss: 0.5095\n",
            "Valid Loss: 0.6275\n",
            "\n",
            "Epoch [11/100]\n",
            "Train Loss: 0.5007\n",
            "Valid Loss: 0.6251\n",
            "\n",
            "Epoch [12/100]\n",
            "Train Loss: 0.4811\n",
            "Valid Loss: 0.6436\n",
            "\n",
            "Epoch [13/100]\n",
            "Train Loss: 0.4601\n",
            "Valid Loss: 0.6386\n",
            "\n",
            "Epoch [14/100]\n",
            "Train Loss: 0.4463\n",
            "Valid Loss: 0.6361\n",
            "\n",
            "Epoch [15/100]\n",
            "Train Loss: 0.4339\n",
            "Valid Loss: 0.6240\n",
            "\n",
            "Epoch [16/100]\n",
            "Train Loss: 0.4260\n",
            "Valid Loss: 0.6219\n",
            "\n",
            "Epoch [17/100]\n",
            "Train Loss: 0.4105\n",
            "Valid Loss: 0.6219\n",
            "\n",
            "Epoch [18/100]\n",
            "Train Loss: 0.3964\n",
            "Valid Loss: 0.6174\n",
            "\n",
            "Epoch [19/100]\n",
            "Train Loss: 0.3867\n",
            "Valid Loss: 0.6494\n",
            "\n",
            "Epoch [20/100]\n",
            "Train Loss: 0.3718\n",
            "Valid Loss: 0.6603\n",
            "\n",
            "Epoch [21/100]\n",
            "Train Loss: 0.3660\n",
            "Valid Loss: 0.6167\n",
            "\n",
            "Epoch [22/100]\n",
            "Train Loss: 0.3550\n",
            "Valid Loss: 0.6472\n",
            "\n",
            "Epoch [23/100]\n",
            "Train Loss: 0.3458\n",
            "Valid Loss: 0.6367\n",
            "\n",
            "Epoch [24/100]\n",
            "Train Loss: 0.3367\n",
            "Valid Loss: 0.6608\n",
            "\n",
            "Epoch [25/100]\n",
            "Train Loss: 0.3291\n",
            "Valid Loss: 0.6449\n",
            "\n",
            "Epoch [26/100]\n",
            "Train Loss: 0.3211\n",
            "Valid Loss: 0.6127\n",
            "\n",
            "Epoch [27/100]\n",
            "Train Loss: 0.3083\n",
            "Valid Loss: 0.6494\n",
            "\n",
            "Epoch [28/100]\n",
            "Train Loss: 0.3048\n",
            "Valid Loss: 0.6578\n",
            "\n",
            "Epoch [29/100]\n",
            "Train Loss: 0.3007\n",
            "Valid Loss: 0.6365\n",
            "\n",
            "Epoch [30/100]\n",
            "Train Loss: 0.2966\n",
            "Valid Loss: 0.6631\n",
            "\n",
            "Epoch [31/100]\n",
            "Train Loss: 0.2890\n",
            "Valid Loss: 0.6360\n",
            "\n",
            "Epoch [32/100]\n",
            "Train Loss: 0.2772\n",
            "Valid Loss: 0.6273\n",
            "\n",
            "Epoch [33/100]\n",
            "Train Loss: 0.2737\n",
            "Valid Loss: 0.6449\n",
            "\n",
            "Epoch [34/100]\n",
            "Train Loss: 0.2689\n",
            "Valid Loss: 0.6433\n",
            "\n",
            "Epoch [35/100]\n",
            "Train Loss: 0.2607\n",
            "Valid Loss: 0.6354\n",
            "\n",
            "Epoch [36/100]\n",
            "Train Loss: 0.2577\n",
            "Valid Loss: 0.6305\n",
            "\n",
            "Epoch [37/100]\n",
            "Train Loss: 0.2582\n",
            "Valid Loss: 0.6410\n",
            "\n",
            "Epoch [38/100]\n",
            "Train Loss: 0.2559\n",
            "Valid Loss: 0.6511\n",
            "\n",
            "Epoch [39/100]\n",
            "Train Loss: 0.2503\n",
            "Valid Loss: 0.6374\n",
            "\n",
            "Epoch [40/100]\n",
            "Train Loss: 0.2464\n",
            "Valid Loss: 0.6556\n",
            "\n",
            "Epoch [41/100]\n",
            "Train Loss: 0.2383\n",
            "Valid Loss: 0.6480\n",
            "\n",
            "Epoch [42/100]\n",
            "Train Loss: 0.2317\n",
            "Valid Loss: 0.6360\n",
            "\n",
            "Epoch [43/100]\n",
            "Train Loss: 0.2312\n",
            "Valid Loss: 0.6316\n",
            "\n",
            "Epoch [44/100]\n",
            "Train Loss: 0.2268\n",
            "Valid Loss: 0.6423\n",
            "\n",
            "Epoch [45/100]\n",
            "Train Loss: 0.2240\n",
            "Valid Loss: 0.6405\n",
            "\n",
            "Epoch [46/100]\n",
            "Train Loss: 0.2176\n",
            "Valid Loss: 0.6409\n",
            "\n",
            "Epoch [47/100]\n",
            "Train Loss: 0.2165\n",
            "Valid Loss: 0.6445\n",
            "\n",
            "Epoch [48/100]\n",
            "Train Loss: 0.2118\n",
            "Valid Loss: 0.6545\n",
            "\n",
            "Epoch [49/100]\n",
            "Train Loss: 0.2092\n",
            "Valid Loss: 0.6534\n",
            "\n",
            "Epoch [50/100]\n",
            "Train Loss: 0.2037\n",
            "Valid Loss: 0.6467\n",
            "\n",
            "Epoch [51/100]\n",
            "Train Loss: 0.2036\n",
            "Valid Loss: 0.6827\n",
            "\n",
            "Epoch [52/100]\n",
            "Train Loss: 0.2053\n",
            "Valid Loss: 0.6619\n",
            "\n",
            "Epoch [53/100]\n",
            "Train Loss: 0.2028\n",
            "Valid Loss: 0.6507\n",
            "\n",
            "Epoch [54/100]\n",
            "Train Loss: 0.2022\n",
            "Valid Loss: 0.6629\n",
            "\n",
            "Epoch [55/100]\n",
            "Train Loss: 0.2029\n",
            "Valid Loss: 0.6409\n",
            "\n",
            "Epoch [56/100]\n",
            "Train Loss: 0.1948\n",
            "Valid Loss: 0.6392\n",
            "\n",
            "Epoch [57/100]\n",
            "Train Loss: 0.1887\n",
            "Valid Loss: 0.6308\n",
            "\n",
            "Epoch [58/100]\n",
            "Train Loss: 0.1863\n",
            "Valid Loss: 0.6351\n",
            "\n",
            "Epoch [59/100]\n",
            "Train Loss: 0.1873\n",
            "Valid Loss: 0.6627\n",
            "\n",
            "Epoch [60/100]\n",
            "Train Loss: 0.1845\n",
            "Valid Loss: 0.6568\n",
            "\n",
            "Epoch [61/100]\n",
            "Train Loss: 0.1853\n",
            "Valid Loss: 0.6872\n",
            "\n",
            "Epoch [62/100]\n",
            "Train Loss: 0.1775\n",
            "Valid Loss: 0.6731\n",
            "\n",
            "Epoch [63/100]\n",
            "Train Loss: 0.1804\n",
            "Valid Loss: 0.6335\n",
            "\n",
            "Epoch [64/100]\n",
            "Train Loss: 0.1734\n",
            "Valid Loss: 0.6572\n",
            "\n",
            "Epoch [65/100]\n",
            "Train Loss: 0.1777\n",
            "Valid Loss: 0.6372\n",
            "\n",
            "Epoch [66/100]\n",
            "Train Loss: 0.1731\n",
            "Valid Loss: 0.6578\n",
            "\n",
            "Epoch [67/100]\n",
            "Train Loss: 0.1694\n",
            "Valid Loss: 0.6762\n",
            "\n",
            "Epoch [68/100]\n",
            "Train Loss: 0.1735\n",
            "Valid Loss: 0.6613\n",
            "\n",
            "Epoch [69/100]\n",
            "Train Loss: 0.1758\n",
            "Valid Loss: 0.6339\n",
            "\n",
            "Epoch [70/100]\n",
            "Train Loss: 0.1713\n",
            "Valid Loss: 0.6581\n",
            "\n",
            "Epoch [71/100]\n",
            "Train Loss: 0.1718\n",
            "Valid Loss: 0.6462\n",
            "\n",
            "Epoch [72/100]\n",
            "Train Loss: 0.1700\n",
            "Valid Loss: 0.6540\n",
            "\n",
            "Epoch [73/100]\n",
            "Train Loss: 0.1673\n",
            "Valid Loss: 0.6480\n",
            "\n",
            "Epoch [74/100]\n",
            "Train Loss: 0.1584\n",
            "Valid Loss: 0.6601\n",
            "\n",
            "Epoch [75/100]\n",
            "Train Loss: 0.1541\n",
            "Valid Loss: 0.6658\n",
            "\n",
            "Epoch [76/100]\n",
            "Train Loss: 0.1571\n",
            "Valid Loss: 0.6765\n",
            "\n",
            "Epoch [77/100]\n",
            "Train Loss: 0.1593\n",
            "Valid Loss: 0.6455\n",
            "\n",
            "Epoch [78/100]\n",
            "Train Loss: 0.1610\n",
            "Valid Loss: 0.6428\n",
            "\n",
            "Epoch [79/100]\n",
            "Train Loss: 0.1626\n",
            "Valid Loss: 0.6916\n",
            "\n",
            "Epoch [80/100]\n",
            "Train Loss: 0.1608\n",
            "Valid Loss: 0.6420\n",
            "\n",
            "Epoch [81/100]\n",
            "Train Loss: 0.1552\n",
            "Valid Loss: 0.6400\n",
            "\n",
            "Epoch [82/100]\n",
            "Train Loss: 0.1561\n",
            "Valid Loss: 0.6388\n",
            "\n",
            "Epoch [83/100]\n",
            "Train Loss: 0.1474\n",
            "Valid Loss: 0.6380\n",
            "\n",
            "Epoch [84/100]\n",
            "Train Loss: 0.1503\n",
            "Valid Loss: 0.6558\n",
            "\n",
            "Epoch [85/100]\n",
            "Train Loss: 0.1470\n",
            "Valid Loss: 0.6499\n",
            "\n",
            "Epoch [86/100]\n",
            "Train Loss: 0.1454\n",
            "Valid Loss: 0.6703\n",
            "\n",
            "Epoch [87/100]\n",
            "Train Loss: 0.1514\n",
            "Valid Loss: 0.6635\n",
            "\n",
            "Epoch [88/100]\n",
            "Train Loss: 0.1529\n",
            "Valid Loss: 0.6703\n",
            "\n",
            "Epoch [89/100]\n",
            "Train Loss: 0.1472\n",
            "Valid Loss: 0.6362\n",
            "\n",
            "Epoch [90/100]\n",
            "Train Loss: 0.1376\n",
            "Valid Loss: 0.6767\n",
            "\n",
            "Epoch [91/100]\n",
            "Train Loss: 0.1424\n",
            "Valid Loss: 0.6527\n",
            "\n",
            "Epoch [92/100]\n",
            "Train Loss: 0.1414\n",
            "Valid Loss: 0.6560\n",
            "\n",
            "Epoch [93/100]\n",
            "Train Loss: 0.1417\n",
            "Valid Loss: 0.6463\n",
            "\n",
            "Epoch [94/100]\n",
            "Train Loss: 0.1441\n",
            "Valid Loss: 0.6522\n",
            "\n",
            "Epoch [95/100]\n",
            "Train Loss: 0.1491\n",
            "Valid Loss: 0.6447\n",
            "\n",
            "Epoch [96/100]\n",
            "Train Loss: 0.1456\n",
            "Valid Loss: 0.6679\n",
            "\n",
            "Epoch [97/100]\n",
            "Train Loss: 0.1381\n",
            "Valid Loss: 0.6308\n",
            "\n",
            "Epoch [98/100]\n",
            "Train Loss: 0.1330\n",
            "Valid Loss: 0.6409\n",
            "\n",
            "Epoch [99/100]\n",
            "Train Loss: 0.1301\n",
            "Valid Loss: 0.6488\n",
            "\n",
            "Epoch [100/100]\n",
            "Train Loss: 0.1322\n",
            "Valid Loss: 0.6781\n",
            "\n",
            "Training Time: 1h20m\n",
            "Training Params: 20955023\n"
          ]
        }
      ],
      "source": [
        "OUTPUT_MODEL_FILE_NAME = \"MOSEI_Late_Fusion_Transformer\"\n",
        "train_losses, valid_losses = train(\n",
        "    encoders,\n",
        "    fusion,\n",
        "    head,\n",
        "    train_data,\n",
        "    valid_data,\n",
        "    100,\n",
        "    task=\"regression\",\n",
        "    optimtype=torch.optim.AdamW,\n",
        "    early_stop=False,\n",
        "    is_packed=True,\n",
        "    lr=1e-4,\n",
        "    save=f'/content/{OUTPUT_MODEL_FILE_NAME}.pt',\n",
        "    weight_decay=0.01,\n",
        "    objective=torch.nn.L1Loss(),\n",
        ")\n"
      ]
    },
    {
      "cell_type": "code",
      "execution_count": 9,
      "id": "b0e7c33a-a68d-4292-a2b2-14e8a2e53500",
      "metadata": {
        "colab": {
          "base_uri": "https://localhost:8080/",
          "height": 490
        },
        "id": "b0e7c33a-a68d-4292-a2b2-14e8a2e53500",
        "outputId": "ef83fac0-67f6-4827-bae2-e46f6bbd23e9"
      },
      "outputs": [
        {
          "output_type": "execute_result",
          "data": {
            "text/plain": [
              "Text(0.5, 1.0, 'Loss vs. No. of epochs')"
            ]
          },
          "metadata": {},
          "execution_count": 9
        },
        {
          "output_type": "display_data",
          "data": {
            "text/plain": [
              "<Figure size 640x480 with 1 Axes>"
            ],
            "image/png": "[encoded data removed]"
          },
          "metadata": {}
        }
      ],
      "source": [
        "plt.plot(train_losses, label='Train Loss')\n",
        "plt.plot(valid_losses, label='Validation Loss')\n",
        "plt.xlabel('Epochs')\n",
        "plt.ylabel('Loss')\n",
        "plt.legend()\n",
        "plt.grid(True)\n",
        "plt.title('Loss vs. No. of epochs')"
      ]
    },
    {
      "cell_type": "code",
      "execution_count": 10,
      "id": "8bbd60df-8764-4fcd-a545-90860e5f8a2c",
      "metadata": {
        "id": "8bbd60df-8764-4fcd-a545-90860e5f8a2c"
      },
      "outputs": [],
      "source": [
        "save_results(train_losses, valid_losses, f'/content/{OUTPUT_MODEL_FILE_NAME}.pkl')"
      ]
    },
    {
      "cell_type": "markdown",
      "id": "a2a0ca4a-2c05-4ba2-a6aa-1db0e341598b",
      "metadata": {
        "id": "a2a0ca4a-2c05-4ba2-a6aa-1db0e341598b"
      },
      "source": [
        "## Testing"
      ]
    },
    {
      "cell_type": "code",
      "execution_count": 11,
      "id": "d4352442-0d78-4195-bd04-2332af36a7f7",
      "metadata": {
        "colab": {
          "base_uri": "https://localhost:8080/"
        },
        "id": "d4352442-0d78-4195-bd04-2332af36a7f7",
        "outputId": "303b6323-04ab-4cdc-8af1-00fa0b4dae4e"
      },
      "outputs": [
        {
          "output_type": "stream",
          "name": "stderr",
          "text": [
            "<ipython-input-11-ece7b266be51>:1: FutureWarning: You are using `torch.load` with `weights_only=False` (the current default value), which uses the default pickle module implicitly. It is possible to construct malicious pickle data which will execute arbitrary code during unpickling (See https://github.com/pytorch/pytorch/blob/main/SECURITY.md#untrusted-models for more details). In a future release, the default value for `weights_only` will be flipped to `True`. This limits the functions that could be executed during unpickling. Arbitrary objects will no longer be allowed to be loaded via this mode unless they are explicitly allowlisted by the user via `torch.serialization.add_safe_globals`. We recommend you start setting `weights_only=True` for any use case where you don't have full control of the loaded file. Please open an issue on GitHub for any issues related to this experimental feature.\n",
            "  model = torch.load(f\"/content/{OUTPUT_MODEL_FILE_NAME}.pt\").to(device)\n"
          ]
        },
        {
          "output_type": "stream",
          "name": "stdout",
          "text": [
            "Recall: 80.4696% | Total Accuracy: 68.4902%\n",
            "Inference Time: 4s410ms\n",
            "Inference Params: 20955023\n"
          ]
        }
      ],
      "source": [
        "model = torch.load(f\"/content/{OUTPUT_MODEL_FILE_NAME}.pt\").to(device)\n",
        "\n",
        "test(\n",
        "    model,\n",
        "    test_dataloaders_all=test_data,\n",
        "    is_packed=True,\n",
        "    criterion=torch.nn.L1Loss(),\n",
        "    task=\"posneg-classification\"\n",
        ")\n"
      ]
    }
  ],
  "metadata": {
    "accelerator": "GPU",
    "colab": {
      "gpuType": "T4",
      "machine_shape": "hm",
      "provenance": []
    },
    "kernelspec": {
      "display_name": "Python 3",
      "name": "python3"
    },
    "language_info": {
      "codemirror_mode": {
        "name": "ipython",
        "version": 3
      },
      "file_extension": ".py",
      "mimetype": "text/x-python",
      "name": "python",
      "nbconvert_exporter": "python",
      "pygments_lexer": "ipython3",
      "version": "3.11.7"
    }
  },
  "nbformat": 4,
  "nbformat_minor": 5
}