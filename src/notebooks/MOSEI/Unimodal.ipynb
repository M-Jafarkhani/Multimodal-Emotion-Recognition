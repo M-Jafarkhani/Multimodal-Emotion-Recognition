{
  "cells": [
    {
      "cell_type": "markdown",
      "metadata": {},
      "source": [
        "# Unimodal - CMU-MOSEI"
      ]
    },
    {
      "cell_type": "code",
      "execution_count": null,
      "metadata": {
        "colab": {
          "base_uri": "https://localhost:8080/"
        },
        "id": "KYSzl-AZhYqs",
        "outputId": "ef037e10-16a4-441c-93a7-a9f3462d9e95"
      },
      "outputs": [],
      "source": [
        "!git clone https://github.com/M-Jafarkhani/Multimodal-Emotion-Recognition"
      ]
    },
    {
      "cell_type": "code",
      "execution_count": 2,
      "metadata": {
        "colab": {
          "base_uri": "https://localhost:8080/",
          "height": 125
        },
        "id": "dPVJPm3iTSG_",
        "outputId": "f232f893-9dae-4ee8-ddde-eef46804abad"
      },
      "outputs": [
        {
          "name": "stderr",
          "output_type": "stream",
          "text": [
            "Downloading...\n",
            "From (original): https://drive.google.com/uc?id=1zFOBHijVppTiyteSsi0aTFYPEsda_AOk\n",
            "From (redirected): https://drive.google.com/uc?id=1zFOBHijVppTiyteSsi0aTFYPEsda_AOk&confirm=t&uuid=31c92655-9df8-4349-a023-2378d9a1394a\n",
            "To: /content/mosei_raw.pkl\n",
            "100%|██████████| 9.94G/9.94G [00:55<00:00, 179MB/s]\n"
          ]
        },
        {
          "data": {
            "application/vnd.google.colaboratory.intrinsic+json": {
              "type": "string"
            },
            "text/plain": [
              "'mosei_raw.pkl'"
            ]
          },
          "execution_count": 2,
          "metadata": {},
          "output_type": "execute_result"
        }
      ],
      "source": [
        "import gdown\n",
        "\n",
        "file_id = \"1zFOBHijVppTiyteSsi0aTFYPEsda_AOk\"\n",
        "destination = \"mosei_raw.pkl\"\n",
        "\n",
        "gdown.download(\n",
        "    f\"https://drive.google.com/uc?id={file_id}\", destination, quiet=False)"
      ]
    },
    {
      "cell_type": "code",
      "execution_count": 3,
      "metadata": {
        "id": "sC___ekEm3os"
      },
      "outputs": [],
      "source": [
        "import sys\n",
        "import torch\n",
        "import matplotlib.pyplot as plt\n",
        "\n",
        "sys.path.append('/content/Multimodal-Emotion-Recognition/src')"
      ]
    },
    {
      "cell_type": "code",
      "execution_count": 4,
      "metadata": {
        "id": "YPqzgJJVhmrM"
      },
      "outputs": [],
      "source": [
        "from loader import get_dataloader\n",
        "from unimodals.modules import GRU, MLP\n",
        "from training.unimodal import train, test\n",
        "from utils import get_default_device, save_results"
      ]
    },
    {
      "cell_type": "code",
      "execution_count": 5,
      "metadata": {
        "id": "fjwNto-UkYsP"
      },
      "outputs": [],
      "source": [
        "traindata, validdata, testdata = get_dataloader(\n",
        "    \"/content/mosei_raw.pkl\", max_pad=True, max_seq_len=50\n",
        ")"
      ]
    },
    {
      "cell_type": "code",
      "execution_count": 6,
      "metadata": {
        "colab": {
          "base_uri": "https://localhost:8080/"
        },
        "id": "cBg6oFW8T9FR",
        "outputId": "9348105e-f5b1-4720-86d8-a50c2843d100"
      },
      "outputs": [
        {
          "name": "stdout",
          "output_type": "stream",
          "text": [
            "cuda\n"
          ]
        }
      ],
      "source": [
        "device = get_default_device()\n",
        "print(device)"
      ]
    },
    {
      "cell_type": "code",
      "execution_count": 7,
      "metadata": {
        "id": "K7KnX_vDT7Uf"
      },
      "outputs": [],
      "source": [
        "modality_num = 2\n",
        "\n",
        "encoder = GRU(\n",
        "    300, 600, dropout=True, has_padding=False, batch_first=True, last_only=True\n",
        ").to(device)\n",
        "\n",
        "head = MLP(600, 512, 1).to(device)\n"
      ]
    },
    {
      "cell_type": "code",
      "execution_count": 8,
      "metadata": {
        "colab": {
          "base_uri": "https://localhost:8080/"
        },
        "id": "U2PEJEgYllya",
        "outputId": "bf5b7cee-2063-43e7-e0a9-f1756eb9386b"
      },
      "outputs": [
        {
          "name": "stdout",
          "output_type": "stream",
          "text": [
            "Epoch [1/100]\n",
            "Train Loss: 0.8370\n",
            "Valid Loss: 0.8195\n",
            "Saving Best\n",
            "\n",
            "Epoch [2/100]\n",
            "Train Loss: 0.6864\n",
            "Valid Loss: 0.6239\n",
            "Saving Best\n",
            "\n",
            "Epoch [3/100]\n",
            "Train Loss: 0.6099\n",
            "Valid Loss: 0.5963\n",
            "Saving Best\n",
            "\n",
            "Epoch [4/100]\n",
            "Train Loss: 0.5556\n",
            "Valid Loss: 0.6118\n",
            "\n",
            "Epoch [5/100]\n",
            "Train Loss: 0.5161\n",
            "Valid Loss: 0.5911\n",
            "Saving Best\n",
            "\n",
            "Epoch [6/100]\n",
            "Train Loss: 0.6651\n",
            "Valid Loss: 0.6339\n",
            "\n",
            "Epoch [7/100]\n",
            "Train Loss: 0.5018\n",
            "Valid Loss: 0.5959\n",
            "\n",
            "Epoch [8/100]\n",
            "Train Loss: 0.4292\n",
            "Valid Loss: 0.6005\n",
            "\n",
            "Epoch [9/100]\n",
            "Train Loss: 0.3870\n",
            "Valid Loss: 0.6050\n",
            "\n",
            "Epoch [10/100]\n",
            "Train Loss: 0.3544\n",
            "Valid Loss: 0.6169\n",
            "\n",
            "Epoch [11/100]\n",
            "Train Loss: 0.3319\n",
            "Valid Loss: 0.6282\n",
            "\n",
            "Epoch [12/100]\n",
            "Train Loss: 0.3150\n",
            "Valid Loss: 0.6015\n",
            "\n",
            "Epoch [13/100]\n",
            "Train Loss: 0.2986\n",
            "Valid Loss: 0.6289\n",
            "\n",
            "Epoch [14/100]\n",
            "Train Loss: 0.2817\n",
            "Valid Loss: 0.6193\n",
            "\n",
            "Epoch [15/100]\n",
            "Train Loss: 0.2700\n",
            "Valid Loss: 0.6227\n",
            "\n",
            "Epoch [16/100]\n",
            "Train Loss: 0.2596\n",
            "Valid Loss: 0.6284\n",
            "\n",
            "Epoch [17/100]\n",
            "Train Loss: 0.2551\n",
            "Valid Loss: 0.6239\n",
            "\n",
            "Epoch [18/100]\n",
            "Train Loss: 0.2478\n",
            "Valid Loss: 0.6237\n",
            "\n",
            "Epoch [19/100]\n",
            "Train Loss: 0.2395\n",
            "Valid Loss: 0.6129\n",
            "\n",
            "Epoch [20/100]\n",
            "Train Loss: 0.2328\n",
            "Valid Loss: 0.6304\n",
            "\n",
            "Epoch [21/100]\n",
            "Train Loss: 0.2291\n",
            "Valid Loss: 0.6415\n",
            "\n",
            "Epoch [22/100]\n",
            "Train Loss: 0.2259\n",
            "Valid Loss: 0.6209\n",
            "\n",
            "Epoch [23/100]\n",
            "Train Loss: 0.2234\n",
            "Valid Loss: 0.6328\n",
            "\n",
            "Epoch [24/100]\n",
            "Train Loss: 0.2163\n",
            "Valid Loss: 0.6211\n",
            "\n",
            "Epoch [25/100]\n",
            "Train Loss: 0.2150\n",
            "Valid Loss: 0.6121\n",
            "\n",
            "Epoch [26/100]\n",
            "Train Loss: 0.2120\n",
            "Valid Loss: 0.6156\n",
            "\n",
            "Epoch [27/100]\n",
            "Train Loss: 0.2104\n",
            "Valid Loss: 0.6286\n",
            "\n",
            "Epoch [28/100]\n",
            "Train Loss: 0.2080\n",
            "Valid Loss: 0.6241\n",
            "\n",
            "Epoch [29/100]\n",
            "Train Loss: 0.2080\n",
            "Valid Loss: 0.6217\n",
            "\n",
            "Epoch [30/100]\n",
            "Train Loss: 0.2119\n",
            "Valid Loss: 0.6213\n",
            "\n",
            "Epoch [31/100]\n",
            "Train Loss: 0.2026\n",
            "Valid Loss: 0.6312\n",
            "\n",
            "Epoch [32/100]\n",
            "Train Loss: 0.1998\n",
            "Valid Loss: 0.6249\n",
            "\n",
            "Epoch [33/100]\n",
            "Train Loss: 0.1991\n",
            "Valid Loss: 0.6255\n",
            "\n",
            "Epoch [34/100]\n",
            "Train Loss: 0.1962\n",
            "Valid Loss: 0.6272\n",
            "\n",
            "Epoch [35/100]\n",
            "Train Loss: 0.1985\n",
            "Valid Loss: 0.6316\n",
            "\n",
            "Epoch [36/100]\n",
            "Train Loss: 0.1954\n",
            "Valid Loss: 0.6311\n",
            "\n",
            "Epoch [37/100]\n",
            "Train Loss: 0.1939\n",
            "Valid Loss: 0.6385\n",
            "\n",
            "Epoch [38/100]\n",
            "Train Loss: 0.1966\n",
            "Valid Loss: 0.6229\n",
            "\n",
            "Epoch [39/100]\n",
            "Train Loss: 0.1945\n",
            "Valid Loss: 0.6205\n",
            "\n",
            "Epoch [40/100]\n",
            "Train Loss: 0.3721\n",
            "Valid Loss: 0.6513\n",
            "\n",
            "Epoch [41/100]\n",
            "Train Loss: 0.4118\n",
            "Valid Loss: 0.6333\n",
            "\n",
            "Epoch [42/100]\n",
            "Train Loss: 0.3084\n",
            "Valid Loss: 0.6326\n",
            "\n",
            "Epoch [43/100]\n",
            "Train Loss: 0.2545\n",
            "Valid Loss: 0.6305\n",
            "\n",
            "Epoch [44/100]\n",
            "Train Loss: 0.2268\n",
            "Valid Loss: 0.6344\n",
            "\n",
            "Epoch [45/100]\n",
            "Train Loss: 0.2172\n",
            "Valid Loss: 0.6293\n",
            "\n",
            "Epoch [46/100]\n",
            "Train Loss: 0.2061\n",
            "Valid Loss: 0.6286\n",
            "\n",
            "Epoch [47/100]\n",
            "Train Loss: 0.1992\n",
            "Valid Loss: 0.6331\n",
            "\n",
            "Epoch [48/100]\n",
            "Train Loss: 0.2051\n",
            "Valid Loss: 0.6303\n",
            "\n",
            "Epoch [49/100]\n",
            "Train Loss: 0.2026\n",
            "Valid Loss: 0.6254\n",
            "\n",
            "Epoch [50/100]\n",
            "Train Loss: 0.2042\n",
            "Valid Loss: 0.6417\n",
            "\n",
            "Epoch [51/100]\n",
            "Train Loss: 0.2050\n",
            "Valid Loss: 0.6453\n",
            "\n",
            "Epoch [52/100]\n",
            "Train Loss: 0.2106\n",
            "Valid Loss: 0.6414\n",
            "\n",
            "Epoch [53/100]\n",
            "Train Loss: 0.2109\n",
            "Valid Loss: 0.6293\n",
            "\n",
            "Epoch [54/100]\n",
            "Train Loss: 0.2049\n",
            "Valid Loss: 0.6495\n",
            "\n",
            "Epoch [55/100]\n",
            "Train Loss: 0.2097\n",
            "Valid Loss: 0.6424\n",
            "\n",
            "Epoch [56/100]\n",
            "Train Loss: 0.2126\n",
            "Valid Loss: 0.6370\n",
            "\n",
            "Epoch [57/100]\n",
            "Train Loss: 0.1980\n",
            "Valid Loss: 0.6387\n",
            "\n",
            "Epoch [58/100]\n",
            "Train Loss: 0.1987\n",
            "Valid Loss: 0.6358\n",
            "\n",
            "Epoch [59/100]\n",
            "Train Loss: 0.2094\n",
            "Valid Loss: 0.6410\n",
            "\n",
            "Epoch [60/100]\n",
            "Train Loss: 0.2052\n",
            "Valid Loss: 0.6522\n",
            "\n",
            "Epoch [61/100]\n",
            "Train Loss: 0.1954\n",
            "Valid Loss: 0.6409\n",
            "\n",
            "Epoch [62/100]\n",
            "Train Loss: 0.1963\n",
            "Valid Loss: 0.6412\n",
            "\n",
            "Epoch [63/100]\n",
            "Train Loss: 0.1989\n",
            "Valid Loss: 0.6466\n",
            "\n",
            "Epoch [64/100]\n",
            "Train Loss: 0.1986\n",
            "Valid Loss: 0.6341\n",
            "\n",
            "Epoch [65/100]\n",
            "Train Loss: 0.1878\n",
            "Valid Loss: 0.6372\n",
            "\n",
            "Epoch [66/100]\n",
            "Train Loss: 0.1860\n",
            "Valid Loss: 0.6380\n",
            "\n",
            "Epoch [67/100]\n",
            "Train Loss: 0.1890\n",
            "Valid Loss: 0.6517\n",
            "\n",
            "Epoch [68/100]\n",
            "Train Loss: 0.2104\n",
            "Valid Loss: 0.6489\n",
            "\n",
            "Epoch [69/100]\n",
            "Train Loss: 0.2113\n",
            "Valid Loss: 0.6454\n",
            "\n",
            "Epoch [70/100]\n",
            "Train Loss: 0.2000\n",
            "Valid Loss: 0.6405\n",
            "\n",
            "Epoch [71/100]\n",
            "Train Loss: 0.1947\n",
            "Valid Loss: 0.6476\n",
            "\n",
            "Epoch [72/100]\n",
            "Train Loss: 0.1855\n",
            "Valid Loss: 0.6297\n",
            "\n",
            "Epoch [73/100]\n",
            "Train Loss: 0.1866\n",
            "Valid Loss: 0.6480\n",
            "\n",
            "Epoch [74/100]\n",
            "Train Loss: 0.1895\n",
            "Valid Loss: 0.6424\n",
            "\n",
            "Epoch [75/100]\n",
            "Train Loss: 0.1991\n",
            "Valid Loss: 0.6514\n",
            "\n",
            "Epoch [76/100]\n",
            "Train Loss: 0.1974\n",
            "Valid Loss: 0.6405\n",
            "\n",
            "Epoch [77/100]\n",
            "Train Loss: 0.1918\n",
            "Valid Loss: 0.6419\n",
            "\n",
            "Epoch [78/100]\n",
            "Train Loss: 0.1853\n",
            "Valid Loss: 0.6456\n",
            "\n",
            "Epoch [79/100]\n",
            "Train Loss: 0.1928\n",
            "Valid Loss: 0.6523\n",
            "\n",
            "Epoch [80/100]\n",
            "Train Loss: 0.2032\n",
            "Valid Loss: 0.6401\n",
            "\n",
            "Epoch [81/100]\n",
            "Train Loss: 0.2078\n",
            "Valid Loss: 0.6384\n",
            "\n",
            "Epoch [82/100]\n",
            "Train Loss: 0.1891\n",
            "Valid Loss: 0.6266\n",
            "\n",
            "Epoch [83/100]\n",
            "Train Loss: 0.1889\n",
            "Valid Loss: 0.6482\n",
            "\n",
            "Epoch [84/100]\n",
            "Train Loss: 0.1924\n",
            "Valid Loss: 0.6287\n",
            "\n",
            "Epoch [85/100]\n",
            "Train Loss: 0.1873\n",
            "Valid Loss: 0.6523\n",
            "\n",
            "Epoch [86/100]\n",
            "Train Loss: 0.1932\n",
            "Valid Loss: 0.6309\n",
            "\n",
            "Epoch [87/100]\n",
            "Train Loss: 0.1985\n",
            "Valid Loss: 0.6606\n",
            "\n",
            "Epoch [88/100]\n",
            "Train Loss: 0.1873\n",
            "Valid Loss: 0.6417\n",
            "\n",
            "Epoch [89/100]\n",
            "Train Loss: 0.1880\n",
            "Valid Loss: 0.6529\n",
            "\n",
            "Epoch [90/100]\n",
            "Train Loss: 0.1887\n",
            "Valid Loss: 0.6464\n",
            "\n",
            "Epoch [91/100]\n",
            "Train Loss: 0.1793\n",
            "Valid Loss: 0.6442\n",
            "\n",
            "Epoch [92/100]\n",
            "Train Loss: 0.1914\n",
            "Valid Loss: 0.6444\n",
            "\n",
            "Epoch [93/100]\n",
            "Train Loss: 0.1976\n",
            "Valid Loss: 0.6500\n",
            "\n",
            "Epoch [94/100]\n",
            "Train Loss: 0.2118\n",
            "Valid Loss: 0.6496\n",
            "\n",
            "Epoch [95/100]\n",
            "Train Loss: 0.1999\n",
            "Valid Loss: 0.6569\n",
            "\n",
            "Epoch [96/100]\n",
            "Train Loss: 0.1829\n",
            "Valid Loss: 0.6322\n",
            "\n",
            "Epoch [97/100]\n",
            "Train Loss: 0.1773\n",
            "Valid Loss: 0.6415\n",
            "\n",
            "Epoch [98/100]\n",
            "Train Loss: 0.1887\n",
            "Valid Loss: 0.6315\n",
            "\n",
            "Epoch [99/100]\n",
            "Train Loss: 0.1894\n",
            "Valid Loss: 0.6472\n",
            "\n",
            "Epoch [100/100]\n",
            "Train Loss: 0.1923\n",
            "Valid Loss: 0.6465\n",
            "\n",
            "Training Time: 9m53s\n",
            "Training Params: 1931825\n"
          ]
        }
      ],
      "source": [
        "OUTPUT_MODEL_FILE_NAME = 'MOSEI_Unimodal'\n",
        "train_losses, valid_losses = train(\n",
        "    encoder,\n",
        "    head,\n",
        "    traindata,\n",
        "    validdata,\n",
        "    100,\n",
        "    task=\"regression\",\n",
        "    optimtype=torch.optim.AdamW,\n",
        "    lr=2e-3,\n",
        "    weight_decay=0.01,\n",
        "    criterion=torch.nn.L1Loss(),\n",
        "    save_encoder=f\"/content/{OUTPUT_MODEL_FILE_NAME}_encoder.pt\",\n",
        "    save_head=f\"/content/{OUTPUT_MODEL_FILE_NAME}_head.pt\",\n",
        "    modalnum=modality_num,\n",
        ")\n"
      ]
    },
    {
      "cell_type": "code",
      "execution_count": 9,
      "metadata": {
        "colab": {
          "base_uri": "https://localhost:8080/",
          "height": 490
        },
        "id": "52L2-Mlsm9XR",
        "outputId": "f860f06a-a3cc-46f1-aef3-a6f955ee38bf"
      },
      "outputs": [
        {
          "data": {
            "text/plain": [
              "Text(0.5, 1.0, 'Loss vs. No. of epochs')"
            ]
          },
          "execution_count": 9,
          "metadata": {},
          "output_type": "execute_result"
        },
        {
          "data": {
            "image/png": "[encoded data removed]",
            "text/plain": [
              "<Figure size 640x480 with 1 Axes>"
            ]
          },
          "metadata": {},
          "output_type": "display_data"
        }
      ],
      "source": [
        "plt.plot(train_losses, label='Train Loss')\n",
        "plt.plot(valid_losses, label='Validation Loss')\n",
        "plt.xlabel('Epochs')\n",
        "plt.ylabel('Loss')\n",
        "plt.legend()\n",
        "plt.grid(True)\n",
        "plt.title('Loss vs. No. of epochs')"
      ]
    },
    {
      "cell_type": "code",
      "execution_count": 10,
      "metadata": {
        "id": "M3tm8mBInErP"
      },
      "outputs": [],
      "source": [
        "save_results(train_losses, valid_losses, f'/content/{OUTPUT_MODEL_FILE_NAME}.pkl')"
      ]
    },
    {
      "cell_type": "code",
      "execution_count": 11,
      "metadata": {
        "colab": {
          "base_uri": "https://localhost:8080/"
        },
        "id": "fSnB-YCgnOsC",
        "outputId": "93383769-c748-4537-92ba-27678823005c"
      },
      "outputs": [
        {
          "name": "stderr",
          "output_type": "stream",
          "text": [
            "<ipython-input-11-873f8a5316df>:1: FutureWarning: You are using `torch.load` with `weights_only=False` (the current default value), which uses the default pickle module implicitly. It is possible to construct malicious pickle data which will execute arbitrary code during unpickling (See https://github.com/pytorch/pytorch/blob/main/SECURITY.md#untrusted-models for more details). In a future release, the default value for `weights_only` will be flipped to `True`. This limits the functions that could be executed during unpickling. Arbitrary objects will no longer be allowed to be loaded via this mode unless they are explicitly allowlisted by the user via `torch.serialization.add_safe_globals`. We recommend you start setting `weights_only=True` for any use case where you don't have full control of the loaded file. Please open an issue on GitHub for any issues related to this experimental feature.\n",
            "  encoder = torch.load(\n",
            "<ipython-input-11-873f8a5316df>:4: FutureWarning: You are using `torch.load` with `weights_only=False` (the current default value), which uses the default pickle module implicitly. It is possible to construct malicious pickle data which will execute arbitrary code during unpickling (See https://github.com/pytorch/pytorch/blob/main/SECURITY.md#untrusted-models for more details). In a future release, the default value for `weights_only` will be flipped to `True`. This limits the functions that could be executed during unpickling. Arbitrary objects will no longer be allowed to be loaded via this mode unless they are explicitly allowlisted by the user via `torch.serialization.add_safe_globals`. We recommend you start setting `weights_only=True` for any use case where you don't have full control of the loaded file. Please open an issue on GitHub for any issues related to this experimental feature.\n",
            "  head = torch.load(\n"
          ]
        },
        {
          "name": "stdout",
          "output_type": "stream",
          "text": [
            "Loss: 0.6181\n",
            "Recall: 80.1210% | Total Accuracy: 70.0129%\n",
            "Inference Time: 1s378ms\n",
            "Inference Params: 1931825\n"
          ]
        }
      ],
      "source": [
        "encoder = torch.load(\n",
        "    f\"/content/{OUTPUT_MODEL_FILE_NAME}_encoder.pt\"\n",
        ").to(device)\n",
        "head = torch.load(\n",
        "    f\"/content/{OUTPUT_MODEL_FILE_NAME}_head.pt\"\n",
        ").to(device)\n",
        "\n",
        "test(\n",
        "    encoder,\n",
        "    head,\n",
        "    testdata,\n",
        "    criterion=torch.nn.L1Loss(),\n",
        "    task=\"posneg-classification\",\n",
        "    modalnum=modality_num,\n",
        ")"
      ]
    }
  ],
  "metadata": {
    "accelerator": "GPU",
    "colab": {
      "gpuType": "T4",
      "machine_shape": "hm",
      "provenance": []
    },
    "kernelspec": {
      "display_name": "Python 3",
      "name": "python3"
    },
    "language_info": {
      "name": "python"
    }
  },
  "nbformat": 4,
  "nbformat_minor": 0
}
