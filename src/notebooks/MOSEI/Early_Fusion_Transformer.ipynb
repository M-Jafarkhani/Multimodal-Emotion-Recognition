{
  "cells": [
    {
      "cell_type": "markdown",
      "id": "067cb8f5-a1c8-40d0-8524-0b28f8e4b586",
      "metadata": {
        "id": "067cb8f5-a1c8-40d0-8524-0b28f8e4b586"
      },
      "source": [
        "# Early Fusion Transformer Model - CMU-MOSEI Dataset"
      ]
    },
    {
      "cell_type": "markdown",
      "id": "fc015c8e-f315-40d9-823c-6fc3626a4510",
      "metadata": {
        "id": "fc015c8e-f315-40d9-823c-6fc3626a4510"
      },
      "source": [
        "## Importing Libraries"
      ]
    },
    {
      "cell_type": "code",
      "execution_count": 1,
      "id": "6eFMw98-U-Hy",
      "metadata": {
        "colab": {
          "base_uri": "https://localhost:8080/"
        },
        "id": "6eFMw98-U-Hy",
        "outputId": "e62e9b3e-1a03-4a04-f33a-b91dd42e1183"
      },
      "outputs": [
        {
          "name": "stdout",
          "output_type": "stream",
          "text": [
            "Cloning into 'Multimodal-Sentiment-Analysis'...\n",
            "remote: Enumerating objects: 367, done.\u001b[K\n",
            "remote: Counting objects: 100% (226/226), done.\u001b[K\n",
            "remote: Compressing objects: 100% (157/157), done.\u001b[K\n",
            "remote: Total 367 (delta 102), reused 152 (delta 50), pack-reused 141 (from 1)\u001b[K\n",
            "Receiving objects: 100% (367/367), 279.93 MiB | 30.47 MiB/s, done.\n",
            "Resolving deltas: 100% (140/140), done.\n",
            "Updating files: 100% (56/56), done.\n"
          ]
        }
      ],
      "source": [
        "!git clone https://github.com/M-Jafarkhani/Multimodal-Sentiment-Analysis"
      ]
    },
    {
      "cell_type": "code",
      "execution_count": 2,
      "id": "85Ahs68_WLkH",
      "metadata": {
        "colab": {
          "base_uri": "https://localhost:8080/"
        },
        "id": "85Ahs68_WLkH",
        "outputId": "c49d4f50-0879-45fb-9e1f-0fb686022d25"
      },
      "outputs": [
        {
          "name": "stdout",
          "output_type": "stream",
          "text": [
            "Collecting memory_profiler\n",
            "  Downloading memory_profiler-0.61.0-py3-none-any.whl.metadata (20 kB)\n",
            "Requirement already satisfied: psutil in /usr/local/lib/python3.10/dist-packages (from memory_profiler) (5.9.5)\n",
            "Downloading memory_profiler-0.61.0-py3-none-any.whl (31 kB)\n",
            "Installing collected packages: memory_profiler\n",
            "Successfully installed memory_profiler-0.61.0\n"
          ]
        }
      ],
      "source": [
        "!pip install memory_profiler"
      ]
    },
    {
      "cell_type": "code",
      "execution_count": 3,
      "id": "2PhLKf7aVCfv",
      "metadata": {
        "colab": {
          "base_uri": "https://localhost:8080/",
          "height": 125
        },
        "id": "2PhLKf7aVCfv",
        "outputId": "3e2cc6ad-1667-4012-b754-a290290151ec"
      },
      "outputs": [
        {
          "name": "stderr",
          "output_type": "stream",
          "text": [
            "Downloading...\n",
            "From (original): https://drive.google.com/uc?id=180l4pN6XAv8-OAYQ6OrMheFUMwtqUWbz\n",
            "From (redirected): https://drive.google.com/uc?id=180l4pN6XAv8-OAYQ6OrMheFUMwtqUWbz&confirm=t&uuid=33c032fd-f45a-4035-91e3-57eaa117f72e\n",
            "To: /content/mosei_senti_data.pkl\n",
            "100%|██████████| 3.73G/3.73G [00:56<00:00, 65.8MB/s]\n"
          ]
        },
        {
          "data": {
            "application/vnd.google.colaboratory.intrinsic+json": {
              "type": "string"
            },
            "text/plain": [
              "'mosei_senti_data.pkl'"
            ]
          },
          "execution_count": 3,
          "metadata": {},
          "output_type": "execute_result"
        }
      ],
      "source": [
        "import gdown\n",
        "\n",
        "file_id = \"180l4pN6XAv8-OAYQ6OrMheFUMwtqUWbz\"\n",
        "destination = \"mosei_senti_data.pkl\"  # Name to save the file as\n",
        "\n",
        "# Download the file\n",
        "gdown.download(\n",
        "    f\"https://drive.google.com/uc?id={file_id}\", destination, quiet=False)"
      ]
    },
    {
      "cell_type": "code",
      "execution_count": 4,
      "id": "d4a4adae-a451-493d-9ddb-0efb28537923",
      "metadata": {
        "id": "d4a4adae-a451-493d-9ddb-0efb28537923"
      },
      "outputs": [],
      "source": [
        "import sys\n",
        "import torch\n",
        "import matplotlib.pyplot as plt\n",
        "\n",
        "sys.path.append('/content/Multimodal-Sentiment-Analysis/src')"
      ]
    },
    {
      "cell_type": "markdown",
      "id": "52a35966-1fba-4107-a1fc-1137f26224bf",
      "metadata": {
        "id": "52a35966-1fba-4107-a1fc-1137f26224bf"
      },
      "source": [
        "## Importing Helper Functions"
      ]
    },
    {
      "cell_type": "code",
      "execution_count": 5,
      "id": "b8d45f84-62c1-4315-9010-45d345dda90d",
      "metadata": {
        "id": "b8d45f84-62c1-4315-9010-45d345dda90d"
      },
      "outputs": [],
      "source": [
        "from loader import get_dataloader\n",
        "from unimodals.modules import Transformer, MLP, Sequential, Identity\n",
        "from training.supervised import train, test\n",
        "from fusions.modules import ConcatEarly\n",
        "from utils import get_default_device, save_results"
      ]
    },
    {
      "cell_type": "markdown",
      "id": "8dc9b148-2e2f-4cfa-a7d4-d53b639f5b18",
      "metadata": {
        "id": "8dc9b148-2e2f-4cfa-a7d4-d53b639f5b18"
      },
      "source": [
        "## Loading the Dataset"
      ]
    },
    {
      "cell_type": "code",
      "execution_count": 6,
      "id": "7f193c63-0bfb-4248-a2a8-e81ca20a7c14",
      "metadata": {
        "id": "7f193c63-0bfb-4248-a2a8-e81ca20a7c14"
      },
      "outputs": [],
      "source": [
        "FILE_PATH = '/content/mosei_senti_data.pkl'\n",
        "train_data, valid_data, test_data = get_dataloader(FILE_PATH)"
      ]
    },
    {
      "cell_type": "code",
      "execution_count": 7,
      "id": "75b021aa-09ec-4739-92d3-028a0ed54287",
      "metadata": {
        "colab": {
          "base_uri": "https://localhost:8080/"
        },
        "id": "75b021aa-09ec-4739-92d3-028a0ed54287",
        "outputId": "854036ff-a02c-4da2-97f5-cdda32c8d38d"
      },
      "outputs": [
        {
          "name": "stdout",
          "output_type": "stream",
          "text": [
            "cuda\n"
          ]
        }
      ],
      "source": [
        "device = get_default_device()\n",
        "print(device)"
      ]
    },
    {
      "cell_type": "markdown",
      "id": "a1b80fea-4d34-4db8-a1ed-9ca4e853bbd4",
      "metadata": {
        "id": "a1b80fea-4d34-4db8-a1ed-9ca4e853bbd4"
      },
      "source": [
        "## Model Architecture"
      ]
    },
    {
      "cell_type": "code",
      "execution_count": 8,
      "id": "59286eb3-949a-4afb-b4f4-0b115b885f92",
      "metadata": {
        "colab": {
          "base_uri": "https://localhost:8080/"
        },
        "id": "59286eb3-949a-4afb-b4f4-0b115b885f92",
        "outputId": "48c8dc91-caf9-46f3-e2a4-6d437a11e7d8"
      },
      "outputs": [
        {
          "name": "stderr",
          "output_type": "stream",
          "text": [
            "/usr/local/lib/python3.10/dist-packages/torch/nn/modules/transformer.py:379: UserWarning: enable_nested_tensor is True, but self.use_nested_tensor is False because encoder_layer.self_attn.batch_first was not True(use batch_first for better inference performance)\n",
            "  warnings.warn(\n"
          ]
        }
      ],
      "source": [
        "encoders = [Identity().to(device), Identity().to(device), Identity().to(device)]\n",
        "head = Sequential(Transformer(409, 300).to(device), MLP(300, 128, 1)).to(device)\n",
        "fusion = ConcatEarly().to(device)"
      ]
    },
    {
      "cell_type": "markdown",
      "id": "4575e9d5-572c-4810-ba00-030f8ded6f05",
      "metadata": {
        "id": "4575e9d5-572c-4810-ba00-030f8ded6f05"
      },
      "source": [
        "## Training"
      ]
    },
    {
      "cell_type": "code",
      "execution_count": 10,
      "id": "d9a645da-32a4-419a-9d64-2f499da509ac",
      "metadata": {
        "colab": {
          "base_uri": "https://localhost:8080/"
        },
        "id": "d9a645da-32a4-419a-9d64-2f499da509ac",
        "outputId": "38aeff3b-7c28-4538-b25c-8b260f7b0fd6"
      },
      "outputs": [
        {
          "name": "stdout",
          "output_type": "stream",
          "text": [
            "Epoch [1/200]\n",
            "Train Loss: 0.8130\n",
            "Valid Loss: 0.7685\n",
            "Saving Best\n",
            "\n",
            "Epoch [2/200]\n",
            "Train Loss: 0.8001\n",
            "Valid Loss: 0.7311\n",
            "Saving Best\n",
            "\n",
            "Epoch [3/200]\n",
            "Train Loss: 0.7869\n",
            "Valid Loss: 0.7142\n",
            "Saving Best\n",
            "\n",
            "Epoch [4/200]\n",
            "Train Loss: 0.7793\n",
            "Valid Loss: 0.7135\n",
            "Saving Best\n",
            "\n",
            "Epoch [5/200]\n",
            "Train Loss: 0.7731\n",
            "Valid Loss: 0.7180\n",
            "\n",
            "Epoch [6/200]\n",
            "Train Loss: 0.7550\n",
            "Valid Loss: 0.7249\n",
            "\n",
            "Epoch [7/200]\n",
            "Train Loss: 0.7516\n",
            "Valid Loss: 0.7014\n",
            "Saving Best\n",
            "\n",
            "Epoch [8/200]\n",
            "Train Loss: 0.7245\n",
            "Valid Loss: 0.6657\n",
            "Saving Best\n",
            "\n",
            "Epoch [9/200]\n",
            "Train Loss: 0.7055\n",
            "Valid Loss: 0.7119\n",
            "\n",
            "Epoch [10/200]\n",
            "Train Loss: 0.6825\n",
            "Valid Loss: 0.6456\n",
            "Saving Best\n",
            "\n",
            "Epoch [11/200]\n",
            "Train Loss: 0.6675\n",
            "Valid Loss: 0.6356\n",
            "Saving Best\n",
            "\n",
            "Epoch [12/200]\n",
            "Train Loss: 0.6608\n",
            "Valid Loss: 0.6291\n",
            "Saving Best\n",
            "\n",
            "Epoch [13/200]\n",
            "Train Loss: 0.6536\n",
            "Valid Loss: 0.6272\n",
            "Saving Best\n",
            "\n",
            "Epoch [14/200]\n",
            "Train Loss: 0.6497\n",
            "Valid Loss: 0.6099\n",
            "Saving Best\n",
            "\n",
            "Epoch [15/200]\n",
            "Train Loss: 0.6371\n",
            "Valid Loss: 0.6198\n",
            "\n",
            "Epoch [16/200]\n",
            "Train Loss: 0.6387\n",
            "Valid Loss: 0.6305\n",
            "\n",
            "Epoch [17/200]\n",
            "Train Loss: 0.6299\n",
            "Valid Loss: 0.6192\n",
            "\n",
            "Epoch [18/200]\n",
            "Train Loss: 0.6256\n",
            "Valid Loss: 0.6198\n",
            "\n",
            "Epoch [19/200]\n",
            "Train Loss: 0.6219\n",
            "Valid Loss: 0.6442\n",
            "\n",
            "Epoch [20/200]\n",
            "Train Loss: 0.6185\n",
            "Valid Loss: 0.6435\n",
            "\n",
            "Epoch [21/200]\n",
            "Train Loss: 0.6171\n",
            "Valid Loss: 0.6367\n",
            "\n",
            "Epoch [22/200]\n",
            "Train Loss: 0.6103\n",
            "Valid Loss: 0.6163\n",
            "Training Time: 7m31s\n",
            "Training Peak Mem: 4814.96875\n",
            "Training Params: 8129097\n"
          ]
        }
      ],
      "source": [
        "OUTPUT_MODEL_FILE_NAME = \"MOSEI_Early_Fusion_Transformer\"\n",
        "train_losses, valid_losses = train(\n",
        "    encoders,\n",
        "    fusion,\n",
        "    head,\n",
        "    train_data,\n",
        "    valid_data,\n",
        "    200,\n",
        "    task=\"regression\",\n",
        "    optimtype=torch.optim.AdamW,\n",
        "    is_packed=True,\n",
        "    early_stop=True,\n",
        "    lr=1e-4,\n",
        "    save=f\"/content/Multimodal-Sentiment-Analysis/src/models/{OUTPUT_MODEL_FILE_NAME}.pt\",\n",
        "    weight_decay=0.01,\n",
        "    objective=torch.nn.L1Loss(),\n",
        ")\n"
      ]
    },
    {
      "cell_type": "code",
      "execution_count": 11,
      "id": "b0e7c33a-a68d-4292-a2b2-14e8a2e53500",
      "metadata": {
        "colab": {
          "base_uri": "https://localhost:8080/",
          "height": 490
        },
        "id": "b0e7c33a-a68d-4292-a2b2-14e8a2e53500",
        "outputId": "b0072b1f-15df-43f3-bd47-945a22f3588a"
      },
      "outputs": [
        {
          "data": {
            "text/plain": [
              "Text(0.5, 1.0, 'Loss vs. No. of epochs')"
            ]
          },
          "execution_count": 11,
          "metadata": {},
          "output_type": "execute_result"
        },
        {
          "data": {
            "image/png": "[encoded data removed]",
            "text/plain": [
              "<Figure size 640x480 with 1 Axes>"
            ]
          },
          "metadata": {},
          "output_type": "display_data"
        }
      ],
      "source": [
        "plt.plot(train_losses, label='Train Loss')\n",
        "plt.plot(valid_losses, label='Validation Loss')\n",
        "plt.xlabel('Epochs')\n",
        "plt.ylabel('Loss')\n",
        "plt.legend()\n",
        "plt.grid(True)\n",
        "plt.title('Loss vs. No. of epochs')"
      ]
    },
    {
      "cell_type": "code",
      "execution_count": 15,
      "id": "8bbd60df-8764-4fcd-a545-90860e5f8a2c",
      "metadata": {
        "id": "8bbd60df-8764-4fcd-a545-90860e5f8a2c"
      },
      "outputs": [],
      "source": [
        "save_results(train_losses, valid_losses, f'/content/Multimodal-Sentiment-Analysis/src/results/{OUTPUT_MODEL_FILE_NAME}.pkl')"
      ]
    },
    {
      "cell_type": "markdown",
      "id": "a2a0ca4a-2c05-4ba2-a6aa-1db0e341598b",
      "metadata": {
        "id": "a2a0ca4a-2c05-4ba2-a6aa-1db0e341598b"
      },
      "source": [
        "## Testing"
      ]
    },
    {
      "cell_type": "code",
      "execution_count": 18,
      "id": "d4352442-0d78-4195-bd04-2332af36a7f7",
      "metadata": {
        "colab": {
          "base_uri": "https://localhost:8080/"
        },
        "id": "d4352442-0d78-4195-bd04-2332af36a7f7",
        "outputId": "496d4dae-d709-4e7d-a614-3d080050c222"
      },
      "outputs": [
        {
          "name": "stderr",
          "output_type": "stream",
          "text": [
            "<ipython-input-18-82c888dfd27c>:1: FutureWarning: You are using `torch.load` with `weights_only=False` (the current default value), which uses the default pickle module implicitly. It is possible to construct malicious pickle data which will execute arbitrary code during unpickling (See https://github.com/pytorch/pytorch/blob/main/SECURITY.md#untrusted-models for more details). In a future release, the default value for `weights_only` will be flipped to `True`. This limits the functions that could be executed during unpickling. Arbitrary objects will no longer be allowed to be loaded via this mode unless they are explicitly allowlisted by the user via `torch.serialization.add_safe_globals`. We recommend you start setting `weights_only=True` for any use case where you don't have full control of the loaded file. Please open an issue on GitHub for any issues related to this experimental feature.\n",
            "  model = torch.load(f'/content/Multimodal-Sentiment-Analysis/models/{FILE_NAME}.pt').to(device)\n"
          ]
        },
        {
          "name": "stdout",
          "output_type": "stream",
          "text": [
            "Recall: 80.0276% | Total Accuracy: 69.6317%\n",
            "Inference Time: 2s619ms\n",
            "Inference Params: 8129097\n"
          ]
        }
      ],
      "source": [
        "model = torch.load(\n",
        "    f\"/content/Multimodal-Sentiment-Analysis/src/models/{OUTPUT_MODEL_FILE_NAME}.pt\"\n",
        ").to(device)\n",
        "\n",
        "test(\n",
        "    model,\n",
        "    test_data,\n",
        "    is_packed=True,\n",
        "    criterion=torch.nn.L1Loss(),\n",
        "    task=\"posneg-classification\"\n",
        ")\n"
      ]
    }
  ],
  "metadata": {
    "accelerator": "GPU",
    "colab": {
      "gpuType": "T4",
      "provenance": []
    },
    "kernelspec": {
      "display_name": "Python 3",
      "name": "python3"
    },
    "language_info": {
      "codemirror_mode": {
        "name": "ipython",
        "version": 3
      },
      "file_extension": ".py",
      "mimetype": "text/x-python",
      "name": "python",
      "nbconvert_exporter": "python",
      "pygments_lexer": "ipython3",
      "version": "3.11.7"
    }
  },
  "nbformat": 4,
  "nbformat_minor": 5
}
